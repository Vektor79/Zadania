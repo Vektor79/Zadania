{
 "cells": [
  {
   "cell_type": "markdown",
   "id": "norwegian-timer",
   "metadata": {},
   "source": [
    "# Najwyższa i najniższa cena\n",
    "\n",
    "Używając `sort_values` oraz danych z pliku _ceny_produktow_renamed.csv_ odpowiedz na poniższe pytania — użyj danych zagregowanych dla całej Polski (`province=='POLSKA'`):\n",
    "\n",
    "1. Jaki towar osiągnął największą cenę w 'zł' w całej historii? (pamiętaj o usunięciu wartości = 3000), \n",
    "1. Jaki towar osiągnął najniższą cenę w 'zł' w całej historii? (pamiętaj, by odfiltrować wartości = 0),\n",
    "\n",
    "Posortuj dane według następującego klucza:\n",
    "\n",
    "1. według kolumny - **product_types** - malejąco\n",
    "1. według kolumny - **value** - rosnąco"
   ]
  },
  {
   "cell_type": "code",
   "execution_count": null,
   "id": "signed-initial",
   "metadata": {},
   "outputs": [],
   "source": []
  }
 ],
 "metadata": {
  "kernelspec": {
   "display_name": "Python 3",
   "language": "python",
   "name": "python3"
  },
  "language_info": {
   "codemirror_mode": {
    "name": "ipython",
    "version": 3
   },
   "file_extension": ".py",
   "mimetype": "text/x-python",
   "name": "python",
   "nbconvert_exporter": "python",
   "pygments_lexer": "ipython3",
   "version": "3.8.6"
  }
 },
 "nbformat": 4,
 "nbformat_minor": 5
}
