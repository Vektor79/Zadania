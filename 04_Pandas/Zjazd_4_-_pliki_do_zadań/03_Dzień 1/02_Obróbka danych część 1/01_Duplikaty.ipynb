{
 "cells": [
  {
   "cell_type": "markdown",
   "id": "acoustic-static",
   "metadata": {},
   "source": [
    "# Modyfikacja nazw kolumn\n",
    "\n",
    "Wczytaj do DataFrame, plik **ceny_produktow.csv**. Zmodyfikuj nazwy kolumn tak, aby odpowiadały tym z pliku **ceny_produktow_renamed.csv**. Zadanie wykonaj w dwóch wariantach:\n",
    "\n",
    "1. Używając metody `rename`,\n",
    "1. Nadpisując wszystkie nazwy kolumn używając `columns`.\n",
    "\n",
    "Aby ujednolicić nazewnictwo oraz zminimalizować ryzyko **literówki**, możesz posłużyć się poniższym słownikiem:\n",
    "```\n",
    "{'Nazwa': 'province',\n",
    " 'Rodzaje towarów': 'product_types',\n",
    " 'Jednostka miary': 'currency',\n",
    " 'id': 'id',\n",
    " 'Rodzaje produktów': 'product_line',\n",
    " 'Wartosc': 'value',\n",
    " 'Data': 'date'}\n",
    "```\n",
    "\n",
    "> Metoda `columns` nadpisuje kolumny bezpośrednio na obiekcie (nie zwraca nowego DataFrame), dlatego, jeśli wykonasz najpierw krok 2, powyższa podpowiedź będzie bezużyteczna (kolumny już będą nadpisane)."
   ]
  },
  {
   "cell_type": "code",
   "execution_count": null,
   "id": "martial-river",
   "metadata": {},
   "outputs": [],
   "source": []
  }
 ],
 "metadata": {
  "kernelspec": {
   "display_name": "Python 3",
   "language": "python",
   "name": "python3"
  },
  "language_info": {
   "codemirror_mode": {
    "name": "ipython",
    "version": 3
   },
   "file_extension": ".py",
   "mimetype": "text/x-python",
   "name": "python",
   "nbconvert_exporter": "python",
   "pygments_lexer": "ipython3",
   "version": "3.8.6"
  }
 },
 "nbformat": 4,
 "nbformat_minor": 5
}
