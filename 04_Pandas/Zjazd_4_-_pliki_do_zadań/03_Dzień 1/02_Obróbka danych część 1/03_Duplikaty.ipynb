{
 "cells": [
  {
   "cell_type": "markdown",
   "id": "modern-metadata",
   "metadata": {},
   "source": [
    "# Duplikaty\n",
    "\n",
    "Korzystając z  pliku **ceny_produktow_renamed.csv**:\n",
    "\n",
    "1. sprawdź, ile wierszy jest zduplikowanych,\n",
    "1. używając `duplicated` sprawdź, które wiersze zostały zduplikowane.\n",
    "1. używając `drop_duplicates`, usuń z wyjściowego zbioru danych wszystkie duplikaty (zakładamy, że jeżeli wiersz posiada duplikat, to jest on błędny i powinien zostać usunięty) - wynik zapisz do nowej ramki,\n",
    "\n",
    "### Podpowiedzi:\n",
    "\n",
    "#### Podpunkt 2:\n",
    "Aby wyznaczyć, liczbę zduplikowanych wierszy użyj danych źródłowych oraz wyników z podpunktu 1.\n",
    "\n",
    "#### Podpunkt 3:\n",
    "\n",
    "1. użyj najpierw `duplicated`, aby znaleźć zduplikowane wiersze, \n",
    "1. użyj `loc`, aby je odseparować od wyjściowego zbioru, \n",
    "1. użyj `drop_duplicates` by otrzymać tylko te wiersze, które się duplikują."
   ]
  },
  {
   "cell_type": "code",
   "execution_count": null,
   "id": "brief-cuisine",
   "metadata": {},
   "outputs": [],
   "source": []
  }
 ],
 "metadata": {
  "kernelspec": {
   "display_name": "Python 3",
   "language": "python",
   "name": "python3"
  },
  "language_info": {
   "codemirror_mode": {
    "name": "ipython",
    "version": 3
   },
   "file_extension": ".py",
   "mimetype": "text/x-python",
   "name": "python",
   "nbconvert_exporter": "python",
   "pygments_lexer": "ipython3",
   "version": "3.8.6"
  }
 },
 "nbformat": 4,
 "nbformat_minor": 5
}
