{
 "cells": [
  {
   "cell_type": "markdown",
   "id": "honey-literacy",
   "metadata": {},
   "source": [
    "# Agregacja\n",
    "\n",
    "\n",
    "Używając danych z pliku **ceny_towarow_cleaned.csv**, zagreguj dane dla każdego produktu miesięcznie, a następnie wyznacz statystyki `min, max, median, mean, std` dla cen (kolumna **value**):\n",
    "\n",
    "1. pomiń w analizie dane ogólnograjowe,\n",
    "1. bezpośrednio na obiekcie z `groupby`,\n",
    "1. napisz pętle, która obliczy te wartości dla poszczególnych województw.\n",
    "\n",
    "Zadanie wykonaj używając metody `agg`, a dane zagreguj używając kolumn `'product','date'`."
   ]
  },
  {
   "cell_type": "code",
   "execution_count": null,
   "id": "turkish-disney",
   "metadata": {},
   "outputs": [],
   "source": []
  }
 ],
 "metadata": {
  "kernelspec": {
   "display_name": "Python 3",
   "language": "python",
   "name": "python3"
  },
  "language_info": {
   "codemirror_mode": {
    "name": "ipython",
    "version": 3
   },
   "file_extension": ".py",
   "mimetype": "text/x-python",
   "name": "python",
   "nbconvert_exporter": "python",
   "pygments_lexer": "ipython3",
   "version": "3.8.6"
  }
 },
 "nbformat": 4,
 "nbformat_minor": 5
}