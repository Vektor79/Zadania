{
 "cells": [
  {
   "cell_type": "markdown",
   "id": "suburban-kernel",
   "metadata": {},
   "source": [
    "# Grupowanie produktów\n",
    "\n",
    "Używając danych z pliku **ceny_produktow_cleaned.csv** dla województw, odpowiedz na następujące pytania:\n",
    "\n",
    "1. Jaka była średnia miesięczna cena poszczególnych towarów?\n",
    "1. Który produkt cechował się największą zmiennością cen na przestrzeni lat?\n",
    "\n",
    "Do analizy wykorzystaj kolumnę **product** oraz **value**.\n",
    "\n",
    "Dodatkowo:\n",
    "\n",
    "1. Zastanów się, czy nie są potrzebne jeszcze jakieś dodatkowe założenia do zadań.\n",
    "1. Dlaczego to zadanie można wykonać dopiero teraz, po wyczyszczeniu danych? Czy uważasz, że są jeszcze jakieś operacje potrzebne?"
   ]
  },
  {
   "cell_type": "code",
   "execution_count": null,
   "id": "obvious-cleaner",
   "metadata": {},
   "outputs": [],
   "source": []
  }
 ],
 "metadata": {
  "kernelspec": {
   "display_name": "Python 3",
   "language": "python",
   "name": "python3"
  },
  "language_info": {
   "codemirror_mode": {
    "name": "ipython",
    "version": 3
   },
   "file_extension": ".py",
   "mimetype": "text/x-python",
   "name": "python",
   "nbconvert_exporter": "python",
   "pygments_lexer": "ipython3",
   "version": "3.8.6"
  }
 },
 "nbformat": 4,
 "nbformat_minor": 5
}
