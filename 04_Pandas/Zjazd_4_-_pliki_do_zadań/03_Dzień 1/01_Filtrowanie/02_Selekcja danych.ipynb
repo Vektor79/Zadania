{
 "cells": [
  {
   "cell_type": "markdown",
   "id": "faced-sacrifice",
   "metadata": {},
   "source": [
    "# Selekcja danych do analizy\n",
    "\n",
    "Odpowiedz na następujące pytania:\n",
    "\n",
    "1. Jaka była średnia cena mieszanki marchwi i groszku za 1 kg w Polsce w 2015 roku?\n",
    "2. Jaka była średnia cena soku jabłkowego w latach 2016-2018 w województwie mazowieckim?\n",
    "3. Ile wynosiła średnia cena koncentratu pomidorowego w województwie dolnośląskim w latach 2003-2015? Czy wydaje Ci się ona racjonalna? <br>\n",
    "\n",
    "Zaproponuj, co można zrobić z wartościami równymi 0. Jak to wpływa na wyniki punktu 3.?\n",
    "\n",
    "> Wszystkie grupy produktów potrzebne do wykonania tego zadania znajdują się w kolumnie **product_types**"
   ]
  },
  {
   "cell_type": "code",
   "execution_count": null,
   "id": "promising-decline",
   "metadata": {},
   "outputs": [],
   "source": []
  }
 ],
 "metadata": {
  "kernelspec": {
   "display_name": "Python 3",
   "language": "python",
   "name": "python3"
  },
  "language_info": {
   "codemirror_mode": {
    "name": "ipython",
    "version": 3
   },
   "file_extension": ".py",
   "mimetype": "text/x-python",
   "name": "python",
   "nbconvert_exporter": "python",
   "pygments_lexer": "ipython3",
   "version": "3.8.6"
  }
 },
 "nbformat": 4,
 "nbformat_minor": 5
}
