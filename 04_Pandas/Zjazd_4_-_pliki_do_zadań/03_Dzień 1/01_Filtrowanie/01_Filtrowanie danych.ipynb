{
 "cells": [
  {
   "cell_type": "markdown",
   "id": "imposed-percentage",
   "metadata": {},
   "source": [
    "# Filtrowanie danych\n",
    "Przy generowaniu pliku `ceny_produktow_renamed.csv` pojawiły się następujące błędy w procesowaniu, które należy zlokalizować:\n",
    "1. W kolumnie **date** pojawiły się dane z roku 1888 - '1888-0',\n",
    "2. Sprawdź, czy nie pojawiły się podobne błędy w kolumnie **date**, jednak z wartościami z przyszłości,\n",
    "3. W kolumnie **value** pojawiła się zbyt wysoka wartość, znajdź ją i zlokalizuj wiersz, w którym jest wpisana (używając `query`),\n",
    "4. W kolumnie **product_types** dla jednego z produktów wkradł się błąd ortograficzny. Znajdź go oraz wiersze z nim związane. Ile jest takich wierszy?\n",
    "\n",
    "Nie musisz zapisywać wyników do zmiennej, wystarczy, że je wyświetlisz.\n",
    "\n",
    "> Na podstawie rozwiązania tego zadania, później poprawimy wszystkie błędy w danych.\n",
    "\n",
    "Wskazówki:\n",
    "\n",
    "Podpunkt 2:\n",
    "1. Jest tylko jedna taka wartość.\n",
    "2. Użyj `loc` lub `query` przy warunku `date > '2020-1'`.\n",
    "\n",
    "Podpunkt 3:\n",
    "1. Jest tylko jedna taka wartość.\n",
    "1. Wykonaj następujące kroki:\n",
    "a) użyj `describe()` aby zobaczyć percentyle,\n",
    "b) używając `loc` lub `query` do znalezienia błędnych wpisów.\n",
    "\n",
    "Podpunkt 4:\n",
    "Zadanie można wykonać następująco:\n",
    "a) używając metody `unique()` w celu znalezienie wszystkich dostępnych wartości,\n",
    "b) używając `loc` lub `query` do znalezienia błędnych wpisów,\n",
    "c) Ilość wierszy można sprawdzić używając metody `shape`."
   ]
  },
  {
   "cell_type": "code",
   "execution_count": null,
   "id": "contained-pricing",
   "metadata": {},
   "outputs": [],
   "source": []
  }
 ],
 "metadata": {
  "kernelspec": {
   "display_name": "Python 3",
   "language": "python",
   "name": "python3"
  },
  "language_info": {
   "codemirror_mode": {
    "name": "ipython",
    "version": 3
   },
   "file_extension": ".py",
   "mimetype": "text/x-python",
   "name": "python",
   "nbconvert_exporter": "python",
   "pygments_lexer": "ipython3",
   "version": "3.8.6"
  }
 },
 "nbformat": 4,
 "nbformat_minor": 5
}
