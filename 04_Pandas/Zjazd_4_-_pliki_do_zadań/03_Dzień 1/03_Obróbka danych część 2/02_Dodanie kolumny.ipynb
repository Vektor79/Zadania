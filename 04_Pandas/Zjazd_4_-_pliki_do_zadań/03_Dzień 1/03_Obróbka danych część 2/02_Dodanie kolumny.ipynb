{
 "cells": [
  {
   "cell_type": "markdown",
   "id": "ready-craft",
   "metadata": {},
   "source": [
    "# Dodanie kolumny\n",
    "\n",
    "Kontynuując rozwiązanie poprzedniego zadania, stwórz nową kolumnę **product** używając **product_types** oraz **product_line**:\n",
    "\n",
    "1. sprawdź, czy kolumny **product_types** oraz **product_line** się uzupełniają (wartość pusta w jednej kolumnie pociąga za sobą niepustą wartość w drugiej),\n",
    "1. stwórz nową kolumnę **produkt**, używając wartości z kolumny **product_types** np. `df['product'] = df['product_types']`,\n",
    "1. znajdź niepuste wartości w kolumnie **product_line** i wpisz je do kolumny **product**,\n",
    "1. dowolnym sposobem sprawdź, czy wszystkie wartości w kolumnie **product** są nie puste,\n",
    "1. usuń duplikaty z tabeli,\n",
    "1. używając z metody `to_csv` zapisz dane (będziemy z nich korzystać w dalszej części kursu), ustaw separator=';' oraz `index=False`.<br>\n",
    "Plik zapisz jako `ceny_produktow_cleaned.csv`\n",
    "\n",
    "Metoda `read_csv` jest jedną z wielu, których można użyć, by zapisać `DataFrame` w formie pliku **csv**. W kontekście tego zadania interesują nas poniższe parametry:\n",
    "- `sep`-separator wierszy (domyślnie ','),\n",
    "- `index`-czy index (domyślnie numer wiersza) tabeli ma również zostać zapisany (domyślnie `True`).\n",
    "\n",
    "Przykład wywołania:\n",
    "```\n",
    "df.to_csv(\n",
    "    'filepath', # sciezka do pliku\n",
    "    sep=';', # ustawienie separatora\n",
    "    index=False\n",
    ")\n",
    "```"
   ]
  },
  {
   "cell_type": "code",
   "execution_count": null,
   "id": "raised-writer",
   "metadata": {},
   "outputs": [],
   "source": []
  }
 ],
 "metadata": {
  "kernelspec": {
   "display_name": "Python 3",
   "language": "python",
   "name": "python3"
  },
  "language_info": {
   "codemirror_mode": {
    "name": "ipython",
    "version": 3
   },
   "file_extension": ".py",
   "mimetype": "text/x-python",
   "name": "python",
   "nbconvert_exporter": "python",
   "pygments_lexer": "ipython3",
   "version": "3.8.6"
  }
 },
 "nbformat": 4,
 "nbformat_minor": 5
}
