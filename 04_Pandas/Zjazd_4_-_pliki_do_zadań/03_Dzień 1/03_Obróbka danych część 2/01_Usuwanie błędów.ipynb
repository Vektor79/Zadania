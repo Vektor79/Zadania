{
 "cells": [
  {
   "cell_type": "markdown",
   "id": "younger-religion",
   "metadata": {},
   "source": [
    "# Usuwanie błędów \n",
    "Korzystając z rozwiązań z poprzedniego wykładu oraz pliku **ceny_produktow_renamed.csv**, zmodyfikuj `loc`, tak aby poprawił istniejące błędy w zbiorze danych:\n",
    "\n",
    "1. W kolumnie **date** pojawiły się dane z roku 1888 - '1888-0', zmień tę wartość na 1999-1,\n",
    "1. W kolumnie **date** pojawił się dane z roku 2099 - '2099-13', zmień tę wartość na 2019-1,\n",
    "1. W kolumnie **product_types** pojawił się błąd ortograficzny - popraw go. Liczba sztuk powinna wynosić '10szt.`. Sprawdź poprawność wykonania zadania.\n",
    "1. Przekonwertuj wartości podane w `EUR` na `zł` używając kursu 4.15 używając `loc`.\n",
    "1. Odfiltuj ze zbioru te wiersze, gdzie cena za produkt wynosi 3000.\n",
    "Wskazówka: Zamiast pisać `loc` dwa razy, zrób go najpierw, odpytując najpierw dane o wiersze, gdzie **currency** = `EUR` i zapisz do zmiennej.\n",
    "\n",
    ">Pamiętaj, że `loc` modyfikuje bezpowrotnie dane."
   ]
  },
  {
   "cell_type": "code",
   "execution_count": null,
   "id": "conventional-destiny",
   "metadata": {},
   "outputs": [],
   "source": []
  }
 ],
 "metadata": {
  "kernelspec": {
   "display_name": "Python 3",
   "language": "python",
   "name": "python3"
  },
  "language_info": {
   "codemirror_mode": {
    "name": "ipython",
    "version": 3
   },
   "file_extension": ".py",
   "mimetype": "text/x-python",
   "name": "python",
   "nbconvert_exporter": "python",
   "pygments_lexer": "ipython3",
   "version": "3.8.6"
  }
 },
 "nbformat": 4,
 "nbformat_minor": 5
}
