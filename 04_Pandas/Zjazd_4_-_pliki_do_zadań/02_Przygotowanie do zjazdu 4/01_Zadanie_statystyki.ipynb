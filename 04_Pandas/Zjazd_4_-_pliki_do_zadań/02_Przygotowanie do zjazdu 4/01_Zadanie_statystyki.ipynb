{
 "cells": [
  {
   "cell_type": "markdown",
   "metadata": {},
   "source": [
    "# Zadanie\n",
    "Zaczytaj plik `ceny_towarow.csv` (separator ';', separator cyfr dziesiętnych '.') i wykonaj następujące ćwiczenia:\n",
    "\n",
    "1. Używając metody `columns` zmodyfikuj nazwy kolumn następująco: `'province', 'product_types', 'currency', 'group_id', 'product_line', 'value', 'date'`<br>\n",
    "1. Wyznacz następujące statystyki pozycyjne: średnia, odchylenie standardowe, percentyle: 0, 10%, 20%, 30%, 40%, 50%, 60%, 70%, 80%, 90%, 100%.<br>Zadanie wykonaj w dwóch wersjach: używając dedykowanych funkcji oraz `describe`. \n",
    "1. Czy zgadzasz się z takim sposobem generowania tych wartości? Dlaczego?\n"
   ]
  },
  {
   "cell_type": "code",
   "execution_count": 1,
   "metadata": {},
   "outputs": [],
   "source": []
  },
  {
   "cell_type": "markdown",
   "metadata": {},
   "source": [
    "## Komentarz dot. poprawności zadania\n",
    "Podsumowanie zbioru danych w ten sposób nie jest dokońca poprawne, ponieważ wszystkie grupy produktów (przetwory, wyroby mięsne, pozostałe czy zbożowe) zostały potraktowane jako porównywalne. Co więcej ponieważ dane są w formie szeregu czasowego, wszystkie daty zostały potraktowane tak samo.\n",
    "\n",
    "Jest to przykład potocznego mieszania jabłek z gruszkami. Te statystyki powinny zostać wyznaczone przynajmniej dla każdej grupy osobno a najlepiej w podziale na kwartały."
   ]
  }
 ],
 "metadata": {
  "kernelspec": {
   "display_name": "Python 3",
   "language": "python",
   "name": "python3"
  },
  "language_info": {
   "codemirror_mode": {
    "name": "ipython",
    "version": 3
   },
   "file_extension": ".py",
   "mimetype": "text/x-python",
   "name": "python",
   "nbconvert_exporter": "python",
   "pygments_lexer": "ipython3",
   "version": "3.8.6"
  }
 },
 "nbformat": 4,
 "nbformat_minor": 2
}
