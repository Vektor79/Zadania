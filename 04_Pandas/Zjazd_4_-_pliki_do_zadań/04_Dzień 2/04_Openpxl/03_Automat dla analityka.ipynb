{
 "cells": [
  {
   "cell_type": "markdown",
   "id": "common-ghost",
   "metadata": {},
   "source": [
    "# Automat dla analityka\n",
    "\n",
    "Zespół analityków przygotowuje comiesięczny raport o cenach wybranego przez zarząd produktu. Jako że zespół wie, że znasz język Python, to poprosili Cię o automatyzację tego procesu. W trakcie rozmów z zespołem zostały ustalone następujące warunki biznesowe, które pozwolą im zautomatyzować proces:\n",
    "\n",
    "Dostępne są trzy parametry raportu:\n",
    "- **product_group_id**,\n",
    "- **product**,\n",
    "- **date**.\n",
    "\n",
    "Założenia do każdego parametru:\n",
    "\n",
    "1. Parametr może mieć co najwyżej jedną wartość,\n",
    "1. Jeżeli parametr jest pusty, zwracamy wszystkie rekordy z grupy,\n",
    "1. Zakładamy, że plik jest zawsze poprawnie przygotowany (chcemy przećwiczyć automatyzację raportu, a nie obsługę błędów).\n",
    "\n",
    "Na podstawie powyższych wymagań:\n",
    "\n",
    "1. wczytaj plik **config.xlsx** za pomocą `openpyxl`,\n",
    "1. odpowiednio przygotuj warunki do odfiltrowania danych z **product_cleaned.csv**,\n",
    "1. na podstawie warunków odpowiednio odfiltruj ramkę,\n",
    "1. zagreguj dane używając **pivot_table**:\n",
    "   a) index-produkt, województwo,\n",
    "   b) kolumny-daty,\n",
    "   c) wartość-średnia cena produktu,\n",
    "   d) pamiętaj o usunięciu 0,\n",
    "6. plik zapisz dowolnym sposobem do arkusza kalkulacyjnego.\n",
    "\n",
    "Podpowiedzi:\n",
    "\n",
    "1. Poszczególne warunki filtrowania możesz zapisać do zmienny a następnie wszystkich razem użyć do odfiltrowania `DataFrame` tak jakby pisało się wszystkie tak jak do tej pory tj. `df.loc[var1 & var2]`\n",
    "1. Jeśli zdecydujesz się na zapis przy użyciu Pandas, uważaj na parametry przekazywane do funkcji (co się stanie jak ustawisz `index=False`?). Link do [dokumentacji](https://pandas.pydata.org/pandas-docs/stable/reference/api/pandas.DataFrame.to_excel.html)."
   ]
  },
  {
   "cell_type": "code",
   "execution_count": null,
   "id": "practical-excitement",
   "metadata": {},
   "outputs": [],
   "source": []
  }
 ],
 "metadata": {
  "kernelspec": {
   "display_name": "Python 3",
   "language": "python",
   "name": "python3"
  },
  "language_info": {
   "codemirror_mode": {
    "name": "ipython",
    "version": 3
   },
   "file_extension": ".py",
   "mimetype": "text/x-python",
   "name": "python",
   "nbconvert_exporter": "python",
   "pygments_lexer": "ipython3",
   "version": "3.8.6"
  }
 },
 "nbformat": 4,
 "nbformat_minor": 5
}
