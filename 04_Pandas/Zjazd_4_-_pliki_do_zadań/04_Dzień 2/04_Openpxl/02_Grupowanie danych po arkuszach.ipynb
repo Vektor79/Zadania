{
 "cells": [
  {
   "cell_type": "markdown",
   "id": "atomic-chest",
   "metadata": {},
   "source": [
    "# Grupowanie danych po arkuszach\n",
    "\n",
    "Zmodyfikuj poprzednie zadanie w taki sposób, aby każda grupa produktu była w osobnym skoroszycie wraz z odpowiadającym im `product_group_id`. Na przykład\n",
    "`product_group_id` 1 powinno trafić do arkusza o nazwie `1`.\n",
    "\n",
    "Do tworzenia nowego skoroszytu wykorzystaj metodę:\n",
    "```\n",
    "wb.create_sheet(name, index)\n",
    "```\n",
    "Gdzie:\n",
    "- `nazwa`-to nazwa skoroszytu, do którego chcemy zapisać dane (powinien być string),\n",
    "- `index`-pozycja skoroszytu w arkuszu"
   ]
  },
  {
   "cell_type": "code",
   "execution_count": null,
   "id": "hybrid-shepherd",
   "metadata": {},
   "outputs": [],
   "source": []
  }
 ],
 "metadata": {
  "kernelspec": {
   "display_name": "Python 3",
   "language": "python",
   "name": "python3"
  },
  "language_info": {
   "codemirror_mode": {
    "name": "ipython",
    "version": 3
   },
   "file_extension": ".py",
   "mimetype": "text/x-python",
   "name": "python",
   "nbconvert_exporter": "python",
   "pygments_lexer": "ipython3",
   "version": "3.8.6"
  }
 },
 "nbformat": 4,
 "nbformat_minor": 5
}