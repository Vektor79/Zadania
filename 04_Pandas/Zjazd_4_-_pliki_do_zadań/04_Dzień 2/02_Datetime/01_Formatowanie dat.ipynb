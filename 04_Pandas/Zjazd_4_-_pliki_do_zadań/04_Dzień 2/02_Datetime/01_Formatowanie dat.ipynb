{
 "cells": [
  {
   "cell_type": "markdown",
   "id": "chinese-commitment",
   "metadata": {},
   "source": [
    "# Formatowanie dat\n",
    "\n",
    "Wczytaj plik _ceny_produktow_cleaned.csv_, w kolumnie _date_ zawarte są informacje o miesiącach raportowania wartości.\n",
    "\n",
    "1. Jaki jest to format daty?\n",
    "1. Przeformatuj tą kolumnę na `datetime64`,\n",
    "1. Do ramki danych dodaj nową kolumnę-_month_ jako wyodrębnienie informacji o miesiącu z kolumny _date_,\n",
    "1. Do ramki danych dodaj nową kolumnę-_quarter_ jako wyodrębnienie informacji o kwartale z kolumny _date_,\n",
    "1. Do ramki danych dodaj nową kolumnę-_year_ jako wyodrębnienie informacji o roku z kolumny _date_,\n",
    "1. Używając metody `dt.strfime` ([link](https://pandas.pydata.org/pandas-docs/stable/reference/api/pandas.Series.dt.strftime.html) do dokumentacji), przekonwertuj kolumnę _date_ do formatu _YYYY-MM-01_ i nadpisz jej wartość, przykładowo:\n",
    "```\n",
    "df['date'] = col.dt.strftime('format')\n",
    "```",
    "1. Nadpisz plik ceny_produktow_cleaned.csv. Będzie on używany w kolejnych częściach do analizy zbioru,\n"
   ]
  },
  {
   "cell_type": "code",
   "execution_count": null,
   "id": "iraqi-particular",
   "metadata": {},
   "outputs": [],
   "source": []
  }
 ],
 "metadata": {
  "kernelspec": {
   "display_name": "Python 3",
   "language": "python",
   "name": "python3"
  },
  "language_info": {
   "codemirror_mode": {
    "name": "ipython",
    "version": 3
   },
   "file_extension": ".py",
   "mimetype": "text/x-python",
   "name": "python",
   "nbconvert_exporter": "python",
   "pygments_lexer": "ipython3",
   "version": "3.8.6"
  }
 },
 "nbformat": 4,
 "nbformat_minor": 5
}
