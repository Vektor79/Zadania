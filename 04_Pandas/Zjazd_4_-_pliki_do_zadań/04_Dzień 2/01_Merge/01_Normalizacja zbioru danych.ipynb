{
 "cells": [
  {
   "cell_type": "markdown",
   "id": "exterior-break",
   "metadata": {},
   "source": [
    "# Normalizacja zbioru danych\n",
    "\n",
    "W pliku **dims.xlsx** w arkuszach znajdują się słowniki do danych z pliku **ceny_towarow_cleaned.csv**. Używając `merge`, dokonaj normalizacji danych w następujących krokach:\n",
    "\n",
    "1. Wczytaj zawartość wszystkich arkuszy z pliku **dims.xlsx** do osobnych `DataFrame`.\n",
    "Dla czytelności, nazwy ramek nadaj, używając nazw skoroszytów.\n",
    "\n",
    "1. Wczytaj dane z pliku **ceny_towarow_cleaned.csv** do zmiennej `df`,\n",
    "\n",
    "1. Na podstawie skoroszytu **d_province** dodaj do ramki `df` kolumnę `province_id` używając kolumny `id`,\n",
    "\n",
    "1. Na podstawie skoroszytu **d_product** dodaj do ramki `df` kolumnę `product_id`,\n",
    "\n",
    "1. Z tabeli wyselekcjonuj tylko kolumny, które referują do innych tabel np. **product_id** oraz kolumny **value**, **date**. Czy Twoim zdaniem, ta postać jest czytelniejsza? Jakie mogą być zalety tego podejścia?`\n",
    "\n",
    "> O tym jak można zaczytać wiele skoroszytów naraz będziemy mówić w trakcie omawiania `openpyxl`.\n",
    "\n",
    "Więcej o normalizacji baz danych znajdziesz pod tym [linkiem](https://www.sqlpedia.pl/projektowanie-i-normalizacja-bazy-danych/)."
   ]
  },
  {
   "cell_type": "code",
   "execution_count": null,
   "id": "painted-progressive",
   "metadata": {},
   "outputs": [],
   "source": []
  }
 ],
 "metadata": {
  "kernelspec": {
   "display_name": "Python 3",
   "language": "python",
   "name": "python3"
  },
  "language_info": {
   "codemirror_mode": {
    "name": "ipython",
    "version": 3
   },
   "file_extension": ".py",
   "mimetype": "text/x-python",
   "name": "python",
   "nbconvert_exporter": "python",
   "pygments_lexer": "ipython3",
   "version": "3.8.6"
  }
 },
 "nbformat": 4,
 "nbformat_minor": 5
}