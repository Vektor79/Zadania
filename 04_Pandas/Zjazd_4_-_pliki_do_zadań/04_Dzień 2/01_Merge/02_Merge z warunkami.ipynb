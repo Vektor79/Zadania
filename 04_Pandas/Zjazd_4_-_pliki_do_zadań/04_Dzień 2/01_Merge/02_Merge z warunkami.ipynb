{
 "cells": [
  {
   "cell_type": "markdown",
   "id": "wicked-luther",
   "metadata": {},
   "source": [
    "# Merge z warunkami\n",
    "\n",
    "Używając danych surowych z pliku **ceny_produktow_cleaned.csv**, wykonaj zadanie polegające na sprawdzeniu, ile razy dla danego produktu, województwa, miesiąca historycznie była notowana niższa cena towaru. W tym celu wykonaj następujące kroki:\n",
    "\n",
    "1. połącz tabelę samą ze sobą. Jakiego typu joina należy użyć?\n",
    "1. odfiltruj dane tak, aby znaleźć lata wcześniejsze oraz wartości mniejsze niż tej w danym roku, dla danego województwa,\n",
    "1. odpowiednio pogrupuj dane.\n",
    "\n",
    "Który produkt/y miał takich wystąpień najwięcej?\n",
    "\n",
    "> Zobacz co się stanie z nazwami kolumn w momencie, gdy kolumny nie są użyte jako warunek łączenia, a mają te same nazwy."
   ]
  },
  {
   "cell_type": "code",
   "execution_count": null,
   "id": "atlantic-station",
   "metadata": {},
   "outputs": [],
   "source": []
  }
 ],
 "metadata": {
  "kernelspec": {
   "display_name": "Python 3",
   "language": "python",
   "name": "python3"
  },
  "language_info": {
   "codemirror_mode": {
    "name": "ipython",
    "version": 3
   },
   "file_extension": ".py",
   "mimetype": "text/x-python",
   "name": "python",
   "nbconvert_exporter": "python",
   "pygments_lexer": "ipython3",
   "version": "3.8.6"
  }
 },
 "nbformat": 4,
 "nbformat_minor": 5
}
