{
 "cells": [
  {
   "cell_type": "markdown",
   "id": "following-queensland",
   "metadata": {},
   "source": [
    "# Pivot table\n",
    "\n",
    "Używając danych z pliku **ceny_produktow_cleaned.csv** wykonaj następujące zadania:\n",
    "\n",
    "1. stwórz tabelę przestawną, tak aby na wierszach były lata a na kolumnach nazwy towarów. Jako wartości użyj średniej ceny produktu,\n",
    "1. używając `lambda` oraz `pivot_table`, odtwórz widok danych z przykładu omówionego na wykładzie. Przeanalizuj wynik z takiego odtworzenia, co możesz powiedzieć o tym, co zostało przekazane do funkcji?\n",
    "1. używając `pivot_table`, zobacz jak kształtowała się średnia oraz mediana cen w grupach produktu w latach (wiele funkcji możesz przekazać jako listę).\n",
    "\n",
    "Podpowiedź do podpunktu 2:\n",
    "\n",
    "Kod z wykładu:\n",
    "```\n",
    "pd.pivot(data=df, index=['province', 'product'], columns=['date'], values=['value'])\n",
    "```"
   ]
  },
  {
   "cell_type": "code",
   "execution_count": null,
   "id": "structural-korea",
   "metadata": {},
   "outputs": [],
   "source": []
  }
 ],
 "metadata": {
  "kernelspec": {
   "display_name": "Python 3",
   "language": "python",
   "name": "python3"
  },
  "language_info": {
   "codemirror_mode": {
    "name": "ipython",
    "version": 3
   },
   "file_extension": ".py",
   "mimetype": "text/x-python",
   "name": "python",
   "nbconvert_exporter": "python",
   "pygments_lexer": "ipython3",
   "version": "3.8.6"
  }
 },
 "nbformat": 4,
 "nbformat_minor": 5
}
