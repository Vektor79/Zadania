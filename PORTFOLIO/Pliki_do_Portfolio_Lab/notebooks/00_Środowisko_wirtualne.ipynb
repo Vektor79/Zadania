{
 "cells": [
  {
   "metadata": {
    "ExecuteTime": {
     "end_time": "2024-12-15T21:26:37.621630Z",
     "start_time": "2024-12-15T21:26:37.522628Z"
    }
   },
   "cell_type": "code",
   "source": "!where python",
   "id": "c1d2f5759a53c686",
   "outputs": [
    {
     "name": "stdout",
     "output_type": "stream",
     "text": [
      "C:\\Users\\annap\\AppData\\Local\\Programs\\Python\\Python313\\python.exe\n",
      "C:\\Users\\annap\\AppData\\Local\\Microsoft\\WindowsApps\\python.exe\n"
     ]
    }
   ],
   "execution_count": 3
  },
  {
   "metadata": {},
   "cell_type": "code",
   "outputs": [],
   "execution_count": null,
   "source": "",
   "id": "740495c43e652d9"
  }
 ],
 "metadata": {
  "kernelspec": {
   "display_name": "Python 3",
   "language": "python",
   "name": "python3"
  },
  "language_info": {
   "codemirror_mode": {
    "name": "ipython",
    "version": 2
   },
   "file_extension": ".py",
   "mimetype": "text/x-python",
   "name": "python",
   "nbconvert_exporter": "python",
   "pygments_lexer": "ipython2",
   "version": "2.7.6"
  }
 },
 "nbformat": 4,
 "nbformat_minor": 5
}
