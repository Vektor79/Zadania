{
 "cells": [
  {
   "attachments": {},
   "cell_type": "markdown",
   "metadata": {},
   "source": [
    " # Opis notatnika\n",
    "\n",
    " Ten notatnik inicjuje naszą pracę nad warsztatem końcowym. Naszym zadaniem tutaj jest pobranie udostępnionych nam danych do obszaru roboczego, które w następnym kroku wgramy na naszą bazę danych. Ich obróbka oraz analiza zostanie przeprowadzona w specjalnie do tego celu przygotowanych kolejnych notatnikach.\n",
    "\n",
    " Na potrzeby tego warsztatu został stworzony dedykowany serwis API, który dostępny jest pod adresem: https://api-datalab.coderslab.com/api/v2. Dodatkowo udostępniona została dokumentacja, z którą można zapoznać się tutaj: [klik](https://api-datalab.coderslab.com/v2/docs/).\n",
    "\n",
    " > Dokumentacja jest czysto techniczna i ma na celu prezentację dostępnych endpointów wraz ze zwracanym typem. W celu przetestowania należy kliknąć przysisk `Authorize`, podać token (dostępny poniżej), a następnie `Try it out!` oraz uzupełnić wymagane pola (parametry requesta).\n",
    "\n",
    " Zgodnie z dokumentacją stwierdzamy, że udostępnione zostały nam 4 endpointy:\n",
    " - `airport` - dane o lotnisku,\n",
    " - `weather` - informacje o zarejestrowaniej pogodzie na lotnisku danego dnia,\n",
    " - `aircraft` - dane o samolotach\n",
    " - `flights` - dane o wylotach z danego lotniska per dzień.\n",
    "\n",
    " Wszystkie te źródła musimy pobrać, aby być w stanie wykonać całość warsztatu. W celu pobrania informacji, gdzie wymagany jest paramatr `airportId`, posłużymy się listą z pliku `airports.csv`.\n",
    "\n",
    " Przy wykonywaniu tego zadania możesz posłużyć się tym tokenem: ``.\n",
    "\n",
    " ### Uwagi\n",
    " - Ze względów ćwiczeniowych, konstrukcja poszczególnych endpointów jest różna – w trakcie pracy dokładnie przyjrzyj się, w jaki sposób należy wykonać zapytanie, aby otrzymać odpowiedź.\n",
    " - Pamiętaj o dodaniu `sleep` pomiędzy poszczególnymi wywołaniami endpoint.\n",
    " - Limit wywołań API to 1000/min, zadbaj o nieprzekroczenie tego limitu – w przeciwnym wypadku będzie zwracany błąd 429."
   ]
  },
  {
   "cell_type": "markdown",
   "metadata": {},
   "source": [
    " # Konfiguracja notatnika"
   ]
  },
  {
   "cell_type": "markdown",
   "metadata": {},
   "source": [
    " Tutaj zaimportuj wymagane biblioteki"
   ]
  },
  {
   "cell_type": "code",
   "metadata": {
    "ExecuteTime": {
     "end_time": "2025-01-04T21:30:37.106674Z",
     "start_time": "2025-01-04T21:30:37.079700Z"
    }
   },
   "source": [
    "import os\n",
    "import selenium\n",
    "import token\n",
    "from urllib import response\n",
    "import responses\n",
    "import requests    # tokeny autoryzacyjne\n",
    "import pandas as pd    # do wczytania csv\n",
    "import time    # do opóźnień między kolejnymi żądaniami do API\n",
    "import json    # ta bibl. pomoże w ich przetwarzaniu danych API\n",
    "import sqlalchemy    # do wgrywania zebranych danych do bazy danych\n",
    "import logging    # do logowania błędów, np. przekroczenia limitu API\n",
    "from selenium import webdriver\n",
    "from selenium.webdriver.common.by import By\n",
    "from selenium.webdriver.support.ui import WebDriverWait\n",
    "from selenium.webdriver.support import expected_conditions as EC\n",
    "from selenium.common.exceptions import NoSuchElementException\n",
    "from selenium.common.exceptions import NoSuchWindowException\n",
    "from selenium.webdriver.chrome.service import Service\n",
    "from webdriver_manager.chrome import ChromeDriverManager\n",
    "from bs4 import BeautifulSoup\n",
    "from dotenv import load_dotenv\n",
    "import csv\n"
   ],
   "outputs": [],
   "execution_count": 326
  },
  {
   "metadata": {
    "ExecuteTime": {
     "end_time": "2025-01-04T21:44:12.910300Z",
     "start_time": "2025-01-04T21:30:42.104108Z"
    }
   },
   "cell_type": "code",
   "source": [
    "output_directory = \"C:\\\\AAAAAAAAAAAa\\\\CODERSLAB\\\\KURS_ANALITYK\\\\PORTFOLIO\\\\Pliki_do_Portfolio_Lab\\\\data\\\\Airport\"\n",
    "\n",
    "# pobieranie z csv\n",
    "airports_ids = pd.read_csv(os.path.join(output_directory, \"airports.csv\"))[\"origin_airport_id\"].tolist()\n",
    "print(airports_ids)\n",
    "\n",
    "url = \"https://api-datalab.coderslab.com/v2/docs/#\"\n",
    "\n",
    "\n",
    "# konfiguracja chromedriver\n",
    "options = webdriver.ChromeOptions()\n",
    "prefs = {\"download.default_directory\": output_directory}\n",
    "options.add_experimental_option(\"prefs\", prefs)\n",
    "driver = webdriver.Chrome(options=options)\n",
    "print(\"start processing\")\n",
    "\n",
    "\n",
    "# utworzenie list do rozdzielenia pustych i pełnych lotnisk\n",
    "airport_data = []\n",
    "failed_airports = []\n",
    "\n",
    "\n",
    "def download_and_clear(driver):\n",
    "    try:\n",
    "        download_button = WebDriverWait(driver, 10).until(EC.element_to_be_clickable((By.CSS_SELECTOR, \"div.download-contents\")))\n",
    "        driver.execute_script(\"arguments[0].scrollIntoView(true);\", download_button)\n",
    "        driver.execute_script(\"arguments[0].click();\", download_button)\n",
    "\n",
    "        clear_button = WebDriverWait(driver, 10).until(EC.element_to_be_clickable((By.CSS_SELECTOR, \".btn.btn-clear.opblock-control__btn\")))\n",
    "        clear_button.click()\n",
    "\n",
    "        WebDriverWait(driver, 10).until_not(EC.element_to_be_clickable((By.CSS_SELECTOR, \".btn.btn-clear.opblock-control__btn\")))\n",
    "\n",
    "\n",
    "    except Exception as e:\n",
    "        print(f'Wystąpił błąd: {str(e)}')\n",
    "        failed_airports.append(error_entry)\n",
    "\n",
    "\n",
    "try:\n",
    "    AUTH_TOKEN = os.getenv(\"AUTH_TOKEN\")\n",
    "    if not AUTH_TOKEN:\n",
    "        raise ValueError(\"Brak tokenu autoryzacyjnego\")\n",
    "    driver.get(url)\n",
    "\n",
    "    # autoryzacja\n",
    "    authorize_button = WebDriverWait(driver, 10).until(EC.element_to_be_clickable((By.CSS_SELECTOR, \".btn.authorize.unlocked span\")))\n",
    "    authorize_button.click()\n",
    "\n",
    "    # wprowadzenie tokenu w okno\n",
    "    token_input = WebDriverWait(driver, 10).until(EC.presence_of_element_located((By.CSS_SELECTOR, \".auth-container input[type=text]\")))\n",
    "    token_input.send_keys(AUTH_TOKEN)\n",
    "    print(\"token wprowadzony\")\n",
    "\n",
    "    # kliknięcie Authorize\n",
    "    authorizeButton = WebDriverWait(driver, 10).until(EC.element_to_be_clickable((By.CSS_SELECTOR, \".btn.modal-btn.auth.authorize.button\")))\n",
    "    authorizeButton.click()\n",
    "\n",
    "    # kliknięcie Close\n",
    "    close_button = WebDriverWait(driver, 10).until(EC.element_to_be_clickable((By.CSS_SELECTOR, \".btn.modal-btn.auth.btn-done.button\")))\n",
    "    close_button.click()\n",
    "\n",
    "    # klik na get airport\n",
    "    get_button = WebDriverWait(driver, 10).until(EC.element_to_be_clickable((By.CSS_SELECTOR, \".opblock-summary-method\")))\n",
    "    get_button.click()\n",
    "\n",
    "    # klik na try-it-out\n",
    "    try_button = WebDriverWait(driver, 10).until(EC.element_to_be_clickable((By.CSS_SELECTOR, \".btn.try-out__btn\")))\n",
    "    # przewijanie strony do buttona\n",
    "    driver.execute_script(\"arguments[0].scrollIntoView(true);\", try_button)\n",
    "    try_button.click()\n",
    "\n",
    "\n",
    "    # iteracja po Id\n",
    "    for airport_id in airports_ids:\n",
    "        try:\n",
    "            # wyszukanie pola tekstowego do airportId\n",
    "            airportId_input = WebDriverWait(driver, 10).until(EC.presence_of_element_located((By.CSS_SELECTOR, \".parameters-col_description input[placeholder='airportId']\")))\n",
    "            airportId_input.clear()\n",
    "            airportId_input.send_keys(str(airport_id))\n",
    "\n",
    "            # klik execute\n",
    "            execute_button = WebDriverWait(driver, 10).until(EC.element_to_be_clickable((By.CSS_SELECTOR, \".btn.execute.opblock-control__btn\")))\n",
    "            execute_button.click()\n",
    "\n",
    "            #pobranie odpowiedzi (zmiana)\n",
    "            response_status_element = WebDriverWait(driver, 10).until(EC.presence_of_element_located((By.CSS_SELECTOR, \"tbody .response .response-col_status\")))\n",
    "            response_text = response_status_element.text.strip()\n",
    "\n",
    "            #element odpowiedzi z danymi json lub text\n",
    "            response_body_element = WebDriverWait(driver, 10).until(EC.presence_of_element_located((By.CSS_SELECTOR, \"tbody .response .response-col_description pre\")))\n",
    "            response_body = response_body_element.text.strip()\n",
    "\n",
    "            # dodawanie do list na podstawie odpowiedzi\n",
    "            if response_text == \"200\":\n",
    "                # airport_data.append({'airport_id': airport_id, 'response_text': response_text})\n",
    "                response_data = json.loads(response_body) # konwersja stringa na json\n",
    "\n",
    "                # model danych szablon danych\n",
    "                airport_entry = {\n",
    "                    \"ORIGIN_AIRPORT_ID\": response_data.get(\"ORIGIN_AIRPORT_ID\", airport_id),\n",
    "                    \"DISPLAY_AIRPORT_NAME\": response_data.get(\"DISPLAY_AIRPORT_NAME\", \"Brak danych\"),\n",
    "                    \"ORIGIN_CITY_NAME\":response_data.get(\"ORIGIN_CITY_NAME\", \"Brak danych\") ,\n",
    "                    \"NAME\": response_data.get(\"NAME\", \"Brak danych\")\n",
    "                }\n",
    "                if airport_entry not in airport_data:\n",
    "                    airport_data.append(airport_entry)\n",
    "\n",
    "            elif response_text == \"400\":\n",
    "                error_entry = {\n",
    "                    \"error\": f\"Airport with id {airport_id} not exist\"\n",
    "                }\n",
    "                failed_airports.append(error_entry)\n",
    "\n",
    "            download_and_clear(driver)\n",
    "\n",
    "\n",
    "        except Exception as e:\n",
    "            error_entry = {\n",
    "                \"airport_id\": airport_id,\n",
    "                \"error\": str(e)\n",
    "            }\n",
    "            failed_airports.append({error_entry: str(e)})\n",
    "\n",
    "finally:\n",
    "    # zapisanie wyników\n",
    "    with open(os.path.join(output_directory, 'airport_data.json'), 'w', encoding='utf-8') as file:\n",
    "        json.dump(airport_data, file, ensure_ascii=False, indent=4)\n",
    "    with open(os.path.join(output_directory, 'failed_airports.json'), 'w', encoding='utf-8') as file:\n",
    "        json.dump(failed_airports, file, ensure_ascii=False, indent=4)\n",
    "\n",
    "    # podsumowanie\n",
    "    print(\"\\n*** Podsumowanie ***\")\n",
    "    print(f\"Poprawnie przetworzone: {len(airport_data)} lotniska, niepoprawne: {len(failed_airports)}\")\n",
    "\n",
    "    # zamykanie przeglądarki\n",
    "    if driver:\n",
    "        driver.quit()\n",
    "        print(\"end processing\")"
   ],
   "outputs": [
    {
     "name": "stdout",
     "output_type": "stream",
     "text": [
      "[10874, 11233, 13360, 15008, 11638, 14150, 15323, 14814, 12007, 11337, 13342, 15070, 13244, 12280, 15096, 11641, 13832, 10268, 10397, 15041, 10529, 12119, 11537, 11092, 10581, 13829, 15389, 10140, 12389, 11648, 15023, 11982, 10967, 11525, 10792, 14259, 11637, 10466, 10599, 10208, 15841, 14831, 12898, 13241, 13367, 11481, 14108, 13931, 13873, 10157, 10245, 11146, 13277, 11292, 11109, 13459, 11775, 16218, 14698, 14252, 13256, 13139, 12250, 11259, 11468, 14952, 12402, 14574, 11996, 11977, 11867, 11203, 11995, 15016, 10747, 14905, 12012, 14783, 14730, 10431, 10434, 16869, 10408, 12264, 11618, 15304, 13577, 12954, 11624, 13541, 13422, 14057, 13232, 10800, 14689, 12391, 10868, 14711, 10257, 11067, 10562, 11695, 13796, 14109, 13970, 14193, 11076, 14092, 11122, 11288, 11308, 10754, 12884, 15376, 14588, 11884, 12915, 13851, 14843, 11603, 14457, 12206, 11252, 11905, 15412, 14120, 11980, 14025, 11150, 14709, 15897, 14107, 14006, 14747, 12902, 13061, 12016, 14794, 11921, 10731, 14828, 12889, 12441, 14802, 13230, 10631, 14492, 10141, 13204, 12992, 13184, 10643, 10333, 12255, 14487, 12129, 10551, 13871, 14256, 11066, 13377, 13487, 10627, 12335, 14633, 11274, 14543, 10299, 10158, 12951, 14004, 12544, 10739, 10165, 13964, 14314, 10990, 14812, 12339, 10561, 10146, 12451, 15991, 11423, 15401, 11587, 14520, 11042, 10185, 11278, 14534, 14100, 14321, 11111, 15024, 12917, 12124, 12523, 10821, 10721, 11630, 10170, 12448, 12953, 10918, 15356, 13344, 10676, 10926, 14307, 14635, 12156, 12244, 10666, 11612, 13476, 13029, 11267, 15411, 14986, 11471, 12758, 14576, 10155, 13486, 14716, 13296, 11283, 10732, 12266, 12892, 11003, 12094, 14685, 13158, 13121, 11540, 14877, 12217, 11697, 10372, 13264, 10469, 11336, 14683, 14112, 13502, 14524, 15027, 11973, 12173, 10361, 13388, 13891, 10577, 11433, 13290, 11298, 14771, 11577, 11140, 11057, 15048, 14960, 15295, 11865, 14893, 11049, 13495, 11953, 12223, 14254, 11823, 15380, 11447, 12003, 14489, 14908, 11986, 14082, 12191, 14113, 12891, 15249, 12819, 14570, 12323, 14679, 12343, 13076, 11503, 11617, 10728, 10785, 14869, 14027, 14674, 12197, 14696, 13485, 10781, 10849, 14955, 13433, 15074, 13127, 11013, 14122, 10154, 10980, 14098, 12982, 14512, 12278, 15919, 12478, 13830, 13933, 13930, 11997, 11027, 15582, 11721, 12896, 10279, 11778, 12888, 14262, 11415, 10685, 14842, 14761, 11193, 12265, 14288, 10713, 12397, 15624, 10994, 10409, 12519, 10136, 15607, 14237, 10779, 11898, 11413, 13983, 10558, 10620, 14222, 13198, 10423, 11097, 15454, 15370, 12899, 10135, 12177, 13303, 13795, 10693, 12945, 12511]\n",
      "start processing\n",
      "token wprowadzony\n",
      "\n",
      "*** Podsumowanie ***\n",
      "Poprawnie przetworzone: 104 lotniska, niepoprawne: 260\n",
      "end processing\n"
     ]
    }
   ],
   "execution_count": 327
  },
  {
   "metadata": {},
   "cell_type": "markdown",
   "source": " Tutaj zdefiniuj parametry połączenia do API"
  },
  {
   "cell_type": "code",
   "metadata": {
    "ExecuteTime": {
     "end_time": "2025-01-04T02:15:38.471865Z",
     "start_time": "2025-01-04T02:15:38.466023Z"
    }
   },
   "source": "# powyżej jest kod",
   "outputs": [],
   "execution_count": null
  },
  {
   "cell_type": "markdown",
   "metadata": {},
   "source": [
    " Tutaj wczytaj plik `airports.csv` i dostosuj do dalszych kroków w celu pobierania z kolejnych endpointów. Lista lotnisk jest dostępna w kolumnie `origin_airport_id`."
   ]
  },
  {
   "cell_type": "code",
   "metadata": {
    "jupyter": {
     "is_executing": true
    }
   },
   "source": "# powyżej jest kod",
   "outputs": [],
   "execution_count": null
  },
  {
   "cell_type": "markdown",
   "metadata": {},
   "source": [
    " # Pobieranie `Airport`\n",
    " Zapoznaj się z dokumentacją endpointu `airport`, a następnie pobierz dane dot. poszczególnych lotnisk. Wyniki tego kroku zapisz do ramki `airport_df`, a następnie zapisz do pliku `csv`.\n",
    "\n",
    " ### Wskazówki\n",
    " - Nie wszystkie lotniska dostępne w pliku `airports.csv`, są dostępne w endpoint. Zadbaj o odpowiednie obsłużenie takiej sytuacji,\n",
    " - Do skonwertowania wyników przydatna może okazać się metoda `Pandas` - [from_records](https://pandas.pydata.org/docs/reference/api/pandas.DataFrame.from_records.html),\n",
    " - Artykuł LMS: `Python - analiza danych > Dzień 4 - API > Uwierzytelnianie`\n",
    " - Artykuł LMS: `Python - analiza danych > Przygotowanie do zjazdu 2`"
   ]
  },
  {
   "cell_type": "markdown",
   "metadata": {},
   "source": [
    " Tutaj pobierz dane z endpoint'u `airport`"
   ]
  },
  {
   "metadata": {
    "ExecuteTime": {
     "end_time": "2025-01-04T21:49:09.127600Z",
     "start_time": "2025-01-04T21:49:00.826225Z"
    }
   },
   "cell_type": "code",
   "source": [
    "# wczytanie danych z pliku json w postaci słowników\n",
    "with open(os.path.join(output_directory, 'airport_data.json'), 'r', encoding='utf-8') as json_file:\n",
    "    data = json.load(json_file) # załadunek danych z pliku json\n",
    "    # print(data)\n",
    "\n",
    "# konwertowanie danych do ramki metodą from_records\n",
    "airport_df = pd.DataFrame.from_records(data)\n",
    "\n",
    "# zapis wyniku do csv   (os.path.join(output_directory,\n",
    "airport_df.to_csv(os.path.join(output_directory,\"airport_data.csv\"), index=False, encoding='utf-8')\n",
    "print(\"Zapisano plik airport_data.csv\")\n",
    "print(airport_df.shape)\n",
    "\n",
    "# print(airport_df)\n",
    "print(airport_df.columns)\n",
    "# print(airport_df.head())\n",
    "\n",
    "# spr czy są braki danych NaN\n",
    "print(airport_df.isnull().sum())\n",
    "\n",
    "print(\"\\n***   *** ***\")\n",
    "# wyszukanie i zliczenie wierszy \"Brak danych\" any axis sprawdza czy jest jakikolwiek wpis \"Brak danych\"\n",
    "rows_with_missing_data = len(airport_df[(airport_df == \"Brak danych\").any(axis=1)])\n",
    "print(rows_with_missing_data)\n",
    "\n",
    "# usunięcie wierszy \"Brak danych\" negacja warunku [~...] zachowuje te wiersze które nie mają wpisu \"Brak danych\"\n",
    "rows_with_cleaned_data = airport_df[~(airport_df == \"Brak danych\"). any(axis=1)]\n",
    "print(rows_with_cleaned_data.shape)\n",
    "\n",
    "\n",
    "# zapisanie ramki danych po usunięciu braków\n",
    "rows_with_cleaned_data.to_csv(os.path.join(output_directory, \"airport_df_cleaned.csv\"), index=False, encoding='utf-8')\n",
    "print(rows_with_cleaned_data.shape)"
   ],
   "outputs": [
    {
     "name": "stdout",
     "output_type": "stream",
     "text": [
      "Zapisano plik airport_data.csv\n",
      "(104, 4)\n",
      "Index(['ORIGIN_AIRPORT_ID', 'DISPLAY_AIRPORT_NAME', 'ORIGIN_CITY_NAME',\n",
      "       'NAME'],\n",
      "      dtype='object')\n",
      "ORIGIN_AIRPORT_ID       0\n",
      "DISPLAY_AIRPORT_NAME    0\n",
      "ORIGIN_CITY_NAME        0\n",
      "NAME                    0\n",
      "dtype: int64\n",
      "\n",
      "***   *** ***\n",
      "7\n",
      "(97, 4)\n",
      "(97, 4)\n"
     ]
    }
   ],
   "execution_count": 331
  },
  {
   "cell_type": "markdown",
   "metadata": {},
   "source": [
    " ## Sprawdzenie\n",
    " Uruchom kod poniżej, aby sprawdzić czy ta część została poprawnie wykonana"
   ]
  },
  {
   "cell_type": "code",
   "metadata": {
    "ExecuteTime": {
     "end_time": "2025-01-04T22:04:38.774577Z",
     "start_time": "2025-01-04T22:04:38.762860Z"
    }
   },
   "source": [
    "airport_df_expected_shape = (97, 4)\n",
    "assert airport_df_expected_shape == rows_with_cleaned_data.shape"
   ],
   "outputs": [],
   "execution_count": 339
  },
  {
   "cell_type": "markdown",
   "metadata": {},
   "source": [
    " Tutaj zapisz ramkę `airport_df` do pliku `airport_list.csv`"
   ]
  },
  {
   "cell_type": "code",
   "metadata": {
    "jupyter": {
     "is_executing": true
    }
   },
   "source": "",
   "outputs": [],
   "execution_count": null
  },
  {
   "cell_type": "markdown",
   "metadata": {},
   "source": [
    " # Pobieranie `Weather`\n",
    " Zapoznaj się z dokumentacją endpotu `Weather`, następnie pobierz dane dotyczące zarejestrowanej pogody na poszczególnych lotniskach. Wyniki zapisz do ramki `weather_df`, a później do pliku `airport_weather.csv`.\n",
    "\n",
    " Wskazówki:\n",
    " - Ze względu na wolumen danych, które tutaj się pobiorą, odradzamy zapisywanie danych bezpośrednio do ramki. Rekomendujemy podejście podobne do tego z warsztatu na kursie `Python - analiza danych` - `Dzień 10 - Warsztat > Warsztat > Scrapowanie danych`, czyli stworzenie listy, a następnie przekonwertowanie jej w postać ramki.\n",
    " - Data początkowa danych to `2019-01-01`, zaś data końcowa to `2020-03-31`, czyli 15 miesięcy,\n",
    " - Ze względu na czas, jaki ten krok będzie się wykonywał, warto dodać w pętli instrukcję (lub kilka) `print`, aby monitorować przebieg wykonywania tego kroku.\n",
    " - Przy dodawaniu miesięcy do daty może przydać się metoda [relativedelta](https://www.geeksforgeeks.org/python-get-month-from-year-and-weekday/)."
   ]
  },
  {
   "cell_type": "code",
   "execution_count": null,
   "metadata": {},
   "outputs": [],
   "source": []
  },
  {
   "cell_type": "markdown",
   "metadata": {},
   "source": [
    " ## Sprawdzenie\n",
    " Uruchom kod poniżej, aby sprawdzić, czy ta część została poprawnie wykonana"
   ]
  },
  {
   "cell_type": "code",
   "execution_count": null,
   "metadata": {},
   "outputs": [],
   "source": [
    "airport_weather_df_expected_shape = (46226, 33)\n",
    "assert airport_weather_df_expected_shape == airport_weather_df.shape"
   ]
  },
  {
   "cell_type": "markdown",
   "metadata": {},
   "source": [
    " ## Zapis do pliku\n",
    " Tutaj zapisz ramkę `weather_df` do pliku `airport_weather.csv` w katalogu `data/raw`"
   ]
  },
  {
   "cell_type": "code",
   "execution_count": null,
   "metadata": {},
   "outputs": [],
   "source": []
  },
  {
   "cell_type": "markdown",
   "metadata": {},
   "source": [
    " # Pobranie `Aircraft`\n",
    " Zapoznaj się z dokumentacją endpointu `aircraft`, a następnie pobierz dane produkcyjne samolotów. Wyniki zapisz do ramki `aircraft_df`, a następnie zapisz do pliku `aircraft.csv`.\n"
   ]
  },
  {
   "cell_type": "code",
   "execution_count": null,
   "metadata": {},
   "outputs": [],
   "source": []
  },
  {
   "cell_type": "markdown",
   "metadata": {},
   "source": [
    " ## Sprawdzenie\n",
    " Uruchom kod poniżej, aby sprawdzić, czy ta część została poprawnie wykonana"
   ]
  },
  {
   "cell_type": "code",
   "execution_count": null,
   "metadata": {},
   "outputs": [],
   "source": [
    "aircraft_df_expected_shape = (7383, 3)\n",
    "assert aircraft_df_expected_shape == aircraft_df.shape"
   ]
  },
  {
   "cell_type": "markdown",
   "metadata": {},
   "source": [
    " ## Zapis do pliku\n",
    " Tutaj zapisz ramkę `aircraft_df` do pliku `aircraft.csv` w katalogu `data/raw`"
   ]
  },
  {
   "cell_type": "code",
   "execution_count": null,
   "metadata": {},
   "outputs": [],
   "source": []
  },
  {
   "cell_type": "markdown",
   "metadata": {},
   "source": [
    " # Pobranie `Flight`\n",
    " Zapoznaj się z dokumentacją endpointu `flights`, następnie pobierz dane dotyczące ruchu lotniczego. Wyniki zapisz do ramki `flight_df`, a później do pliku `flight.csv`.\n",
    "\n",
    " Wskazówki:\n",
    " - Zwróć szczególną uwagę na konstrukcję endpointa,\n",
    " - Ze względu na wolumen danych, które tutaj się pobiorą, odradzamy zapisywanie danych bezpośrednio do ramki. Rekomendujemy podejście podobne do tego, z warsztatu na kursie `Python - analiza danych` - `Dzień 10 - Warsztat > Warsztat > Scrapowanie danych`,\n",
    " - Data początkowa danych to `2019-01-01`, zaś końcowa to `2020-03-31`, czyli 456 dni,\n",
    " - Ze względu na czas, jaki ten krok będzie się wykonywał, warto dodać w pętli instrukcję (lub kilka) `print`, aby monitorować przebieg wykonywania tego kroku,\n",
    " - W przypadku, gdy nie ma dostępnych danych dla danego lotniska, API zwraca kod [204](https://developer.mozilla.org/en-US/docs/Web/HTTP/Status/204), w ten sposób możesz pominąć lotniska, dla których dane nie są dostępne,\n",
    " - Pobranie całości danych zajmuje dłuższą chwilę, zanim włączysz pętle dla wszystkich danych, sprawdź pobieranie danych dla jednego, dwóch lotnisk aby uniknąć frustracji."
   ]
  },
  {
   "cell_type": "code",
   "execution_count": null,
   "metadata": {},
   "outputs": [],
   "source": []
  },
  {
   "cell_type": "markdown",
   "metadata": {},
   "source": [
    " ## Sprawdzenie\n",
    " Uruchom kod poniżej, aby sprawdzić, czy ta część została poprawnie wykonana"
   ]
  },
  {
   "cell_type": "code",
   "execution_count": null,
   "metadata": {},
   "outputs": [],
   "source": [
    "flight_df_expected_shape = (1386120, 27)\n",
    "assert flight_df_expected_shape == flight_df.shape"
   ]
  },
  {
   "cell_type": "markdown",
   "metadata": {},
   "source": [
    " ## Zapis do pliku\n",
    " Tutaj zapisz ramkę `flight_df` do pliku `flight.csv` w katalogu `data/raw`"
   ]
  },
  {
   "cell_type": "code",
   "execution_count": null,
   "metadata": {},
   "outputs": [],
   "source": []
  },
  {
   "cell_type": "markdown",
   "metadata": {},
   "source": [
    " # Podsumowanie\n",
    " W tym notatniku wykonaliśmy podstawowy krok w analizie danych - pozyskaliśmy je. Są gotowe do dalszej pracy, czyli możemy załadować je na bazę danych, a następnie zapoznać się z tym, jakie informacje ze sobą niosą. Kolejne notatniki będą służyły właśnie tym celom."
   ]
  },
  {
   "cell_type": "code",
   "execution_count": null,
   "metadata": {},
   "outputs": [],
   "source": [
    "msg = \"Wszystko wygląda OK :) Możesz przejść do kolejnego kroku.\"\n",
    "print(msg)"
   ]
  }
 ],
 "metadata": {
  "kernelspec": {
   "display_name": "Python 3 (ipykernel)",
   "language": "python",
   "name": "python3"
  },
  "language_info": {
   "codemirror_mode": {
    "name": "ipython",
    "version": 3
   },
   "file_extension": ".py",
   "mimetype": "text/x-python",
   "name": "python",
   "nbconvert_exporter": "python",
   "pygments_lexer": "ipython3",
   "version": "3.9.12"
  },
  "vscode": {
   "interpreter": {
    "hash": "38d75d0df746d7f75dd34c5d1915af59cb55786647bd68b8d9064425d7680b12"
   }
  }
 },
 "nbformat": 4,
 "nbformat_minor": 2
}
