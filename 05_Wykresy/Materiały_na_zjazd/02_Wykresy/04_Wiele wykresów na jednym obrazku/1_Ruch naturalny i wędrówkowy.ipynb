{
 "cells": [
  {
   "cell_type": "markdown",
   "metadata": {},
   "source": [
    "W pliku **Ludność w  Polsce - prognozy.xlsx**, znajdziesz arkusz **ruch naturalny i wędrówkowy**.\n",
    "\n",
    "W ramach jednej ryciny stwórz **obok siebie (mają sąsiadować w poziomie)** dwa wykresy:\n",
    "- urodzenia i zgony (dwie linie, na podstawie kolumn **Ruch naturalny – Urodzenia** i **Ruch naturalny – Zgony** w arkuszu)\n",
    "- emigracja i imigracja (dwie linie, na podstawie kolumn **Migracje zagraniczne na pobyt stały – Imigracja** i **Migracje zagraniczne na pobyt stały – Emigracja** w arkuszu\n",
    "\n",
    "Do każdego wykresu dodaj legendy objaśniające znaczenie każdej z linii."
   ]
  },
  {
   "cell_type": "code",
   "metadata": {
    "ExecuteTime": {
     "end_time": "2024-11-19T22:13:18.787858Z",
     "start_time": "2024-11-19T22:13:18.782492Z"
    }
   },
   "source": [
    "import os\n",
    "import pandas as pd\n",
    "import matplotlib.pyplot as plt\n",
    "from matplotlib import ticker"
   ],
   "outputs": [],
   "execution_count": 48
  },
  {
   "metadata": {
    "ExecuteTime": {
     "end_time": "2024-11-19T22:13:19.608354Z",
     "start_time": "2024-11-19T22:13:19.567696Z"
    }
   },
   "cell_type": "code",
   "source": "df = pd.read_excel(os.path.join(\"..\", \"01_Dane do wykresów\", \"Ludność w Polsce - prognozy.xlsx\"), sheet_name=\"ruch naturalny i wędrówkowy\")",
   "outputs": [],
   "execution_count": 49
  },
  {
   "metadata": {
    "ExecuteTime": {
     "end_time": "2024-11-19T22:13:20.346596Z",
     "start_time": "2024-11-19T22:13:20.338545Z"
    }
   },
   "cell_type": "code",
   "source": "df.head()",
   "outputs": [
    {
     "data": {
      "text/plain": [
       "    Rok  Ludność na 31 XII  Ruch naturalny – Urodzenia  \\\n",
       "0  2014           38005614                      375160   \n",
       "1  2015           38001529                      376407   \n",
       "2  2016           38001253                      375756   \n",
       "3  2017           37989781                      373569   \n",
       "4  2018           37973268                      370033   \n",
       "\n",
       "   Ruch naturalny – Zgony  Migracje zagraniczne na pobyt stały – Imigracja  \\\n",
       "0                  376467                                            46129   \n",
       "1                  375377                                            47542   \n",
       "2                  379681                                            56045   \n",
       "3                  383488                                            50552   \n",
       "4                  386849                                            52063   \n",
       "\n",
       "   Migracje zagraniczne na pobyt stały – Emigracja  \\\n",
       "0                                            54960   \n",
       "1                                            52657   \n",
       "2                                            52396   \n",
       "3                                            52105   \n",
       "4                                            51760   \n",
       "\n",
       "   Migracje zagraniczne na pobyt stały – Saldo  \n",
       "0                                        -8831  \n",
       "1                                        -5115  \n",
       "2                                         3649  \n",
       "3                                        -1553  \n",
       "4                                          303  "
      ],
      "text/html": [
       "<div>\n",
       "<style scoped>\n",
       "    .dataframe tbody tr th:only-of-type {\n",
       "        vertical-align: middle;\n",
       "    }\n",
       "\n",
       "    .dataframe tbody tr th {\n",
       "        vertical-align: top;\n",
       "    }\n",
       "\n",
       "    .dataframe thead th {\n",
       "        text-align: right;\n",
       "    }\n",
       "</style>\n",
       "<table border=\"1\" class=\"dataframe\">\n",
       "  <thead>\n",
       "    <tr style=\"text-align: right;\">\n",
       "      <th></th>\n",
       "      <th>Rok</th>\n",
       "      <th>Ludność na 31 XII</th>\n",
       "      <th>Ruch naturalny – Urodzenia</th>\n",
       "      <th>Ruch naturalny – Zgony</th>\n",
       "      <th>Migracje zagraniczne na pobyt stały – Imigracja</th>\n",
       "      <th>Migracje zagraniczne na pobyt stały – Emigracja</th>\n",
       "      <th>Migracje zagraniczne na pobyt stały – Saldo</th>\n",
       "    </tr>\n",
       "  </thead>\n",
       "  <tbody>\n",
       "    <tr>\n",
       "      <th>0</th>\n",
       "      <td>2014</td>\n",
       "      <td>38005614</td>\n",
       "      <td>375160</td>\n",
       "      <td>376467</td>\n",
       "      <td>46129</td>\n",
       "      <td>54960</td>\n",
       "      <td>-8831</td>\n",
       "    </tr>\n",
       "    <tr>\n",
       "      <th>1</th>\n",
       "      <td>2015</td>\n",
       "      <td>38001529</td>\n",
       "      <td>376407</td>\n",
       "      <td>375377</td>\n",
       "      <td>47542</td>\n",
       "      <td>52657</td>\n",
       "      <td>-5115</td>\n",
       "    </tr>\n",
       "    <tr>\n",
       "      <th>2</th>\n",
       "      <td>2016</td>\n",
       "      <td>38001253</td>\n",
       "      <td>375756</td>\n",
       "      <td>379681</td>\n",
       "      <td>56045</td>\n",
       "      <td>52396</td>\n",
       "      <td>3649</td>\n",
       "    </tr>\n",
       "    <tr>\n",
       "      <th>3</th>\n",
       "      <td>2017</td>\n",
       "      <td>37989781</td>\n",
       "      <td>373569</td>\n",
       "      <td>383488</td>\n",
       "      <td>50552</td>\n",
       "      <td>52105</td>\n",
       "      <td>-1553</td>\n",
       "    </tr>\n",
       "    <tr>\n",
       "      <th>4</th>\n",
       "      <td>2018</td>\n",
       "      <td>37973268</td>\n",
       "      <td>370033</td>\n",
       "      <td>386849</td>\n",
       "      <td>52063</td>\n",
       "      <td>51760</td>\n",
       "      <td>303</td>\n",
       "    </tr>\n",
       "  </tbody>\n",
       "</table>\n",
       "</div>"
      ]
     },
     "execution_count": 50,
     "metadata": {},
     "output_type": "execute_result"
    }
   ],
   "execution_count": 50
  },
  {
   "metadata": {
    "ExecuteTime": {
     "end_time": "2024-11-19T22:13:20.874823Z",
     "start_time": "2024-11-19T22:13:20.863763Z"
    }
   },
   "cell_type": "code",
   "source": "df.sample(10)",
   "outputs": [
    {
     "data": {
      "text/plain": [
       "     Rok  Ludność na 31 XII  Ruch naturalny – Urodzenia  \\\n",
       "18  2032           37043097                      289578   \n",
       "10  2024           37739127                      332289   \n",
       "36  2050           34856003                      277584   \n",
       "23  2037           36448472                      284842   \n",
       "32  2046           35332468                      285284   \n",
       "26  2040           36073444                      286543   \n",
       "29  2043           35699764                      287471   \n",
       "2   2016           38001253                      375756   \n",
       "19  2033           36930201                      287268   \n",
       "15  2029           37351763                      301214   \n",
       "\n",
       "    Ruch naturalny – Zgony  Migracje zagraniczne na pobyt stały – Imigracja  \\\n",
       "18                  420199                                            67272   \n",
       "10                  399729                                            59900   \n",
       "36                  431968                                            76300   \n",
       "23                  435729                                            70498   \n",
       "32                  441219                                            74727   \n",
       "26                  441747                                            72088   \n",
       "29                  443650                                            73474   \n",
       "2                   379681                                            56045   \n",
       "19                  423550                                            67982   \n",
       "15                  410555                                            64837   \n",
       "\n",
       "    Migracje zagraniczne na pobyt stały – Emigracja  \\\n",
       "18                                            45020   \n",
       "10                                            49074   \n",
       "36                                            39297   \n",
       "23                                            43141   \n",
       "32                                            40397   \n",
       "26                                            42170   \n",
       "29                                            41256   \n",
       "2                                             52396   \n",
       "19                                            44596   \n",
       "15                                            46437   \n",
       "\n",
       "    Migracje zagraniczne na pobyt stały – Saldo  \n",
       "18                                        22252  \n",
       "10                                        10826  \n",
       "36                                        37003  \n",
       "23                                        27357  \n",
       "32                                        34330  \n",
       "26                                        29918  \n",
       "29                                        32218  \n",
       "2                                          3649  \n",
       "19                                        23386  \n",
       "15                                        18400  "
      ],
      "text/html": [
       "<div>\n",
       "<style scoped>\n",
       "    .dataframe tbody tr th:only-of-type {\n",
       "        vertical-align: middle;\n",
       "    }\n",
       "\n",
       "    .dataframe tbody tr th {\n",
       "        vertical-align: top;\n",
       "    }\n",
       "\n",
       "    .dataframe thead th {\n",
       "        text-align: right;\n",
       "    }\n",
       "</style>\n",
       "<table border=\"1\" class=\"dataframe\">\n",
       "  <thead>\n",
       "    <tr style=\"text-align: right;\">\n",
       "      <th></th>\n",
       "      <th>Rok</th>\n",
       "      <th>Ludność na 31 XII</th>\n",
       "      <th>Ruch naturalny – Urodzenia</th>\n",
       "      <th>Ruch naturalny – Zgony</th>\n",
       "      <th>Migracje zagraniczne na pobyt stały – Imigracja</th>\n",
       "      <th>Migracje zagraniczne na pobyt stały – Emigracja</th>\n",
       "      <th>Migracje zagraniczne na pobyt stały – Saldo</th>\n",
       "    </tr>\n",
       "  </thead>\n",
       "  <tbody>\n",
       "    <tr>\n",
       "      <th>18</th>\n",
       "      <td>2032</td>\n",
       "      <td>37043097</td>\n",
       "      <td>289578</td>\n",
       "      <td>420199</td>\n",
       "      <td>67272</td>\n",
       "      <td>45020</td>\n",
       "      <td>22252</td>\n",
       "    </tr>\n",
       "    <tr>\n",
       "      <th>10</th>\n",
       "      <td>2024</td>\n",
       "      <td>37739127</td>\n",
       "      <td>332289</td>\n",
       "      <td>399729</td>\n",
       "      <td>59900</td>\n",
       "      <td>49074</td>\n",
       "      <td>10826</td>\n",
       "    </tr>\n",
       "    <tr>\n",
       "      <th>36</th>\n",
       "      <td>2050</td>\n",
       "      <td>34856003</td>\n",
       "      <td>277584</td>\n",
       "      <td>431968</td>\n",
       "      <td>76300</td>\n",
       "      <td>39297</td>\n",
       "      <td>37003</td>\n",
       "    </tr>\n",
       "    <tr>\n",
       "      <th>23</th>\n",
       "      <td>2037</td>\n",
       "      <td>36448472</td>\n",
       "      <td>284842</td>\n",
       "      <td>435729</td>\n",
       "      <td>70498</td>\n",
       "      <td>43141</td>\n",
       "      <td>27357</td>\n",
       "    </tr>\n",
       "    <tr>\n",
       "      <th>32</th>\n",
       "      <td>2046</td>\n",
       "      <td>35332468</td>\n",
       "      <td>285284</td>\n",
       "      <td>441219</td>\n",
       "      <td>74727</td>\n",
       "      <td>40397</td>\n",
       "      <td>34330</td>\n",
       "    </tr>\n",
       "    <tr>\n",
       "      <th>26</th>\n",
       "      <td>2040</td>\n",
       "      <td>36073444</td>\n",
       "      <td>286543</td>\n",
       "      <td>441747</td>\n",
       "      <td>72088</td>\n",
       "      <td>42170</td>\n",
       "      <td>29918</td>\n",
       "    </tr>\n",
       "    <tr>\n",
       "      <th>29</th>\n",
       "      <td>2043</td>\n",
       "      <td>35699764</td>\n",
       "      <td>287471</td>\n",
       "      <td>443650</td>\n",
       "      <td>73474</td>\n",
       "      <td>41256</td>\n",
       "      <td>32218</td>\n",
       "    </tr>\n",
       "    <tr>\n",
       "      <th>2</th>\n",
       "      <td>2016</td>\n",
       "      <td>38001253</td>\n",
       "      <td>375756</td>\n",
       "      <td>379681</td>\n",
       "      <td>56045</td>\n",
       "      <td>52396</td>\n",
       "      <td>3649</td>\n",
       "    </tr>\n",
       "    <tr>\n",
       "      <th>19</th>\n",
       "      <td>2033</td>\n",
       "      <td>36930201</td>\n",
       "      <td>287268</td>\n",
       "      <td>423550</td>\n",
       "      <td>67982</td>\n",
       "      <td>44596</td>\n",
       "      <td>23386</td>\n",
       "    </tr>\n",
       "    <tr>\n",
       "      <th>15</th>\n",
       "      <td>2029</td>\n",
       "      <td>37351763</td>\n",
       "      <td>301214</td>\n",
       "      <td>410555</td>\n",
       "      <td>64837</td>\n",
       "      <td>46437</td>\n",
       "      <td>18400</td>\n",
       "    </tr>\n",
       "  </tbody>\n",
       "</table>\n",
       "</div>"
      ]
     },
     "execution_count": 51,
     "metadata": {},
     "output_type": "execute_result"
    }
   ],
   "execution_count": 51
  },
  {
   "metadata": {
    "ExecuteTime": {
     "end_time": "2024-11-19T22:13:21.515567Z",
     "start_time": "2024-11-19T22:13:21.506979Z"
    }
   },
   "cell_type": "code",
   "source": "df.info()",
   "outputs": [
    {
     "name": "stdout",
     "output_type": "stream",
     "text": [
      "<class 'pandas.core.frame.DataFrame'>\n",
      "RangeIndex: 37 entries, 0 to 36\n",
      "Data columns (total 7 columns):\n",
      " #   Column                                           Non-Null Count  Dtype\n",
      "---  ------                                           --------------  -----\n",
      " 0   Rok                                              37 non-null     int64\n",
      " 1   Ludność na 31 XII                                37 non-null     int64\n",
      " 2   Ruch naturalny – Urodzenia                       37 non-null     int64\n",
      " 3   Ruch naturalny – Zgony                           37 non-null     int64\n",
      " 4   Migracje zagraniczne na pobyt stały – Imigracja  37 non-null     int64\n",
      " 5   Migracje zagraniczne na pobyt stały – Emigracja  37 non-null     int64\n",
      " 6   Migracje zagraniczne na pobyt stały – Saldo      37 non-null     int64\n",
      "dtypes: int64(7)\n",
      "memory usage: 2.2 KB\n"
     ]
    }
   ],
   "execution_count": 52
  },
  {
   "metadata": {
    "ExecuteTime": {
     "end_time": "2024-11-19T22:13:22.219579Z",
     "start_time": "2024-11-19T22:13:22.214310Z"
    }
   },
   "cell_type": "code",
   "source": "df.shape",
   "outputs": [
    {
     "data": {
      "text/plain": [
       "(37, 7)"
      ]
     },
     "execution_count": 53,
     "metadata": {},
     "output_type": "execute_result"
    }
   ],
   "execution_count": 53
  },
  {
   "metadata": {
    "ExecuteTime": {
     "end_time": "2024-11-19T22:13:22.993989Z",
     "start_time": "2024-11-19T22:13:22.983750Z"
    }
   },
   "cell_type": "code",
   "source": [
    "# spr sobie nazwy kolumn:\n",
    "df.columns\n"
   ],
   "outputs": [
    {
     "data": {
      "text/plain": [
       "Index(['Rok', 'Ludność na 31 XII', 'Ruch naturalny – Urodzenia',\n",
       "       'Ruch naturalny – Zgony',\n",
       "       'Migracje zagraniczne na pobyt stały – Imigracja',\n",
       "       'Migracje zagraniczne na pobyt stały – Emigracja',\n",
       "       'Migracje zagraniczne na pobyt stały – Saldo'],\n",
       "      dtype='object')"
      ]
     },
     "execution_count": 54,
     "metadata": {},
     "output_type": "execute_result"
    }
   ],
   "execution_count": 54
  },
  {
   "metadata": {
    "ExecuteTime": {
     "end_time": "2024-11-19T22:18:04.628436Z",
     "start_time": "2024-11-19T22:18:04.344982Z"
    }
   },
   "cell_type": "code",
   "source": [
    "# dwa wykresy na jednym schemacie czyli jeden wiersz, dwie kolumny (nrows i ncols:, muszą to być parametry pozycyjne)\n",
    "# axs a nie ax bo tutaj to już jest liczba mnoga (axs to jeden prostokąt)\n",
    "\n",
    "# jeżeli wykresy są obok siebie, to muszą rozpoczynać się od takiej samej skali! od tego jest (sharey=True) żeby oś y w jedym i drugim wykresie była taka sama\"\n",
    "\n",
    "fig, axs = plt.subplots(1, 2, figsize=(12, 8), sharey=True)\n",
    "\n",
    "# axs[0] - index pierwszego wykresu\n",
    "axs[0].plot(\n",
    "    df[\"Rok\"],\n",
    "    df[\"Ruch naturalny – Urodzenia\"],\n",
    "    color=\"blue\",\n",
    "    label=\"Ruch naturalny – Urodzenia\")\n",
    "\n",
    "axs[0].plot(\n",
    "    df[\"Rok\"],\n",
    "    df[\"Ruch naturalny – Zgony\"],\n",
    "    color=\"grey\",\n",
    "    label = \"Ruch naturalny – Zgony\")\n",
    "\n",
    "# jak chcemy zrobić wypełnienie kolorem pomiędzy dwiema liniami na wykresie, to:\n",
    "axs[0].fill_between(df[\"Rok\"], df[\"Ruch naturalny – Urodzenia\"], df[\"Ruch naturalny – Zgony\"], alpha=0.3)\n",
    "\n",
    "\n",
    "# drugi wykres:\n",
    "axs[1].plot(\n",
    "    df[\"Rok\"],\n",
    "    df[\"Migracje zagraniczne na pobyt stały – Imigracja\"],\n",
    "    color=\"grey\",\n",
    "    label=\"Migracje zagraniczne na pobyt stały – Imigracja\")\n",
    "\n",
    "axs[1].plot(\n",
    "    df[\"Rok\"],\n",
    "    df[\"Migracje zagraniczne na pobyt stały – Emigracja\"],\n",
    "    color=\"blue\",\n",
    "    label=\"Migracje zagraniczne na pobyt stały – Emigracja\")\n",
    "\n",
    "# jak chcemy zrobić wypełnienie kolorem pomiędzy dwiema liniami na wykresie, to:\n",
    "axs[1].fill_between(df[\"Rok\"], df[\"Migracje zagraniczne na pobyt stały – Imigracja\"], df[\"Migracje zagraniczne na pobyt stały – Emigracja\"], alpha=0.3)\n",
    "\n",
    "\n",
    "# legenda domyślnie ustawi się sama w jakimś miejscu:\n",
    "# axs[0].legend()\n",
    "# axs[1].legend()\n",
    "\n",
    "# jeżeli legenda się umieści w złym miejscu, to możemy przesunąć legendę:\n",
    "axs[0].legend(loc=\"upper left\")\n",
    "axs[1].legend(loc=\"upper left\")\n",
    "\n",
    "#opisujemy osie x i y:\n",
    "axs[0].set_xlabel(\"Rok\")\n",
    "axs[0].set_ylabel(\"Urodzenia / Zgony (tys.)\")\n",
    "\n",
    "axs[1].set_xlabel(\"Rok\")\n",
    "axs[1].set_ylabel(\"Imigracja / Emigracja (tys.)\")\n",
    "\n",
    "# fig.set_title(\"zmiany\")\n",
    "\n",
    "# obcinam zera na osi y:\n",
    "axs[0].yaxis.set_major_formatter(ticker.FuncFormatter(lambda x, pos: f'{int(x / 1e3)}'))\n",
    "axs[1].yaxis.set_major_formatter(ticker.FuncFormatter(lambda x, pos: f'{int(x / 1e3)}'))\n",
    "\n",
    "# fig bo tytuł jeden do wszystkich wykresów (jak chcę do każdego wykresu inny tytuł, to plt.title)\n",
    "fig.suptitle(\"Zmiany ludności\")\n",
    "\n",
    "\n",
    "# plt.xticks(rotation=45)\n",
    "\n",
    "plt.tight_layout()\n",
    "plt.show()"
   ],
   "outputs": [
    {
     "data": {
      "text/plain": [
       "<Figure size 1200x800 with 2 Axes>"
      ],
      "image/png": "[encoded data removed]"
     },
     "metadata": {},
     "output_type": "display_data"
    }
   ],
   "execution_count": 57
  }
 ],
 "metadata": {
  "kernelspec": {
   "display_name": "Python 3",
   "language": "python",
   "name": "python3"
  },
  "language_info": {
   "codemirror_mode": {
    "name": "ipython",
    "version": 3
   },
   "file_extension": ".py",
   "mimetype": "text/x-python",
   "name": "python",
   "nbconvert_exporter": "python",
   "pygments_lexer": "ipython3",
   "version": "3.9.2"
  }
 },
 "nbformat": 4,
 "nbformat_minor": 4
}
