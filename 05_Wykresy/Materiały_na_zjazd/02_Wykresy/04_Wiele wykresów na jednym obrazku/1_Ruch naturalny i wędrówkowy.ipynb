{
 "cells": [
  {
   "cell_type": "markdown",
   "metadata": {},
   "source": [
    "W pliku **Ludność w  Polsce - prognozy.xlsx**, znajdziesz arkusz **ruch naturalny i wędrówkowy**.\n",
    "\n",
    "W ramach jednej ryciny stwórz **obok siebie (mają sąsiadować w poziomie)** dwa wykresy:\n",
    "- urodzenia i zgony (dwie linie, na podstawie kolumn **Ruch naturalny – Urodzenia** i **Ruch naturalny – Zgony** w arkuszu)\n",
    "- emigracja i imigracja (dwie linie, na podstawie kolumn **Migracje zagraniczne na pobyt stały – Imigracja** i **Migracje zagraniczne na pobyt stały – Emigracja** w arkuszu\n",
    "\n",
    "Do każdego wykresu dodaj legendy objaśniające znaczenie każdej z linii."
   ]
  },
  {
   "cell_type": "code",
   "metadata": {
    "ExecuteTime": {
     "end_time": "2024-11-19T20:06:45.541335Z",
     "start_time": "2024-11-19T20:06:45.537605Z"
    }
   },
   "source": [
    "import os\n",
    "import pandas as pd\n",
    "import matplotlib.pyplot as plt\n",
    "import matplotlib.pyplot\n",
    "from matplotlib import ticker"
   ],
   "outputs": [],
   "execution_count": 43
  },
  {
   "metadata": {
    "ExecuteTime": {
     "end_time": "2024-11-19T20:06:46.704139Z",
     "start_time": "2024-11-19T20:06:46.670311Z"
    }
   },
   "cell_type": "code",
   "source": "df = pd.read_excel(os.path.join(\"..\", \"01_Dane do wykresów\", \"Ludność w Polsce - prognozy.xlsx\"), sheet_name=\"ruch naturalny i wędrówkowy\")",
   "outputs": [],
   "execution_count": 44
  },
  {
   "metadata": {
    "ExecuteTime": {
     "end_time": "2024-11-19T20:06:47.518248Z",
     "start_time": "2024-11-19T20:06:47.509492Z"
    }
   },
   "cell_type": "code",
   "source": "df.head()",
   "outputs": [
    {
     "data": {
      "text/plain": [
       "    Rok  Ludność na 31 XII  Ruch naturalny – Urodzenia  \\\n",
       "0  2014           38005614                      375160   \n",
       "1  2015           38001529                      376407   \n",
       "2  2016           38001253                      375756   \n",
       "3  2017           37989781                      373569   \n",
       "4  2018           37973268                      370033   \n",
       "\n",
       "   Ruch naturalny – Zgony  Migracje zagraniczne na pobyt stały – Imigracja  \\\n",
       "0                  376467                                            46129   \n",
       "1                  375377                                            47542   \n",
       "2                  379681                                            56045   \n",
       "3                  383488                                            50552   \n",
       "4                  386849                                            52063   \n",
       "\n",
       "   Migracje zagraniczne na pobyt stały – Emigracja  \\\n",
       "0                                            54960   \n",
       "1                                            52657   \n",
       "2                                            52396   \n",
       "3                                            52105   \n",
       "4                                            51760   \n",
       "\n",
       "   Migracje zagraniczne na pobyt stały – Saldo  \n",
       "0                                        -8831  \n",
       "1                                        -5115  \n",
       "2                                         3649  \n",
       "3                                        -1553  \n",
       "4                                          303  "
      ],
      "text/html": [
       "<div>\n",
       "<style scoped>\n",
       "    .dataframe tbody tr th:only-of-type {\n",
       "        vertical-align: middle;\n",
       "    }\n",
       "\n",
       "    .dataframe tbody tr th {\n",
       "        vertical-align: top;\n",
       "    }\n",
       "\n",
       "    .dataframe thead th {\n",
       "        text-align: right;\n",
       "    }\n",
       "</style>\n",
       "<table border=\"1\" class=\"dataframe\">\n",
       "  <thead>\n",
       "    <tr style=\"text-align: right;\">\n",
       "      <th></th>\n",
       "      <th>Rok</th>\n",
       "      <th>Ludność na 31 XII</th>\n",
       "      <th>Ruch naturalny – Urodzenia</th>\n",
       "      <th>Ruch naturalny – Zgony</th>\n",
       "      <th>Migracje zagraniczne na pobyt stały – Imigracja</th>\n",
       "      <th>Migracje zagraniczne na pobyt stały – Emigracja</th>\n",
       "      <th>Migracje zagraniczne na pobyt stały – Saldo</th>\n",
       "    </tr>\n",
       "  </thead>\n",
       "  <tbody>\n",
       "    <tr>\n",
       "      <th>0</th>\n",
       "      <td>2014</td>\n",
       "      <td>38005614</td>\n",
       "      <td>375160</td>\n",
       "      <td>376467</td>\n",
       "      <td>46129</td>\n",
       "      <td>54960</td>\n",
       "      <td>-8831</td>\n",
       "    </tr>\n",
       "    <tr>\n",
       "      <th>1</th>\n",
       "      <td>2015</td>\n",
       "      <td>38001529</td>\n",
       "      <td>376407</td>\n",
       "      <td>375377</td>\n",
       "      <td>47542</td>\n",
       "      <td>52657</td>\n",
       "      <td>-5115</td>\n",
       "    </tr>\n",
       "    <tr>\n",
       "      <th>2</th>\n",
       "      <td>2016</td>\n",
       "      <td>38001253</td>\n",
       "      <td>375756</td>\n",
       "      <td>379681</td>\n",
       "      <td>56045</td>\n",
       "      <td>52396</td>\n",
       "      <td>3649</td>\n",
       "    </tr>\n",
       "    <tr>\n",
       "      <th>3</th>\n",
       "      <td>2017</td>\n",
       "      <td>37989781</td>\n",
       "      <td>373569</td>\n",
       "      <td>383488</td>\n",
       "      <td>50552</td>\n",
       "      <td>52105</td>\n",
       "      <td>-1553</td>\n",
       "    </tr>\n",
       "    <tr>\n",
       "      <th>4</th>\n",
       "      <td>2018</td>\n",
       "      <td>37973268</td>\n",
       "      <td>370033</td>\n",
       "      <td>386849</td>\n",
       "      <td>52063</td>\n",
       "      <td>51760</td>\n",
       "      <td>303</td>\n",
       "    </tr>\n",
       "  </tbody>\n",
       "</table>\n",
       "</div>"
      ]
     },
     "execution_count": 45,
     "metadata": {},
     "output_type": "execute_result"
    }
   ],
   "execution_count": 45
  },
  {
   "metadata": {
    "ExecuteTime": {
     "end_time": "2024-11-19T20:06:48.525101Z",
     "start_time": "2024-11-19T20:06:48.466517Z"
    }
   },
   "cell_type": "code",
   "source": "df.sample(10)",
   "outputs": [
    {
     "data": {
      "text/plain": [
       "     Rok  Ludność na 31 XII  Ruch naturalny – Urodzenia  \\\n",
       "6   2020           37922556                      359832   \n",
       "31  2045           35454073                      286418   \n",
       "27  2041           35948348                      287086   \n",
       "35  2049           34973384                      279875   \n",
       "34  2048           35091988                      281957   \n",
       "28  2042           35823725                      287425   \n",
       "23  2037           36448472                      284842   \n",
       "13  2027           37527061                      312259   \n",
       "14  2028           37442704                      306458   \n",
       "15  2029           37351763                      301214   \n",
       "\n",
       "    Ruch naturalny – Zgony  Migracje zagraniczne na pobyt stały – Imigracja  \\\n",
       "6                   392279                                            54928   \n",
       "31                  442496                                            74315   \n",
       "27                  442879                                            72559   \n",
       "35                  434812                                            75909   \n",
       "34                  437371                                            75523   \n",
       "28                  443514                                            73020   \n",
       "23                  435729                                            70498   \n",
       "13                  405383                                            63018   \n",
       "14                  407801                                            63951   \n",
       "15                  410555                                            64837   \n",
       "\n",
       "    Migracje zagraniczne na pobyt stały – Emigracja  \\\n",
       "6                                             50974   \n",
       "31                                            40685   \n",
       "27                                            41862   \n",
       "35                                            39576   \n",
       "34                                            39850   \n",
       "28                                            41554   \n",
       "23                                            43141   \n",
       "13                                            47497   \n",
       "14                                            46965   \n",
       "15                                            46437   \n",
       "\n",
       "    Migracje zagraniczne na pobyt stały – Saldo  \n",
       "6                                          3954  \n",
       "31                                        33630  \n",
       "27                                        30697  \n",
       "35                                        36333  \n",
       "34                                        35673  \n",
       "28                                        31466  \n",
       "23                                        27357  \n",
       "13                                        15521  \n",
       "14                                        16986  \n",
       "15                                        18400  "
      ],
      "text/html": [
       "<div>\n",
       "<style scoped>\n",
       "    .dataframe tbody tr th:only-of-type {\n",
       "        vertical-align: middle;\n",
       "    }\n",
       "\n",
       "    .dataframe tbody tr th {\n",
       "        vertical-align: top;\n",
       "    }\n",
       "\n",
       "    .dataframe thead th {\n",
       "        text-align: right;\n",
       "    }\n",
       "</style>\n",
       "<table border=\"1\" class=\"dataframe\">\n",
       "  <thead>\n",
       "    <tr style=\"text-align: right;\">\n",
       "      <th></th>\n",
       "      <th>Rok</th>\n",
       "      <th>Ludność na 31 XII</th>\n",
       "      <th>Ruch naturalny – Urodzenia</th>\n",
       "      <th>Ruch naturalny – Zgony</th>\n",
       "      <th>Migracje zagraniczne na pobyt stały – Imigracja</th>\n",
       "      <th>Migracje zagraniczne na pobyt stały – Emigracja</th>\n",
       "      <th>Migracje zagraniczne na pobyt stały – Saldo</th>\n",
       "    </tr>\n",
       "  </thead>\n",
       "  <tbody>\n",
       "    <tr>\n",
       "      <th>6</th>\n",
       "      <td>2020</td>\n",
       "      <td>37922556</td>\n",
       "      <td>359832</td>\n",
       "      <td>392279</td>\n",
       "      <td>54928</td>\n",
       "      <td>50974</td>\n",
       "      <td>3954</td>\n",
       "    </tr>\n",
       "    <tr>\n",
       "      <th>31</th>\n",
       "      <td>2045</td>\n",
       "      <td>35454073</td>\n",
       "      <td>286418</td>\n",
       "      <td>442496</td>\n",
       "      <td>74315</td>\n",
       "      <td>40685</td>\n",
       "      <td>33630</td>\n",
       "    </tr>\n",
       "    <tr>\n",
       "      <th>27</th>\n",
       "      <td>2041</td>\n",
       "      <td>35948348</td>\n",
       "      <td>287086</td>\n",
       "      <td>442879</td>\n",
       "      <td>72559</td>\n",
       "      <td>41862</td>\n",
       "      <td>30697</td>\n",
       "    </tr>\n",
       "    <tr>\n",
       "      <th>35</th>\n",
       "      <td>2049</td>\n",
       "      <td>34973384</td>\n",
       "      <td>279875</td>\n",
       "      <td>434812</td>\n",
       "      <td>75909</td>\n",
       "      <td>39576</td>\n",
       "      <td>36333</td>\n",
       "    </tr>\n",
       "    <tr>\n",
       "      <th>34</th>\n",
       "      <td>2048</td>\n",
       "      <td>35091988</td>\n",
       "      <td>281957</td>\n",
       "      <td>437371</td>\n",
       "      <td>75523</td>\n",
       "      <td>39850</td>\n",
       "      <td>35673</td>\n",
       "    </tr>\n",
       "    <tr>\n",
       "      <th>28</th>\n",
       "      <td>2042</td>\n",
       "      <td>35823725</td>\n",
       "      <td>287425</td>\n",
       "      <td>443514</td>\n",
       "      <td>73020</td>\n",
       "      <td>41554</td>\n",
       "      <td>31466</td>\n",
       "    </tr>\n",
       "    <tr>\n",
       "      <th>23</th>\n",
       "      <td>2037</td>\n",
       "      <td>36448472</td>\n",
       "      <td>284842</td>\n",
       "      <td>435729</td>\n",
       "      <td>70498</td>\n",
       "      <td>43141</td>\n",
       "      <td>27357</td>\n",
       "    </tr>\n",
       "    <tr>\n",
       "      <th>13</th>\n",
       "      <td>2027</td>\n",
       "      <td>37527061</td>\n",
       "      <td>312259</td>\n",
       "      <td>405383</td>\n",
       "      <td>63018</td>\n",
       "      <td>47497</td>\n",
       "      <td>15521</td>\n",
       "    </tr>\n",
       "    <tr>\n",
       "      <th>14</th>\n",
       "      <td>2028</td>\n",
       "      <td>37442704</td>\n",
       "      <td>306458</td>\n",
       "      <td>407801</td>\n",
       "      <td>63951</td>\n",
       "      <td>46965</td>\n",
       "      <td>16986</td>\n",
       "    </tr>\n",
       "    <tr>\n",
       "      <th>15</th>\n",
       "      <td>2029</td>\n",
       "      <td>37351763</td>\n",
       "      <td>301214</td>\n",
       "      <td>410555</td>\n",
       "      <td>64837</td>\n",
       "      <td>46437</td>\n",
       "      <td>18400</td>\n",
       "    </tr>\n",
       "  </tbody>\n",
       "</table>\n",
       "</div>"
      ]
     },
     "execution_count": 46,
     "metadata": {},
     "output_type": "execute_result"
    }
   ],
   "execution_count": 46
  },
  {
   "metadata": {
    "ExecuteTime": {
     "end_time": "2024-11-19T20:06:49.182647Z",
     "start_time": "2024-11-19T20:06:49.174063Z"
    }
   },
   "cell_type": "code",
   "source": "df.info()",
   "outputs": [
    {
     "name": "stdout",
     "output_type": "stream",
     "text": [
      "<class 'pandas.core.frame.DataFrame'>\n",
      "RangeIndex: 37 entries, 0 to 36\n",
      "Data columns (total 7 columns):\n",
      " #   Column                                           Non-Null Count  Dtype\n",
      "---  ------                                           --------------  -----\n",
      " 0   Rok                                              37 non-null     int64\n",
      " 1   Ludność na 31 XII                                37 non-null     int64\n",
      " 2   Ruch naturalny – Urodzenia                       37 non-null     int64\n",
      " 3   Ruch naturalny – Zgony                           37 non-null     int64\n",
      " 4   Migracje zagraniczne na pobyt stały – Imigracja  37 non-null     int64\n",
      " 5   Migracje zagraniczne na pobyt stały – Emigracja  37 non-null     int64\n",
      " 6   Migracje zagraniczne na pobyt stały – Saldo      37 non-null     int64\n",
      "dtypes: int64(7)\n",
      "memory usage: 2.2 KB\n"
     ]
    }
   ],
   "execution_count": 47
  },
  {
   "metadata": {
    "ExecuteTime": {
     "end_time": "2024-11-19T20:06:49.976929Z",
     "start_time": "2024-11-19T20:06:49.971922Z"
    }
   },
   "cell_type": "code",
   "source": "df.shape",
   "outputs": [
    {
     "data": {
      "text/plain": [
       "(37, 7)"
      ]
     },
     "execution_count": 48,
     "metadata": {},
     "output_type": "execute_result"
    }
   ],
   "execution_count": 48
  },
  {
   "metadata": {
    "ExecuteTime": {
     "end_time": "2024-11-19T20:06:50.692557Z",
     "start_time": "2024-11-19T20:06:50.687426Z"
    }
   },
   "cell_type": "code",
   "source": [
    "# spr sobie nazwy kolumn:\n",
    "df.columns\n"
   ],
   "outputs": [
    {
     "data": {
      "text/plain": [
       "Index(['Rok', 'Ludność na 31 XII', 'Ruch naturalny – Urodzenia',\n",
       "       'Ruch naturalny – Zgony',\n",
       "       'Migracje zagraniczne na pobyt stały – Imigracja',\n",
       "       'Migracje zagraniczne na pobyt stały – Emigracja',\n",
       "       'Migracje zagraniczne na pobyt stały – Saldo'],\n",
       "      dtype='object')"
      ]
     },
     "execution_count": 49,
     "metadata": {},
     "output_type": "execute_result"
    }
   ],
   "execution_count": 49
  },
  {
   "metadata": {
    "ExecuteTime": {
     "end_time": "2024-11-19T20:21:32.308268Z",
     "start_time": "2024-11-19T20:21:32.043558Z"
    }
   },
   "cell_type": "code",
   "source": [
    "    # dwa wykresy na jednym schemacie czyli jeden wiersz, dwie kolumny (nrows i ncols:, muszą to być parametry pozycyjne)\n",
    "    # axs a nie ax bo tutaj to już jest liczba mnoga (axs to jeden prostokąt)\n",
    "fig, axs = plt.subplots(1, 2, figsize=(12, 8))\n",
    "\n",
    "    # axs[0] - index pierwszego wykresu\n",
    "axs[0].plot(df[\"Rok\"], df[\"Ruch naturalny – Urodzenia\"], color=\"blue\")\n",
    "axs[0].plot(df[\"Rok\"], df[\"Ruch naturalny – Zgony\"], color=\"grey\")\n",
    "\n",
    "    # drugi wykres:\n",
    "axs[1].plot(df[\"Rok\"], df[\"Migracje zagraniczne na pobyt stały – Imigracja\"], color=\"grey\")\n",
    "axs[1].plot(df[\"Rok\"], df[\"Migracje zagraniczne na pobyt stały – Emigracja\"], color=\"blue\")\n",
    "\n",
    "\n",
    "\n",
    "plt.xticks(rotation=45)\n",
    "\n",
    "plt.tight_layout()\n",
    "plt.show()"
   ],
   "outputs": [
    {
     "name": "stderr",
     "output_type": "stream",
     "text": [
      "C:\\Users\\annap\\AppData\\Local\\Temp\\ipykernel_13180\\2245305556.py:13: UserWarning: No artists with labels found to put in legend.  Note that artists whose label start with an underscore are ignored when legend() is called with no argument.\n",
      "  axs[0].legend()\n",
      "C:\\Users\\annap\\AppData\\Local\\Temp\\ipykernel_13180\\2245305556.py:14: UserWarning: No artists with labels found to put in legend.  Note that artists whose label start with an underscore are ignored when legend() is called with no argument.\n",
      "  axs[1].legend()\n"
     ]
    },
    {
     "data": {
      "text/plain": [
       "<Figure size 1200x800 with 2 Axes>"
      ],
      "image/png": "[encoded data removed]"
     },
     "metadata": {},
     "output_type": "display_data"
    }
   ],
   "execution_count": 82
  },
  {
   "metadata": {},
   "cell_type": "code",
   "outputs": [],
   "execution_count": null,
   "source": ""
  }
 ],
 "metadata": {
  "kernelspec": {
   "display_name": "Python 3",
   "language": "python",
   "name": "python3"
  },
  "language_info": {
   "codemirror_mode": {
    "name": "ipython",
    "version": 3
   },
   "file_extension": ".py",
   "mimetype": "text/x-python",
   "name": "python",
   "nbconvert_exporter": "python",
   "pygments_lexer": "ipython3",
   "version": "3.9.2"
  }
 },
 "nbformat": 4,
 "nbformat_minor": 4
}
