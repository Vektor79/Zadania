{
 "cells": [
  {
   "cell_type": "markdown",
   "metadata": {},
   "source": [
    "W pliku **Ludność w  Polsce - prognozy.xlsx**, znajdziesz arkusz **ruch naturalny i wędrówkowy**.\n",
    "\n",
    "W ramach jednej ryciny stwórz **obok siebie (mają sąsiadować w poziomie)** dwa wykresy:\n",
    "- urodzenia i zgony (dwie linie, na podstawie kolumn **Ruch naturalny – Urodzenia** i **Ruch naturalny – Zgony** w arkuszu)\n",
    "- emigracja i imigracja (dwie linie, na podstawie kolumn **Migracje zagraniczne na pobyt stały – Imigracja** i **Migracje zagraniczne na pobyt stały – Emigracja** w arkuszu\n",
    "\n",
    "Do każdego wykresu dodaj legendy objaśniające znaczenie każdej z linii."
   ]
  },
  {
   "cell_type": "code",
   "metadata": {
    "ExecuteTime": {
     "end_time": "2024-11-19T20:27:47.094525Z",
     "start_time": "2024-11-19T20:27:47.082820Z"
    }
   },
   "source": [
    "import os\n",
    "import pandas as pd\n",
    "import matplotlib.pyplot as plt\n",
    "import matplotlib.pyplot\n",
    "from matplotlib import ticker"
   ],
   "outputs": [],
   "execution_count": 3
  },
  {
   "metadata": {
    "ExecuteTime": {
     "end_time": "2024-11-19T20:27:47.499918Z",
     "start_time": "2024-11-19T20:27:47.105115Z"
    }
   },
   "cell_type": "code",
   "source": "df = pd.read_excel(os.path.join(\"..\", \"01_Dane do wykresów\", \"Ludność w Polsce - prognozy.xlsx\"), sheet_name=\"ruch naturalny i wędrówkowy\")",
   "outputs": [],
   "execution_count": 4
  },
  {
   "metadata": {
    "ExecuteTime": {
     "end_time": "2024-11-19T20:27:48.084427Z",
     "start_time": "2024-11-19T20:27:48.067244Z"
    }
   },
   "cell_type": "code",
   "source": "df.head()",
   "outputs": [
    {
     "data": {
      "text/plain": [
       "    Rok  Ludność na 31 XII  Ruch naturalny – Urodzenia  \\\n",
       "0  2014           38005614                      375160   \n",
       "1  2015           38001529                      376407   \n",
       "2  2016           38001253                      375756   \n",
       "3  2017           37989781                      373569   \n",
       "4  2018           37973268                      370033   \n",
       "\n",
       "   Ruch naturalny – Zgony  Migracje zagraniczne na pobyt stały – Imigracja  \\\n",
       "0                  376467                                            46129   \n",
       "1                  375377                                            47542   \n",
       "2                  379681                                            56045   \n",
       "3                  383488                                            50552   \n",
       "4                  386849                                            52063   \n",
       "\n",
       "   Migracje zagraniczne na pobyt stały – Emigracja  \\\n",
       "0                                            54960   \n",
       "1                                            52657   \n",
       "2                                            52396   \n",
       "3                                            52105   \n",
       "4                                            51760   \n",
       "\n",
       "   Migracje zagraniczne na pobyt stały – Saldo  \n",
       "0                                        -8831  \n",
       "1                                        -5115  \n",
       "2                                         3649  \n",
       "3                                        -1553  \n",
       "4                                          303  "
      ],
      "text/html": [
       "<div>\n",
       "<style scoped>\n",
       "    .dataframe tbody tr th:only-of-type {\n",
       "        vertical-align: middle;\n",
       "    }\n",
       "\n",
       "    .dataframe tbody tr th {\n",
       "        vertical-align: top;\n",
       "    }\n",
       "\n",
       "    .dataframe thead th {\n",
       "        text-align: right;\n",
       "    }\n",
       "</style>\n",
       "<table border=\"1\" class=\"dataframe\">\n",
       "  <thead>\n",
       "    <tr style=\"text-align: right;\">\n",
       "      <th></th>\n",
       "      <th>Rok</th>\n",
       "      <th>Ludność na 31 XII</th>\n",
       "      <th>Ruch naturalny – Urodzenia</th>\n",
       "      <th>Ruch naturalny – Zgony</th>\n",
       "      <th>Migracje zagraniczne na pobyt stały – Imigracja</th>\n",
       "      <th>Migracje zagraniczne na pobyt stały – Emigracja</th>\n",
       "      <th>Migracje zagraniczne na pobyt stały – Saldo</th>\n",
       "    </tr>\n",
       "  </thead>\n",
       "  <tbody>\n",
       "    <tr>\n",
       "      <th>0</th>\n",
       "      <td>2014</td>\n",
       "      <td>38005614</td>\n",
       "      <td>375160</td>\n",
       "      <td>376467</td>\n",
       "      <td>46129</td>\n",
       "      <td>54960</td>\n",
       "      <td>-8831</td>\n",
       "    </tr>\n",
       "    <tr>\n",
       "      <th>1</th>\n",
       "      <td>2015</td>\n",
       "      <td>38001529</td>\n",
       "      <td>376407</td>\n",
       "      <td>375377</td>\n",
       "      <td>47542</td>\n",
       "      <td>52657</td>\n",
       "      <td>-5115</td>\n",
       "    </tr>\n",
       "    <tr>\n",
       "      <th>2</th>\n",
       "      <td>2016</td>\n",
       "      <td>38001253</td>\n",
       "      <td>375756</td>\n",
       "      <td>379681</td>\n",
       "      <td>56045</td>\n",
       "      <td>52396</td>\n",
       "      <td>3649</td>\n",
       "    </tr>\n",
       "    <tr>\n",
       "      <th>3</th>\n",
       "      <td>2017</td>\n",
       "      <td>37989781</td>\n",
       "      <td>373569</td>\n",
       "      <td>383488</td>\n",
       "      <td>50552</td>\n",
       "      <td>52105</td>\n",
       "      <td>-1553</td>\n",
       "    </tr>\n",
       "    <tr>\n",
       "      <th>4</th>\n",
       "      <td>2018</td>\n",
       "      <td>37973268</td>\n",
       "      <td>370033</td>\n",
       "      <td>386849</td>\n",
       "      <td>52063</td>\n",
       "      <td>51760</td>\n",
       "      <td>303</td>\n",
       "    </tr>\n",
       "  </tbody>\n",
       "</table>\n",
       "</div>"
      ]
     },
     "execution_count": 5,
     "metadata": {},
     "output_type": "execute_result"
    }
   ],
   "execution_count": 5
  },
  {
   "metadata": {
    "ExecuteTime": {
     "end_time": "2024-11-19T20:27:48.233816Z",
     "start_time": "2024-11-19T20:27:48.214849Z"
    }
   },
   "cell_type": "code",
   "source": "df.sample(10)",
   "outputs": [
    {
     "data": {
      "text/plain": [
       "     Rok  Ludność na 31 XII  Ruch naturalny – Urodzenia  \\\n",
       "32  2046           35332468                      285284   \n",
       "15  2029           37351763                      301214   \n",
       "30  2044           35576521                      287143   \n",
       "8   2022           37845141                      346635   \n",
       "24  2038           36323889                      285306   \n",
       "33  2047           35211729                      283782   \n",
       "12  2026           37604664                      318540   \n",
       "7   2021           37887359                      353498   \n",
       "0   2014           38005614                      375160   \n",
       "27  2041           35948348                      287086   \n",
       "\n",
       "    Ruch naturalny – Zgony  Migracje zagraniczne na pobyt stały – Imigracja  \\\n",
       "32                  441219                                            74727   \n",
       "15                  410555                                            64837   \n",
       "30                  443315                                            73902   \n",
       "8                   396329                                            57541   \n",
       "24                  438135                                            71051   \n",
       "33                  439524                                            75125   \n",
       "12                  403287                                            62037   \n",
       "7                   394431                                            56269   \n",
       "0                   376467                                            46129   \n",
       "27                  442879                                            72559   \n",
       "\n",
       "    Migracje zagraniczne na pobyt stały – Emigracja  \\\n",
       "32                                            40397   \n",
       "15                                            46437   \n",
       "30                                            40973   \n",
       "8                                             50065   \n",
       "24                                            42805   \n",
       "33                                            40122   \n",
       "12                                            48025   \n",
       "7                                             50533   \n",
       "0                                             54960   \n",
       "27                                            41862   \n",
       "\n",
       "    Migracje zagraniczne na pobyt stały – Saldo  \n",
       "32                                        34330  \n",
       "15                                        18400  \n",
       "30                                        32929  \n",
       "8                                          7476  \n",
       "24                                        28246  \n",
       "33                                        35003  \n",
       "12                                        14012  \n",
       "7                                          5736  \n",
       "0                                         -8831  \n",
       "27                                        30697  "
      ],
      "text/html": [
       "<div>\n",
       "<style scoped>\n",
       "    .dataframe tbody tr th:only-of-type {\n",
       "        vertical-align: middle;\n",
       "    }\n",
       "\n",
       "    .dataframe tbody tr th {\n",
       "        vertical-align: top;\n",
       "    }\n",
       "\n",
       "    .dataframe thead th {\n",
       "        text-align: right;\n",
       "    }\n",
       "</style>\n",
       "<table border=\"1\" class=\"dataframe\">\n",
       "  <thead>\n",
       "    <tr style=\"text-align: right;\">\n",
       "      <th></th>\n",
       "      <th>Rok</th>\n",
       "      <th>Ludność na 31 XII</th>\n",
       "      <th>Ruch naturalny – Urodzenia</th>\n",
       "      <th>Ruch naturalny – Zgony</th>\n",
       "      <th>Migracje zagraniczne na pobyt stały – Imigracja</th>\n",
       "      <th>Migracje zagraniczne na pobyt stały – Emigracja</th>\n",
       "      <th>Migracje zagraniczne na pobyt stały – Saldo</th>\n",
       "    </tr>\n",
       "  </thead>\n",
       "  <tbody>\n",
       "    <tr>\n",
       "      <th>32</th>\n",
       "      <td>2046</td>\n",
       "      <td>35332468</td>\n",
       "      <td>285284</td>\n",
       "      <td>441219</td>\n",
       "      <td>74727</td>\n",
       "      <td>40397</td>\n",
       "      <td>34330</td>\n",
       "    </tr>\n",
       "    <tr>\n",
       "      <th>15</th>\n",
       "      <td>2029</td>\n",
       "      <td>37351763</td>\n",
       "      <td>301214</td>\n",
       "      <td>410555</td>\n",
       "      <td>64837</td>\n",
       "      <td>46437</td>\n",
       "      <td>18400</td>\n",
       "    </tr>\n",
       "    <tr>\n",
       "      <th>30</th>\n",
       "      <td>2044</td>\n",
       "      <td>35576521</td>\n",
       "      <td>287143</td>\n",
       "      <td>443315</td>\n",
       "      <td>73902</td>\n",
       "      <td>40973</td>\n",
       "      <td>32929</td>\n",
       "    </tr>\n",
       "    <tr>\n",
       "      <th>8</th>\n",
       "      <td>2022</td>\n",
       "      <td>37845141</td>\n",
       "      <td>346635</td>\n",
       "      <td>396329</td>\n",
       "      <td>57541</td>\n",
       "      <td>50065</td>\n",
       "      <td>7476</td>\n",
       "    </tr>\n",
       "    <tr>\n",
       "      <th>24</th>\n",
       "      <td>2038</td>\n",
       "      <td>36323889</td>\n",
       "      <td>285306</td>\n",
       "      <td>438135</td>\n",
       "      <td>71051</td>\n",
       "      <td>42805</td>\n",
       "      <td>28246</td>\n",
       "    </tr>\n",
       "    <tr>\n",
       "      <th>33</th>\n",
       "      <td>2047</td>\n",
       "      <td>35211729</td>\n",
       "      <td>283782</td>\n",
       "      <td>439524</td>\n",
       "      <td>75125</td>\n",
       "      <td>40122</td>\n",
       "      <td>35003</td>\n",
       "    </tr>\n",
       "    <tr>\n",
       "      <th>12</th>\n",
       "      <td>2026</td>\n",
       "      <td>37604664</td>\n",
       "      <td>318540</td>\n",
       "      <td>403287</td>\n",
       "      <td>62037</td>\n",
       "      <td>48025</td>\n",
       "      <td>14012</td>\n",
       "    </tr>\n",
       "    <tr>\n",
       "      <th>7</th>\n",
       "      <td>2021</td>\n",
       "      <td>37887359</td>\n",
       "      <td>353498</td>\n",
       "      <td>394431</td>\n",
       "      <td>56269</td>\n",
       "      <td>50533</td>\n",
       "      <td>5736</td>\n",
       "    </tr>\n",
       "    <tr>\n",
       "      <th>0</th>\n",
       "      <td>2014</td>\n",
       "      <td>38005614</td>\n",
       "      <td>375160</td>\n",
       "      <td>376467</td>\n",
       "      <td>46129</td>\n",
       "      <td>54960</td>\n",
       "      <td>-8831</td>\n",
       "    </tr>\n",
       "    <tr>\n",
       "      <th>27</th>\n",
       "      <td>2041</td>\n",
       "      <td>35948348</td>\n",
       "      <td>287086</td>\n",
       "      <td>442879</td>\n",
       "      <td>72559</td>\n",
       "      <td>41862</td>\n",
       "      <td>30697</td>\n",
       "    </tr>\n",
       "  </tbody>\n",
       "</table>\n",
       "</div>"
      ]
     },
     "execution_count": 6,
     "metadata": {},
     "output_type": "execute_result"
    }
   ],
   "execution_count": 6
  },
  {
   "metadata": {
    "ExecuteTime": {
     "end_time": "2024-11-19T20:27:48.430515Z",
     "start_time": "2024-11-19T20:27:48.408151Z"
    }
   },
   "cell_type": "code",
   "source": "df.info()",
   "outputs": [
    {
     "name": "stdout",
     "output_type": "stream",
     "text": [
      "<class 'pandas.core.frame.DataFrame'>\n",
      "RangeIndex: 37 entries, 0 to 36\n",
      "Data columns (total 7 columns):\n",
      " #   Column                                           Non-Null Count  Dtype\n",
      "---  ------                                           --------------  -----\n",
      " 0   Rok                                              37 non-null     int64\n",
      " 1   Ludność na 31 XII                                37 non-null     int64\n",
      " 2   Ruch naturalny – Urodzenia                       37 non-null     int64\n",
      " 3   Ruch naturalny – Zgony                           37 non-null     int64\n",
      " 4   Migracje zagraniczne na pobyt stały – Imigracja  37 non-null     int64\n",
      " 5   Migracje zagraniczne na pobyt stały – Emigracja  37 non-null     int64\n",
      " 6   Migracje zagraniczne na pobyt stały – Saldo      37 non-null     int64\n",
      "dtypes: int64(7)\n",
      "memory usage: 2.2 KB\n"
     ]
    }
   ],
   "execution_count": 7
  },
  {
   "metadata": {
    "ExecuteTime": {
     "end_time": "2024-11-19T20:27:48.806469Z",
     "start_time": "2024-11-19T20:27:48.797583Z"
    }
   },
   "cell_type": "code",
   "source": "df.shape",
   "outputs": [
    {
     "data": {
      "text/plain": [
       "(37, 7)"
      ]
     },
     "execution_count": 8,
     "metadata": {},
     "output_type": "execute_result"
    }
   ],
   "execution_count": 8
  },
  {
   "metadata": {
    "ExecuteTime": {
     "end_time": "2024-11-19T20:27:49.200503Z",
     "start_time": "2024-11-19T20:27:49.190729Z"
    }
   },
   "cell_type": "code",
   "source": [
    "# spr sobie nazwy kolumn:\n",
    "df.columns\n"
   ],
   "outputs": [
    {
     "data": {
      "text/plain": [
       "Index(['Rok', 'Ludność na 31 XII', 'Ruch naturalny – Urodzenia',\n",
       "       'Ruch naturalny – Zgony',\n",
       "       'Migracje zagraniczne na pobyt stały – Imigracja',\n",
       "       'Migracje zagraniczne na pobyt stały – Emigracja',\n",
       "       'Migracje zagraniczne na pobyt stały – Saldo'],\n",
       "      dtype='object')"
      ]
     },
     "execution_count": 9,
     "metadata": {},
     "output_type": "execute_result"
    }
   ],
   "execution_count": 9
  },
  {
   "metadata": {
    "ExecuteTime": {
     "end_time": "2024-11-19T21:59:33.810365Z",
     "start_time": "2024-11-19T21:59:33.553534Z"
    }
   },
   "cell_type": "code",
   "source": [
    "# dwa wykresy na jednym schemacie czyli jeden wiersz, dwie kolumny (nrows i ncols:, muszą to być parametry pozycyjne)\n",
    "# axs a nie ax bo tutaj to już jest liczba mnoga (axs to jeden prostokąt)\n",
    "\n",
    "# jeżeli wykresy są obok siebie, to muszą rozpoczynać się od takiej samej skali! od tego jest (sharey=True) żeby oś y w jedym i drugim wykresie była taka sama\"\n",
    "\n",
    "fig, axs = plt.subplots(1, 2, figsize=(12, 8), sharey=True)\n",
    "\n",
    "# axs[0] - index pierwszego wykresu\n",
    "axs[0].plot(\n",
    "    df[\"Rok\"],\n",
    "    df[\"Ruch naturalny – Urodzenia\"],\n",
    "    color=\"blue\",\n",
    "    label=\"Ruch naturalny – Urodzenia\")\n",
    "\n",
    "axs[0].plot(\n",
    "    df[\"Rok\"],\n",
    "    df[\"Ruch naturalny – Zgony\"],\n",
    "    color=\"grey\",\n",
    "    label = \"Ruch naturalny – Zgony\")\n",
    "\n",
    "# drugi wykres:\n",
    "axs[1].plot(\n",
    "    df[\"Rok\"],\n",
    "    df[\"Migracje zagraniczne na pobyt stały – Imigracja\"],\n",
    "    color=\"grey\",\n",
    "    label=\"Migracje zagraniczne na pobyt stały – Imigracja\")\n",
    "\n",
    "axs[1].plot(\n",
    "    df[\"Rok\"],\n",
    "    df[\"Migracje zagraniczne na pobyt stały – Emigracja\"],\n",
    "    color=\"blue\",\n",
    "    label=\"Migracje zagraniczne na pobyt stały – Emigracja\")\n",
    "\n",
    "# legenda domyślnie ustawi się sama w jakimś miejscu:\n",
    "# axs[0].legend()\n",
    "# axs[1].legend()\n",
    "\n",
    "# jeżeli legenda się umieści w złym miejscu, to możemy przesunąć legendę:\n",
    "axs[0].legend(loc=\"upper left\")\n",
    "axs[1].legend(loc=\"upper left\")\n",
    "\n",
    "#opisujemy osie x i y:\n",
    "axs[0].set_xlabel(\"Rok\")\n",
    "axs[0].set_ylabel(\"Urodzenia / Zgony (tys.)\")\n",
    "\n",
    "axs[1].set_xlabel(\"Rok\")\n",
    "axs[1].set_ylabel(\"Imigracja / Emigracja (tys.)\")\n",
    "\n",
    "# fig.set_title(\"zmiany\")\n",
    "\n",
    "# obcinam zera na osi y:\n",
    "axs[0].yaxis.set_major_formatter(ticker.FuncFormatter(lambda x, pos: f'{int(x / 1e3)}'))\n",
    "axs[1].yaxis.set_major_formatter(ticker.FuncFormatter(lambda x, pos: f'{int(x / 1e3)}'))\n",
    "\n",
    "# fig bo tytuł jeden do wszystkich wykresów (jak chcę do każdego wykresu inny tytuł, to plt.title)\n",
    "fig.suptitle(\"Zmiany ludności\")\n",
    "\n",
    "\n",
    "# plt.xticks(rotation=45)\n",
    "\n",
    "plt.tight_layout()\n",
    "plt.show()"
   ],
   "outputs": [
    {
     "data": {
      "text/plain": [
       "<Figure size 1200x800 with 2 Axes>"
      ],
      "image/png": "[encoded data removed]"
     },
     "metadata": {},
     "output_type": "display_data"
    }
   ],
   "execution_count": 45
  }
 ],
 "metadata": {
  "kernelspec": {
   "display_name": "Python 3",
   "language": "python",
   "name": "python3"
  },
  "language_info": {
   "codemirror_mode": {
    "name": "ipython",
    "version": 3
   },
   "file_extension": ".py",
   "mimetype": "text/x-python",
   "name": "python",
   "nbconvert_exporter": "python",
   "pygments_lexer": "ipython3",
   "version": "3.9.2"
  }
 },
 "nbformat": 4,
 "nbformat_minor": 4
}
