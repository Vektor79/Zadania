{
 "cells": [
  {
   "cell_type": "markdown",
   "metadata": {},
   "source": [
    "W pliku **Ludność w  Polsce - prognozy.xlsx**, znajdziesz arkusz **ruch naturalny i wędrówkowy**.\n",
    "\n",
    "W ramach jednej ryciny stwórz **obok siebie (mają sąsiadować w poziomie)** dwa wykresy:\n",
    "- urodzenia i zgony (dwie linie, na podstawie kolumn **Ruch naturalny – Urodzenia** i **Ruch naturalny – Zgony** w arkuszu)\n",
    "- emigracja i imigracja (dwie linie, na podstawie kolumn **Migracje zagraniczne na pobyt stały – Imigracja** i **Migracje zagraniczne na pobyt stały – Emigracja** w arkuszu\n",
    "\n",
    "Do każdego wykresu dodaj legendy objaśniające znaczenie każdej z linii."
   ]
  },
  {
   "cell_type": "code",
   "metadata": {
    "ExecuteTime": {
     "end_time": "2024-11-19T18:27:08.638953Z",
     "start_time": "2024-11-19T18:27:08.630911Z"
    }
   },
   "source": [
    "import os\n",
    "import pandas as pd\n",
    "import matplotlib.pyplot as plt\n",
    "from IPython.core.pylabtools import figsize\n",
    "from matplotlib import ticker"
   ],
   "outputs": [],
   "execution_count": 8
  },
  {
   "metadata": {
    "ExecuteTime": {
     "end_time": "2024-11-19T18:27:10.941394Z",
     "start_time": "2024-11-19T18:27:10.663202Z"
    }
   },
   "cell_type": "code",
   "source": "df = pd.read_excel(os.path.join(\"..\", \"01_Dane do wykresów\", \"Ludność w Polsce - prognozy.xlsx\"), sheet_name=\"ruch naturalny i wędrówkowy\")",
   "outputs": [],
   "execution_count": 9
  },
  {
   "metadata": {
    "ExecuteTime": {
     "end_time": "2024-11-19T18:27:11.769742Z",
     "start_time": "2024-11-19T18:27:11.751637Z"
    }
   },
   "cell_type": "code",
   "source": "df.head()",
   "outputs": [
    {
     "data": {
      "text/plain": [
       "    Rok  Ludność na 31 XII  Ruch naturalny – Urodzenia  \\\n",
       "0  2014           38005614                      375160   \n",
       "1  2015           38001529                      376407   \n",
       "2  2016           38001253                      375756   \n",
       "3  2017           37989781                      373569   \n",
       "4  2018           37973268                      370033   \n",
       "\n",
       "   Ruch naturalny – Zgony  Migracje zagraniczne na pobyt stały – Imigracja  \\\n",
       "0                  376467                                            46129   \n",
       "1                  375377                                            47542   \n",
       "2                  379681                                            56045   \n",
       "3                  383488                                            50552   \n",
       "4                  386849                                            52063   \n",
       "\n",
       "   Migracje zagraniczne na pobyt stały – Emigracja  \\\n",
       "0                                            54960   \n",
       "1                                            52657   \n",
       "2                                            52396   \n",
       "3                                            52105   \n",
       "4                                            51760   \n",
       "\n",
       "   Migracje zagraniczne na pobyt stały – Saldo  \n",
       "0                                        -8831  \n",
       "1                                        -5115  \n",
       "2                                         3649  \n",
       "3                                        -1553  \n",
       "4                                          303  "
      ],
      "text/html": [
       "<div>\n",
       "<style scoped>\n",
       "    .dataframe tbody tr th:only-of-type {\n",
       "        vertical-align: middle;\n",
       "    }\n",
       "\n",
       "    .dataframe tbody tr th {\n",
       "        vertical-align: top;\n",
       "    }\n",
       "\n",
       "    .dataframe thead th {\n",
       "        text-align: right;\n",
       "    }\n",
       "</style>\n",
       "<table border=\"1\" class=\"dataframe\">\n",
       "  <thead>\n",
       "    <tr style=\"text-align: right;\">\n",
       "      <th></th>\n",
       "      <th>Rok</th>\n",
       "      <th>Ludność na 31 XII</th>\n",
       "      <th>Ruch naturalny – Urodzenia</th>\n",
       "      <th>Ruch naturalny – Zgony</th>\n",
       "      <th>Migracje zagraniczne na pobyt stały – Imigracja</th>\n",
       "      <th>Migracje zagraniczne na pobyt stały – Emigracja</th>\n",
       "      <th>Migracje zagraniczne na pobyt stały – Saldo</th>\n",
       "    </tr>\n",
       "  </thead>\n",
       "  <tbody>\n",
       "    <tr>\n",
       "      <th>0</th>\n",
       "      <td>2014</td>\n",
       "      <td>38005614</td>\n",
       "      <td>375160</td>\n",
       "      <td>376467</td>\n",
       "      <td>46129</td>\n",
       "      <td>54960</td>\n",
       "      <td>-8831</td>\n",
       "    </tr>\n",
       "    <tr>\n",
       "      <th>1</th>\n",
       "      <td>2015</td>\n",
       "      <td>38001529</td>\n",
       "      <td>376407</td>\n",
       "      <td>375377</td>\n",
       "      <td>47542</td>\n",
       "      <td>52657</td>\n",
       "      <td>-5115</td>\n",
       "    </tr>\n",
       "    <tr>\n",
       "      <th>2</th>\n",
       "      <td>2016</td>\n",
       "      <td>38001253</td>\n",
       "      <td>375756</td>\n",
       "      <td>379681</td>\n",
       "      <td>56045</td>\n",
       "      <td>52396</td>\n",
       "      <td>3649</td>\n",
       "    </tr>\n",
       "    <tr>\n",
       "      <th>3</th>\n",
       "      <td>2017</td>\n",
       "      <td>37989781</td>\n",
       "      <td>373569</td>\n",
       "      <td>383488</td>\n",
       "      <td>50552</td>\n",
       "      <td>52105</td>\n",
       "      <td>-1553</td>\n",
       "    </tr>\n",
       "    <tr>\n",
       "      <th>4</th>\n",
       "      <td>2018</td>\n",
       "      <td>37973268</td>\n",
       "      <td>370033</td>\n",
       "      <td>386849</td>\n",
       "      <td>52063</td>\n",
       "      <td>51760</td>\n",
       "      <td>303</td>\n",
       "    </tr>\n",
       "  </tbody>\n",
       "</table>\n",
       "</div>"
      ]
     },
     "execution_count": 10,
     "metadata": {},
     "output_type": "execute_result"
    }
   ],
   "execution_count": 10
  },
  {
   "metadata": {
    "ExecuteTime": {
     "end_time": "2024-11-19T18:27:12.976407Z",
     "start_time": "2024-11-19T18:27:12.963708Z"
    }
   },
   "cell_type": "code",
   "source": "df.sample(10)",
   "outputs": [
    {
     "data": {
      "text/plain": [
       "     Rok  Ludność na 31 XII  Ruch naturalny – Urodzenia  \\\n",
       "27  2041           35948348                      287086   \n",
       "5   2019           37951049                      365401   \n",
       "34  2048           35091988                      281957   \n",
       "7   2021           37887359                      353498   \n",
       "17  2031           37151466                      292697   \n",
       "19  2033           36930201                      287268   \n",
       "11  2025           37675399                      325256   \n",
       "32  2046           35332468                      285284   \n",
       "20  2034           36813558                      285745   \n",
       "9   2023           37795741                      339487   \n",
       "\n",
       "    Ruch naturalny – Zgony  Migracje zagraniczne na pobyt stały – Imigracja  \\\n",
       "27                  442879                                            72559   \n",
       "5                   389759                                            53529   \n",
       "34                  437371                                            75523   \n",
       "7                   394431                                            56269   \n",
       "17                  416849                                            66507   \n",
       "19                  423550                                            67982   \n",
       "11                  401424                                            60991   \n",
       "32                  441219                                            74727   \n",
       "20                  426847                                            68663   \n",
       "9                   398061                                            58759   \n",
       "\n",
       "    Migracje zagraniczne na pobyt stały – Emigracja  \\\n",
       "27                                            41862   \n",
       "5                                             51390   \n",
       "34                                            39850   \n",
       "7                                             50533   \n",
       "17                                            45465   \n",
       "19                                            44596   \n",
       "11                                            48551   \n",
       "32                                            40397   \n",
       "20                                            44204   \n",
       "9                                             49585   \n",
       "\n",
       "    Migracje zagraniczne na pobyt stały – Saldo  \n",
       "27                                        30697  \n",
       "5                                          2139  \n",
       "34                                        35673  \n",
       "7                                          5736  \n",
       "17                                        21042  \n",
       "19                                        23386  \n",
       "11                                        12440  \n",
       "32                                        34330  \n",
       "20                                        24459  \n",
       "9                                          9174  "
      ],
      "text/html": [
       "<div>\n",
       "<style scoped>\n",
       "    .dataframe tbody tr th:only-of-type {\n",
       "        vertical-align: middle;\n",
       "    }\n",
       "\n",
       "    .dataframe tbody tr th {\n",
       "        vertical-align: top;\n",
       "    }\n",
       "\n",
       "    .dataframe thead th {\n",
       "        text-align: right;\n",
       "    }\n",
       "</style>\n",
       "<table border=\"1\" class=\"dataframe\">\n",
       "  <thead>\n",
       "    <tr style=\"text-align: right;\">\n",
       "      <th></th>\n",
       "      <th>Rok</th>\n",
       "      <th>Ludność na 31 XII</th>\n",
       "      <th>Ruch naturalny – Urodzenia</th>\n",
       "      <th>Ruch naturalny – Zgony</th>\n",
       "      <th>Migracje zagraniczne na pobyt stały – Imigracja</th>\n",
       "      <th>Migracje zagraniczne na pobyt stały – Emigracja</th>\n",
       "      <th>Migracje zagraniczne na pobyt stały – Saldo</th>\n",
       "    </tr>\n",
       "  </thead>\n",
       "  <tbody>\n",
       "    <tr>\n",
       "      <th>27</th>\n",
       "      <td>2041</td>\n",
       "      <td>35948348</td>\n",
       "      <td>287086</td>\n",
       "      <td>442879</td>\n",
       "      <td>72559</td>\n",
       "      <td>41862</td>\n",
       "      <td>30697</td>\n",
       "    </tr>\n",
       "    <tr>\n",
       "      <th>5</th>\n",
       "      <td>2019</td>\n",
       "      <td>37951049</td>\n",
       "      <td>365401</td>\n",
       "      <td>389759</td>\n",
       "      <td>53529</td>\n",
       "      <td>51390</td>\n",
       "      <td>2139</td>\n",
       "    </tr>\n",
       "    <tr>\n",
       "      <th>34</th>\n",
       "      <td>2048</td>\n",
       "      <td>35091988</td>\n",
       "      <td>281957</td>\n",
       "      <td>437371</td>\n",
       "      <td>75523</td>\n",
       "      <td>39850</td>\n",
       "      <td>35673</td>\n",
       "    </tr>\n",
       "    <tr>\n",
       "      <th>7</th>\n",
       "      <td>2021</td>\n",
       "      <td>37887359</td>\n",
       "      <td>353498</td>\n",
       "      <td>394431</td>\n",
       "      <td>56269</td>\n",
       "      <td>50533</td>\n",
       "      <td>5736</td>\n",
       "    </tr>\n",
       "    <tr>\n",
       "      <th>17</th>\n",
       "      <td>2031</td>\n",
       "      <td>37151466</td>\n",
       "      <td>292697</td>\n",
       "      <td>416849</td>\n",
       "      <td>66507</td>\n",
       "      <td>45465</td>\n",
       "      <td>21042</td>\n",
       "    </tr>\n",
       "    <tr>\n",
       "      <th>19</th>\n",
       "      <td>2033</td>\n",
       "      <td>36930201</td>\n",
       "      <td>287268</td>\n",
       "      <td>423550</td>\n",
       "      <td>67982</td>\n",
       "      <td>44596</td>\n",
       "      <td>23386</td>\n",
       "    </tr>\n",
       "    <tr>\n",
       "      <th>11</th>\n",
       "      <td>2025</td>\n",
       "      <td>37675399</td>\n",
       "      <td>325256</td>\n",
       "      <td>401424</td>\n",
       "      <td>60991</td>\n",
       "      <td>48551</td>\n",
       "      <td>12440</td>\n",
       "    </tr>\n",
       "    <tr>\n",
       "      <th>32</th>\n",
       "      <td>2046</td>\n",
       "      <td>35332468</td>\n",
       "      <td>285284</td>\n",
       "      <td>441219</td>\n",
       "      <td>74727</td>\n",
       "      <td>40397</td>\n",
       "      <td>34330</td>\n",
       "    </tr>\n",
       "    <tr>\n",
       "      <th>20</th>\n",
       "      <td>2034</td>\n",
       "      <td>36813558</td>\n",
       "      <td>285745</td>\n",
       "      <td>426847</td>\n",
       "      <td>68663</td>\n",
       "      <td>44204</td>\n",
       "      <td>24459</td>\n",
       "    </tr>\n",
       "    <tr>\n",
       "      <th>9</th>\n",
       "      <td>2023</td>\n",
       "      <td>37795741</td>\n",
       "      <td>339487</td>\n",
       "      <td>398061</td>\n",
       "      <td>58759</td>\n",
       "      <td>49585</td>\n",
       "      <td>9174</td>\n",
       "    </tr>\n",
       "  </tbody>\n",
       "</table>\n",
       "</div>"
      ]
     },
     "execution_count": 11,
     "metadata": {},
     "output_type": "execute_result"
    }
   ],
   "execution_count": 11
  },
  {
   "metadata": {
    "ExecuteTime": {
     "end_time": "2024-11-19T18:27:14.160639Z",
     "start_time": "2024-11-19T18:27:14.148387Z"
    }
   },
   "cell_type": "code",
   "source": "df.info()",
   "outputs": [
    {
     "name": "stdout",
     "output_type": "stream",
     "text": [
      "<class 'pandas.core.frame.DataFrame'>\n",
      "RangeIndex: 37 entries, 0 to 36\n",
      "Data columns (total 7 columns):\n",
      " #   Column                                           Non-Null Count  Dtype\n",
      "---  ------                                           --------------  -----\n",
      " 0   Rok                                              37 non-null     int64\n",
      " 1   Ludność na 31 XII                                37 non-null     int64\n",
      " 2   Ruch naturalny – Urodzenia                       37 non-null     int64\n",
      " 3   Ruch naturalny – Zgony                           37 non-null     int64\n",
      " 4   Migracje zagraniczne na pobyt stały – Imigracja  37 non-null     int64\n",
      " 5   Migracje zagraniczne na pobyt stały – Emigracja  37 non-null     int64\n",
      " 6   Migracje zagraniczne na pobyt stały – Saldo      37 non-null     int64\n",
      "dtypes: int64(7)\n",
      "memory usage: 2.2 KB\n"
     ]
    }
   ],
   "execution_count": 12
  },
  {
   "metadata": {
    "ExecuteTime": {
     "end_time": "2024-11-19T18:27:15.117586Z",
     "start_time": "2024-11-19T18:27:15.105827Z"
    }
   },
   "cell_type": "code",
   "source": "df.shape",
   "outputs": [
    {
     "data": {
      "text/plain": [
       "(37, 7)"
      ]
     },
     "execution_count": 13,
     "metadata": {},
     "output_type": "execute_result"
    }
   ],
   "execution_count": 13
  },
  {
   "metadata": {
    "ExecuteTime": {
     "end_time": "2024-11-19T18:28:41.348947Z",
     "start_time": "2024-11-19T18:28:41.196335Z"
    }
   },
   "cell_type": "code",
   "source": [
    "    # dwa wykresy na jednym schemacie czyli jeden wiersz, dwie kolumny (nrows i ncols:, muszą to być parametry pozycyjne)\n",
    "\n",
    "fig, ax = plt.subplots(1, 2, figsize=(12, 8))\n",
    "\n",
    "\n",
    "plt.show()"
   ],
   "outputs": [
    {
     "data": {
      "text/plain": [
       "<Figure size 1200x800 with 2 Axes>"
      ],
      "image/png": "[encoded data removed]"
     },
     "metadata": {},
     "output_type": "display_data"
    }
   ],
   "execution_count": 17
  },
  {
   "metadata": {},
   "cell_type": "code",
   "outputs": [],
   "execution_count": null,
   "source": ""
  }
 ],
 "metadata": {
  "kernelspec": {
   "display_name": "Python 3",
   "language": "python",
   "name": "python3"
  },
  "language_info": {
   "codemirror_mode": {
    "name": "ipython",
    "version": 3
   },
   "file_extension": ".py",
   "mimetype": "text/x-python",
   "name": "python",
   "nbconvert_exporter": "python",
   "pygments_lexer": "ipython3",
   "version": "3.9.2"
  }
 },
 "nbformat": 4,
 "nbformat_minor": 4
}
