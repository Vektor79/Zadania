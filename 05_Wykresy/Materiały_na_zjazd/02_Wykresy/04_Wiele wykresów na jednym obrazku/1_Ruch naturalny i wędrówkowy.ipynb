{
 "cells": [
  {
   "cell_type": "markdown",
   "metadata": {},
   "source": [
    "W pliku **Ludność w  Polsce - prognozy.xlsx**, znajdziesz arkusz **ruch naturalny i wędrówkowy**.\n",
    "\n",
    "W ramach jednej ryciny stwórz **obok siebie (mają sąsiadować w poziomie)** dwa wykresy:\n",
    "- urodzenia i zgony (dwie linie, na podstawie kolumn **Ruch naturalny – Urodzenia** i **Ruch naturalny – Zgony** w arkuszu)\n",
    "- emigracja i imigracja (dwie linie, na podstawie kolumn **Migracje zagraniczne na pobyt stały – Imigracja** i **Migracje zagraniczne na pobyt stały – Emigracja** w arkuszu\n",
    "\n",
    "Do każdego wykresu dodaj legendy objaśniające znaczenie każdej z linii."
   ]
  },
  {
   "cell_type": "code",
   "execution_count": null,
   "metadata": {},
   "outputs": [],
   "source": []
  }
 ],
 "metadata": {
  "kernelspec": {
   "display_name": "Python 3",
   "language": "python",
   "name": "python3"
  },
  "language_info": {
   "codemirror_mode": {
    "name": "ipython",
    "version": 3
   },
   "file_extension": ".py",
   "mimetype": "text/x-python",
   "name": "python",
   "nbconvert_exporter": "python",
   "pygments_lexer": "ipython3",
   "version": "3.9.2"
  }
 },
 "nbformat": 4,
 "nbformat_minor": 4
}
