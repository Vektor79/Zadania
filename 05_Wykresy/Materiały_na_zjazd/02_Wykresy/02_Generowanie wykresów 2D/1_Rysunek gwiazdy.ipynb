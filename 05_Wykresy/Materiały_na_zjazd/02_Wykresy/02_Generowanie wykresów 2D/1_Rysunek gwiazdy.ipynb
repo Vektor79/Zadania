{
 "cells": [
  {
   "cell_type": "markdown",
   "metadata": {},
   "source": [
    "Poniższa lista zawiera koordynaty (x, y) wierzchołków pięcioramiennej gwiazdy. Wyświetl taką gwiazdę na wykresie Matplotlib.\n",
    "\n",
    "Zwróć uwagę, że metoda `.plot(...)` potrzebuje danych w formie dwóch osobnych list: jedna ze współrzędnymi X, oraz druga ze współrzędnymi Y. Musisz takie listy przygotować na podstawie listy `points`.\n",
    "\n",
    "Gwiazda na podstawie tylko tych punktów nie będzie miała jednej krawędzi - popraw to."
   ]
  },
  {
   "metadata": {
    "ExecuteTime": {
     "end_time": "2024-11-11T17:57:18.594525Z",
     "start_time": "2024-11-11T17:57:17.936720Z"
    }
   },
   "cell_type": "code",
   "source": "import matplotlib.pyplot as plt",
   "outputs": [],
   "execution_count": 1
  },
  {
   "cell_type": "code",
   "metadata": {
    "ExecuteTime": {
     "end_time": "2024-11-10T23:36:20.979465Z",
     "start_time": "2024-11-10T23:36:20.967920Z"
    }
   },
   "source": [
    "\n",
    "\n",
    "\n",
    "\n",
    "\n",
    "[\n",
    "    (0.0, -1.0),\n",
    "    (-1.176, -1.618),\n",
    "    (-0.951, -0.309),\n",
    "    (-1.902, 0.618),\n",
    "    (-0.588, 0.809),\n",
    "    (-0.0, 2.0),\n",
    "    (0.588, 0.809),\n",
    "    (1.902, 0.618),\n",
    "    (0.951, -0.309),\n",
    "    (1.176, -1.618)\n",
    "]"
   ],
   "outputs": [
    {
     "data": {
      "text/plain": [
       "[(0.0, -1.0),\n",
       " (-1.176, -1.618),\n",
       " (-0.951, -0.309),\n",
       " (-1.902, 0.618),\n",
       " (-0.588, 0.809),\n",
       " (-0.0, 2.0),\n",
       " (0.588, 0.809),\n",
       " (1.902, 0.618),\n",
       " (0.951, -0.309),\n",
       " (1.176, -1.618)]"
      ]
     },
     "execution_count": 1,
     "metadata": {},
     "output_type": "execute_result"
    }
   ],
   "execution_count": 1
  },
  {
   "cell_type": "code",
   "execution_count": null,
   "metadata": {},
   "outputs": [],
   "source": []
  }
 ],
 "metadata": {
  "kernelspec": {
   "display_name": "Python 3",
   "language": "python",
   "name": "python3"
  },
  "language_info": {
   "codemirror_mode": {
    "name": "ipython",
    "version": 3
   },
   "file_extension": ".py",
   "mimetype": "text/x-python",
   "name": "python",
   "nbconvert_exporter": "python",
   "pygments_lexer": "ipython3",
   "version": "3.9.2"
  }
 },
 "nbformat": 4,
 "nbformat_minor": 4
}
