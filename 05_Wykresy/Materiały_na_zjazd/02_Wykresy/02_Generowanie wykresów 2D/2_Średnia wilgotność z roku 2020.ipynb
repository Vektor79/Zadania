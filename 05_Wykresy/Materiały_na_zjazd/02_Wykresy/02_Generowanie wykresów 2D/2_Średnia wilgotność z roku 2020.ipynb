{
 "cells": [
  {
   "cell_type": "markdown",
   "metadata": {},
   "source": [
    "Na podstawie danych z pliku `Dane meteo.csv`, stwórz wykres, który pokaże, jaka była średnia dobowa wilgotność względna w Warszawie w roku 2020.\n",
    "\n",
    "Wykres powinien spełniać następujące wymagania:\n",
    "1. Oś x powinna być podpisana miesiącami,\n",
    "2. Zarówno oś x, jak i oś y powinny mieć odpowiednie opisy,\n",
    "3. Wykres powinien zawierać tytuł,\n",
    "4. Wykres powinie zawierać legendę,\n",
    "5. Linia wykresu powinna być czerwona, ciągła."
   ]
  },
  {
   "cell_type": "code",
   "metadata": {
    "ExecuteTime": {
     "end_time": "2024-11-13T22:31:00.819297Z",
     "start_time": "2024-11-13T22:31:00.815177Z"
    }
   },
   "source": [
    "import os\n",
    "# os: operating system pozwala wykonywać operacje za które jest odpowiedzialny system operacyjny (wyświetlanie zawartości folderów, usuwanie plików, tworzenie katalogów itp.)\n",
    "\n",
    "import pandas as pd"
   ],
   "outputs": [],
   "execution_count": 8
  },
  {
   "metadata": {
    "ExecuteTime": {
     "end_time": "2024-11-13T22:55:17.094974Z",
     "start_time": "2024-11-13T22:55:17.082998Z"
    }
   },
   "cell_type": "code",
   "source": " df = pd.read_csv(os.path.join(\"..\", \"01_Dane do wykresów\", \"Dane meteo.csv\"), sep=\";\")",
   "outputs": [],
   "execution_count": 23
  },
  {
   "metadata": {
    "ExecuteTime": {
     "end_time": "2024-11-13T22:55:19.554054Z",
     "start_time": "2024-11-13T22:55:19.535765Z"
    }
   },
   "cell_type": "code",
   "source": "df.head()",
   "outputs": [
    {
     "data": {
      "text/plain": [
       "   Kod stacji       Nazwa stacji   Rok  Miesiąc  Dzień  \\\n",
       "0    252200150  WARSZAWA-BIELANY  2020        1      1   \n",
       "1    252200150  WARSZAWA-BIELANY  2020        1      2   \n",
       "2    252200150  WARSZAWA-BIELANY  2020        1      3   \n",
       "3    252200150  WARSZAWA-BIELANY  2020        1      4   \n",
       "4    252200150  WARSZAWA-BIELANY  2020        1      5   \n",
       "\n",
       "   Średnia dobowa temperatura  Średnia dobowa wilgotność względna  \\\n",
       "0                         2.4                                89.5   \n",
       "1                         1.3                                77.5   \n",
       "2                         2.3                                75.3   \n",
       "3                         3.3                                84.0   \n",
       "4                         0.7                                79.5   \n",
       "\n",
       "   Średnia dobowa prędkość wiatru [m/s]  \\\n",
       "0                                   5.0   \n",
       "1                                   3.3   \n",
       "2                                   3.7   \n",
       "3                                   5.0   \n",
       "4                                   3.3   \n",
       "\n",
       "   Średnie dobowe zachmurzenie ogólne [oktanty]  \n",
       "0                                           8.0  \n",
       "1                                           7.0  \n",
       "2                                           5.3  \n",
       "3                                           6.7  \n",
       "4                                           0.7  "
      ],
      "text/html": [
       "<div>\n",
       "<style scoped>\n",
       "    .dataframe tbody tr th:only-of-type {\n",
       "        vertical-align: middle;\n",
       "    }\n",
       "\n",
       "    .dataframe tbody tr th {\n",
       "        vertical-align: top;\n",
       "    }\n",
       "\n",
       "    .dataframe thead th {\n",
       "        text-align: right;\n",
       "    }\n",
       "</style>\n",
       "<table border=\"1\" class=\"dataframe\">\n",
       "  <thead>\n",
       "    <tr style=\"text-align: right;\">\n",
       "      <th></th>\n",
       "      <th>Kod stacji</th>\n",
       "      <th>Nazwa stacji</th>\n",
       "      <th>Rok</th>\n",
       "      <th>Miesiąc</th>\n",
       "      <th>Dzień</th>\n",
       "      <th>Średnia dobowa temperatura</th>\n",
       "      <th>Średnia dobowa wilgotność względna</th>\n",
       "      <th>Średnia dobowa prędkość wiatru [m/s]</th>\n",
       "      <th>Średnie dobowe zachmurzenie ogólne [oktanty]</th>\n",
       "    </tr>\n",
       "  </thead>\n",
       "  <tbody>\n",
       "    <tr>\n",
       "      <th>0</th>\n",
       "      <td>252200150</td>\n",
       "      <td>WARSZAWA-BIELANY</td>\n",
       "      <td>2020</td>\n",
       "      <td>1</td>\n",
       "      <td>1</td>\n",
       "      <td>2.4</td>\n",
       "      <td>89.5</td>\n",
       "      <td>5.0</td>\n",
       "      <td>8.0</td>\n",
       "    </tr>\n",
       "    <tr>\n",
       "      <th>1</th>\n",
       "      <td>252200150</td>\n",
       "      <td>WARSZAWA-BIELANY</td>\n",
       "      <td>2020</td>\n",
       "      <td>1</td>\n",
       "      <td>2</td>\n",
       "      <td>1.3</td>\n",
       "      <td>77.5</td>\n",
       "      <td>3.3</td>\n",
       "      <td>7.0</td>\n",
       "    </tr>\n",
       "    <tr>\n",
       "      <th>2</th>\n",
       "      <td>252200150</td>\n",
       "      <td>WARSZAWA-BIELANY</td>\n",
       "      <td>2020</td>\n",
       "      <td>1</td>\n",
       "      <td>3</td>\n",
       "      <td>2.3</td>\n",
       "      <td>75.3</td>\n",
       "      <td>3.7</td>\n",
       "      <td>5.3</td>\n",
       "    </tr>\n",
       "    <tr>\n",
       "      <th>3</th>\n",
       "      <td>252200150</td>\n",
       "      <td>WARSZAWA-BIELANY</td>\n",
       "      <td>2020</td>\n",
       "      <td>1</td>\n",
       "      <td>4</td>\n",
       "      <td>3.3</td>\n",
       "      <td>84.0</td>\n",
       "      <td>5.0</td>\n",
       "      <td>6.7</td>\n",
       "    </tr>\n",
       "    <tr>\n",
       "      <th>4</th>\n",
       "      <td>252200150</td>\n",
       "      <td>WARSZAWA-BIELANY</td>\n",
       "      <td>2020</td>\n",
       "      <td>1</td>\n",
       "      <td>5</td>\n",
       "      <td>0.7</td>\n",
       "      <td>79.5</td>\n",
       "      <td>3.3</td>\n",
       "      <td>0.7</td>\n",
       "    </tr>\n",
       "  </tbody>\n",
       "</table>\n",
       "</div>"
      ]
     },
     "execution_count": 24,
     "metadata": {},
     "output_type": "execute_result"
    }
   ],
   "execution_count": 24
  },
  {
   "metadata": {
    "ExecuteTime": {
     "end_time": "2024-11-13T22:55:25.731095Z",
     "start_time": "2024-11-13T22:55:25.718410Z"
    }
   },
   "cell_type": "code",
   "source": "df.info()",
   "outputs": [
    {
     "name": "stdout",
     "output_type": "stream",
     "text": [
      "<class 'pandas.core.frame.DataFrame'>\n",
      "RangeIndex: 366 entries, 0 to 365\n",
      "Data columns (total 9 columns):\n",
      " #   Column                                        Non-Null Count  Dtype  \n",
      "---  ------                                        --------------  -----  \n",
      " 0   Kod stacji                                    366 non-null    int64  \n",
      " 1   Nazwa stacji                                  366 non-null    object \n",
      " 2   Rok                                           366 non-null    int64  \n",
      " 3   Miesiąc                                       366 non-null    int64  \n",
      " 4   Dzień                                         366 non-null    int64  \n",
      " 5   Średnia dobowa temperatura                    366 non-null    float64\n",
      " 6   Średnia dobowa wilgotność względna            366 non-null    float64\n",
      " 7   Średnia dobowa prędkość wiatru [m/s]          366 non-null    float64\n",
      " 8   Średnie dobowe zachmurzenie ogólne [oktanty]  366 non-null    float64\n",
      "dtypes: float64(4), int64(4), object(1)\n",
      "memory usage: 25.9+ KB\n"
     ]
    }
   ],
   "execution_count": 25
  },
  {
   "metadata": {
    "ExecuteTime": {
     "end_time": "2024-11-13T22:55:27.217301Z",
     "start_time": "2024-11-13T22:55:27.211851Z"
    }
   },
   "cell_type": "code",
   "source": "df[\"Nazwa stacji\"].unique()",
   "outputs": [
    {
     "data": {
      "text/plain": [
       "array(['WARSZAWA-BIELANY'], dtype=object)"
      ]
     },
     "execution_count": 26,
     "metadata": {},
     "output_type": "execute_result"
    }
   ],
   "execution_count": 26
  },
  {
   "metadata": {
    "ExecuteTime": {
     "end_time": "2024-11-13T22:55:28.208811Z",
     "start_time": "2024-11-13T22:55:28.202917Z"
    }
   },
   "cell_type": "code",
   "source": "df[\"Rok\"].unique()",
   "outputs": [
    {
     "data": {
      "text/plain": [
       "array([2020])"
      ]
     },
     "execution_count": 27,
     "metadata": {},
     "output_type": "execute_result"
    }
   ],
   "execution_count": 27
  },
  {
   "metadata": {
    "ExecuteTime": {
     "end_time": "2024-11-13T22:55:28.716203Z",
     "start_time": "2024-11-13T22:55:28.707887Z"
    }
   },
   "cell_type": "code",
   "source": [
    "monthly_avg = df.groupby(\"Miesiąc\")[\"Średnia dobowa wilgotność względna\"].mean()\n",
    "monthly_avg"
   ],
   "outputs": [
    {
     "data": {
      "text/plain": [
       "Miesiąc\n",
       "1     84.838710\n",
       "2     78.124138\n",
       "3     61.983871\n",
       "4     50.206667\n",
       "5     65.329032\n",
       "6     75.943333\n",
       "7     68.054839\n",
       "8     69.087097\n",
       "9     77.610000\n",
       "10    86.732258\n",
       "11    88.046667\n",
       "12    87.896774\n",
       "Name: Średnia dobowa wilgotność względna, dtype: float64"
      ]
     },
     "execution_count": 28,
     "metadata": {},
     "output_type": "execute_result"
    }
   ],
   "execution_count": 28
  },
  {
   "metadata": {
    "ExecuteTime": {
     "end_time": "2024-11-13T22:55:30.456904Z",
     "start_time": "2024-11-13T22:55:30.121971Z"
    }
   },
   "cell_type": "code",
   "source": "monthly_avg[\"Miesiąc\"]",
   "outputs": [
    {
     "ename": "KeyError",
     "evalue": "'Miesiąc'",
     "output_type": "error",
     "traceback": [
      "\u001B[1;31m---------------------------------------------------------------------------\u001B[0m",
      "\u001B[1;31mKeyError\u001B[0m                                  Traceback (most recent call last)",
      "File \u001B[1;32m~\\AppData\\Roaming\\Python\\Python312\\site-packages\\pandas\\core\\indexes\\base.py:3805\u001B[0m, in \u001B[0;36mIndex.get_loc\u001B[1;34m(self, key)\u001B[0m\n\u001B[0;32m   3804\u001B[0m \u001B[38;5;28;01mtry\u001B[39;00m:\n\u001B[1;32m-> 3805\u001B[0m     \u001B[38;5;28;01mreturn\u001B[39;00m \u001B[38;5;28;43mself\u001B[39;49m\u001B[38;5;241;43m.\u001B[39;49m\u001B[43m_engine\u001B[49m\u001B[38;5;241;43m.\u001B[39;49m\u001B[43mget_loc\u001B[49m\u001B[43m(\u001B[49m\u001B[43mcasted_key\u001B[49m\u001B[43m)\u001B[49m\n\u001B[0;32m   3806\u001B[0m \u001B[38;5;28;01mexcept\u001B[39;00m \u001B[38;5;167;01mKeyError\u001B[39;00m \u001B[38;5;28;01mas\u001B[39;00m err:\n",
      "File \u001B[1;32mindex.pyx:167\u001B[0m, in \u001B[0;36mpandas._libs.index.IndexEngine.get_loc\u001B[1;34m()\u001B[0m\n",
      "File \u001B[1;32mindex.pyx:175\u001B[0m, in \u001B[0;36mpandas._libs.index.IndexEngine.get_loc\u001B[1;34m()\u001B[0m\n",
      "File \u001B[1;32mpandas\\\\_libs\\\\index_class_helper.pxi:70\u001B[0m, in \u001B[0;36mpandas._libs.index.Int64Engine._check_type\u001B[1;34m()\u001B[0m\n",
      "\u001B[1;31mKeyError\u001B[0m: 'Miesiąc'",
      "\nThe above exception was the direct cause of the following exception:\n",
      "\u001B[1;31mKeyError\u001B[0m                                  Traceback (most recent call last)",
      "Cell \u001B[1;32mIn[29], line 1\u001B[0m\n\u001B[1;32m----> 1\u001B[0m \u001B[43mmonthly_avg\u001B[49m\u001B[43m[\u001B[49m\u001B[38;5;124;43m\"\u001B[39;49m\u001B[38;5;124;43mMiesiąc\u001B[39;49m\u001B[38;5;124;43m\"\u001B[39;49m\u001B[43m]\u001B[49m\n",
      "File \u001B[1;32m~\\AppData\\Roaming\\Python\\Python312\\site-packages\\pandas\\core\\series.py:1121\u001B[0m, in \u001B[0;36mSeries.__getitem__\u001B[1;34m(self, key)\u001B[0m\n\u001B[0;32m   1118\u001B[0m     \u001B[38;5;28;01mreturn\u001B[39;00m \u001B[38;5;28mself\u001B[39m\u001B[38;5;241m.\u001B[39m_values[key]\n\u001B[0;32m   1120\u001B[0m \u001B[38;5;28;01melif\u001B[39;00m key_is_scalar:\n\u001B[1;32m-> 1121\u001B[0m     \u001B[38;5;28;01mreturn\u001B[39;00m \u001B[38;5;28;43mself\u001B[39;49m\u001B[38;5;241;43m.\u001B[39;49m\u001B[43m_get_value\u001B[49m\u001B[43m(\u001B[49m\u001B[43mkey\u001B[49m\u001B[43m)\u001B[49m\n\u001B[0;32m   1123\u001B[0m \u001B[38;5;66;03m# Convert generator to list before going through hashable part\u001B[39;00m\n\u001B[0;32m   1124\u001B[0m \u001B[38;5;66;03m# (We will iterate through the generator there to check for slices)\u001B[39;00m\n\u001B[0;32m   1125\u001B[0m \u001B[38;5;28;01mif\u001B[39;00m is_iterator(key):\n",
      "File \u001B[1;32m~\\AppData\\Roaming\\Python\\Python312\\site-packages\\pandas\\core\\series.py:1237\u001B[0m, in \u001B[0;36mSeries._get_value\u001B[1;34m(self, label, takeable)\u001B[0m\n\u001B[0;32m   1234\u001B[0m     \u001B[38;5;28;01mreturn\u001B[39;00m \u001B[38;5;28mself\u001B[39m\u001B[38;5;241m.\u001B[39m_values[label]\n\u001B[0;32m   1236\u001B[0m \u001B[38;5;66;03m# Similar to Index.get_value, but we do not fall back to positional\u001B[39;00m\n\u001B[1;32m-> 1237\u001B[0m loc \u001B[38;5;241m=\u001B[39m \u001B[38;5;28;43mself\u001B[39;49m\u001B[38;5;241;43m.\u001B[39;49m\u001B[43mindex\u001B[49m\u001B[38;5;241;43m.\u001B[39;49m\u001B[43mget_loc\u001B[49m\u001B[43m(\u001B[49m\u001B[43mlabel\u001B[49m\u001B[43m)\u001B[49m\n\u001B[0;32m   1239\u001B[0m \u001B[38;5;28;01mif\u001B[39;00m is_integer(loc):\n\u001B[0;32m   1240\u001B[0m     \u001B[38;5;28;01mreturn\u001B[39;00m \u001B[38;5;28mself\u001B[39m\u001B[38;5;241m.\u001B[39m_values[loc]\n",
      "File \u001B[1;32m~\\AppData\\Roaming\\Python\\Python312\\site-packages\\pandas\\core\\indexes\\base.py:3812\u001B[0m, in \u001B[0;36mIndex.get_loc\u001B[1;34m(self, key)\u001B[0m\n\u001B[0;32m   3807\u001B[0m     \u001B[38;5;28;01mif\u001B[39;00m \u001B[38;5;28misinstance\u001B[39m(casted_key, \u001B[38;5;28mslice\u001B[39m) \u001B[38;5;129;01mor\u001B[39;00m (\n\u001B[0;32m   3808\u001B[0m         \u001B[38;5;28misinstance\u001B[39m(casted_key, abc\u001B[38;5;241m.\u001B[39mIterable)\n\u001B[0;32m   3809\u001B[0m         \u001B[38;5;129;01mand\u001B[39;00m \u001B[38;5;28many\u001B[39m(\u001B[38;5;28misinstance\u001B[39m(x, \u001B[38;5;28mslice\u001B[39m) \u001B[38;5;28;01mfor\u001B[39;00m x \u001B[38;5;129;01min\u001B[39;00m casted_key)\n\u001B[0;32m   3810\u001B[0m     ):\n\u001B[0;32m   3811\u001B[0m         \u001B[38;5;28;01mraise\u001B[39;00m InvalidIndexError(key)\n\u001B[1;32m-> 3812\u001B[0m     \u001B[38;5;28;01mraise\u001B[39;00m \u001B[38;5;167;01mKeyError\u001B[39;00m(key) \u001B[38;5;28;01mfrom\u001B[39;00m \u001B[38;5;21;01merr\u001B[39;00m\n\u001B[0;32m   3813\u001B[0m \u001B[38;5;28;01mexcept\u001B[39;00m \u001B[38;5;167;01mTypeError\u001B[39;00m:\n\u001B[0;32m   3814\u001B[0m     \u001B[38;5;66;03m# If we have a listlike key, _check_indexing_error will raise\u001B[39;00m\n\u001B[0;32m   3815\u001B[0m     \u001B[38;5;66;03m#  InvalidIndexError. Otherwise we fall through and re-raise\u001B[39;00m\n\u001B[0;32m   3816\u001B[0m     \u001B[38;5;66;03m#  the TypeError.\u001B[39;00m\n\u001B[0;32m   3817\u001B[0m     \u001B[38;5;28mself\u001B[39m\u001B[38;5;241m.\u001B[39m_check_indexing_error(key)\n",
      "\u001B[1;31mKeyError\u001B[0m: 'Miesiąc'"
     ]
    }
   ],
   "execution_count": 29
  },
  {
   "metadata": {
    "ExecuteTime": {
     "end_time": "2024-11-13T22:55:33.440548Z",
     "start_time": "2024-11-13T22:55:32.685954Z"
    }
   },
   "cell_type": "code",
   "source": "monthly_avg.plot()    # pandas ma w sobie matplotlib więc można od razu wyrysować wykres",
   "outputs": [
    {
     "data": {
      "text/plain": [
       "<Axes: xlabel='Miesiąc'>"
      ]
     },
     "execution_count": 30,
     "metadata": {},
     "output_type": "execute_result"
    },
    {
     "data": {
      "text/plain": [
       "<Figure size 640x480 with 1 Axes>"
      ],
      "image/png": "[encoded data removed]"
     },
     "metadata": {},
     "output_type": "display_data"
    }
   ],
   "execution_count": 30
  },
  {
   "metadata": {},
   "cell_type": "code",
   "outputs": [],
   "execution_count": null,
   "source": ""
  }
 ],
 "metadata": {
  "kernelspec": {
   "display_name": "Python 3",
   "language": "python",
   "name": "python3"
  },
  "language_info": {
   "codemirror_mode": {
    "name": "ipython",
    "version": 3
   },
   "file_extension": ".py",
   "mimetype": "text/x-python",
   "name": "python",
   "nbconvert_exporter": "python",
   "pygments_lexer": "ipython3",
   "version": "3.8.6"
  }
 },
 "nbformat": 4,
 "nbformat_minor": 4
}
