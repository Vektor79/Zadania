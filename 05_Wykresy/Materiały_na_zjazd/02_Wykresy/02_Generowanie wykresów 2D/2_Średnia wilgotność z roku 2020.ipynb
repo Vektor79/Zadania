{
 "cells": [
  {
   "cell_type": "markdown",
   "metadata": {},
   "source": [
    "Na podstawie danych z pliku `Dane meteo.csv`, stwórz wykres, który pokaże, jaka była średnia dobowa wilgotność względna w Warszawie w roku 2020.\n",
    "\n",
    "Wykres powinien spełniać następujące wymagania:\n",
    "1. Oś x powinna być podpisana miesiącami,\n",
    "2. Zarówno oś x, jak i oś y powinny mieć odpowiednie opisy,\n",
    "3. Wykres powinien zawierać tytuł,\n",
    "4. Wykres powinie zawierać legendę,\n",
    "5. Linia wykresu powinna być czerwona, ciągła."
   ]
  },
  {
   "cell_type": "code",
   "execution_count": null,
   "metadata": {},
   "outputs": [],
   "source": []
  }
 ],
 "metadata": {
  "kernelspec": {
   "display_name": "Python 3",
   "language": "python",
   "name": "python3"
  },
  "language_info": {
   "codemirror_mode": {
    "name": "ipython",
    "version": 3
   },
   "file_extension": ".py",
   "mimetype": "text/x-python",
   "name": "python",
   "nbconvert_exporter": "python",
   "pygments_lexer": "ipython3",
   "version": "3.8.6"
  }
 },
 "nbformat": 4,
 "nbformat_minor": 4
}
