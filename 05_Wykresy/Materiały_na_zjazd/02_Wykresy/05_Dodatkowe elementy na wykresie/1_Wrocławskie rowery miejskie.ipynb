{
 "cells": [
  {
   "cell_type": "markdown",
   "metadata": {},
   "source": [
    "W pliku **Historia_przejazdow.csv** znajdziesz dane na temat wypożyczeń Wrocławskich Rowerów Miejskich - aktualne dane możesz znaleźć [tutaj](https://www.wroclaw.pl/open-data/dataset/wrmprzejazdy_data). Jeżeli masz problemy z polskimi literami, to plik jest kodowany za pomocą kodowania 'Windows-1250'.\n",
    "\n",
    "Przeczytaj dane z pliku, a następnie wybierz tylko te, w których stacje wynajmu i zwrotu są takie same, a wypożyczenia krótsze niż 100 minut. Pokaż na wykresie ile było wypożyczeń o danym czasie trwania (pierwszy słupek: wypożyczenia o czasie trwania jednej minuty, drugi - dwóch minut, itd.).\n",
    "\n",
    "Wypożyczenia które zaczynają się i kończą na tej samej stacji oraz trwają nie dłużej niż 3 minuty to prawdopodobnie wypożyczenia uszkodzonych rowerów, które użytkownik oddaje zaraz po tym jak zda sobie sprawę z awarii. Narysuj czerwoną linię, która oddzieli wypożyczenia krótsze i dłuższe od 3 minut. \n",
    "\n",
    "Dodaj też do niej adnotację tłumaczącą czym jest ta linia."
   ]
  },
  {
   "cell_type": "code",
   "execution_count": null,
   "metadata": {},
   "outputs": [],
   "source": []
  }
 ],
 "metadata": {
  "kernelspec": {
   "display_name": "Python 3",
   "language": "python",
   "name": "python3"
  },
  "language_info": {
   "codemirror_mode": {
    "name": "ipython",
    "version": 3
   },
   "file_extension": ".py",
   "mimetype": "text/x-python",
   "name": "python",
   "nbconvert_exporter": "python",
   "pygments_lexer": "ipython3",
   "version": "3.8.6"
  }
 },
 "nbformat": 4,
 "nbformat_minor": 4
}
