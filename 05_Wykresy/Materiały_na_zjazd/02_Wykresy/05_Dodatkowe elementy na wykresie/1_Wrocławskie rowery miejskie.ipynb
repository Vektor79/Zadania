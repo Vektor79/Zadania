{
 "cells": [
  {
   "cell_type": "markdown",
   "metadata": {},
   "source": [
    "W pliku **Historia_przejazdow.csv** znajdziesz dane na temat wypożyczeń Wrocławskich Rowerów Miejskich - aktualne dane możesz znaleźć [tutaj](https://www.wroclaw.pl/open-data/dataset/wrmprzejazdy_data). Jeżeli masz problemy z polskimi literami, to plik jest kodowany za pomocą kodowania 'Windows-1250'.\n",
    "\n",
    "Przeczytaj dane z pliku, a następnie wybierz tylko te, w których stacje wynajmu i zwrotu są takie same, a wypożyczenia krótsze niż 100 minut. Pokaż na wykresie ile było wypożyczeń o danym czasie trwania (pierwszy słupek: wypożyczenia o czasie trwania jednej minuty, drugi - dwóch minut, itd.).\n",
    "\n",
    "Wypożyczenia które zaczynają się i kończą na tej samej stacji oraz trwają nie dłużej niż 3 minuty to prawdopodobnie wypożyczenia uszkodzonych rowerów, które użytkownik oddaje zaraz po tym jak zda sobie sprawę z awarii. Narysuj czerwoną linię, która oddzieli wypożyczenia krótsze i dłuższe od 3 minut. \n",
    "\n",
    "Dodaj też do niej adnotację tłumaczącą czym jest ta linia."
   ]
  },
  {
   "cell_type": "code",
   "metadata": {
    "ExecuteTime": {
     "end_time": "2024-11-20T19:40:20.368141Z",
     "start_time": "2024-11-20T19:40:19.250740Z"
    }
   },
   "source": [
    "import os\n",
    "import matplotlib as mpl\n",
    "import matplotlib.pyplot as plt\n",
    "import pandas as pd"
   ],
   "outputs": [],
   "execution_count": 1
  },
  {
   "metadata": {
    "ExecuteTime": {
     "end_time": "2024-11-20T19:45:06.769943Z",
     "start_time": "2024-11-20T19:45:06.747448Z"
    }
   },
   "cell_type": "code",
   "source": "df = pd.read_csv(os.path.join(\"..\", \"01_Dane do wykresów\", \"Historia_przejazdow.csv\"), sep=\",\", encoding=\"Windows-1250\")",
   "outputs": [],
   "execution_count": 4
  },
  {
   "metadata": {
    "ExecuteTime": {
     "end_time": "2024-11-20T19:45:21.274851Z",
     "start_time": "2024-11-20T19:45:21.257405Z"
    }
   },
   "cell_type": "code",
   "source": "df.head()",
   "outputs": [
    {
     "data": {
      "text/plain": [
       "   UID wynajmu  Numer roweru         Data wynajmu          Data zwrotu  \\\n",
       "0    112512738         57243  2021-03-03 23:41:47  2021-03-04 00:00:34   \n",
       "1    112512783         57434  2021-03-03 23:46:14  2021-03-04 00:00:41   \n",
       "2    112512778        650040  2021-03-03 23:45:30  2021-03-04 00:02:33   \n",
       "3    112512869         57441  2021-03-03 23:53:59  2021-03-04 00:05:08   \n",
       "4    112512830        651044  2021-03-03 23:50:10  2021-03-04 00:07:12   \n",
       "\n",
       "                       Stacja wynajmu                    Stacja zwrotu  \\\n",
       "0           Plac Grunwaldzki / Polaka                      Poza stacją   \n",
       "1           Bezpieczna/Jugosławiańska                 Kurkowa / Dubois   \n",
       "2      al. Kochanowskiego / Kopernika                    Rondo Reagana   \n",
       "3  Plac Świętego Macieja / Trzebnicka        Nowowiejska / Górnickiego   \n",
       "4            Powstańców Śląskich/Orla  Szewska / Kazimierza Wielkiego    \n",
       "\n",
       "   Czas trwania  \n",
       "0            19  \n",
       "1            15  \n",
       "2            18  \n",
       "3            12  \n",
       "4            18  "
      ],
      "text/html": [
       "<div>\n",
       "<style scoped>\n",
       "    .dataframe tbody tr th:only-of-type {\n",
       "        vertical-align: middle;\n",
       "    }\n",
       "\n",
       "    .dataframe tbody tr th {\n",
       "        vertical-align: top;\n",
       "    }\n",
       "\n",
       "    .dataframe thead th {\n",
       "        text-align: right;\n",
       "    }\n",
       "</style>\n",
       "<table border=\"1\" class=\"dataframe\">\n",
       "  <thead>\n",
       "    <tr style=\"text-align: right;\">\n",
       "      <th></th>\n",
       "      <th>UID wynajmu</th>\n",
       "      <th>Numer roweru</th>\n",
       "      <th>Data wynajmu</th>\n",
       "      <th>Data zwrotu</th>\n",
       "      <th>Stacja wynajmu</th>\n",
       "      <th>Stacja zwrotu</th>\n",
       "      <th>Czas trwania</th>\n",
       "    </tr>\n",
       "  </thead>\n",
       "  <tbody>\n",
       "    <tr>\n",
       "      <th>0</th>\n",
       "      <td>112512738</td>\n",
       "      <td>57243</td>\n",
       "      <td>2021-03-03 23:41:47</td>\n",
       "      <td>2021-03-04 00:00:34</td>\n",
       "      <td>Plac Grunwaldzki / Polaka</td>\n",
       "      <td>Poza stacją</td>\n",
       "      <td>19</td>\n",
       "    </tr>\n",
       "    <tr>\n",
       "      <th>1</th>\n",
       "      <td>112512783</td>\n",
       "      <td>57434</td>\n",
       "      <td>2021-03-03 23:46:14</td>\n",
       "      <td>2021-03-04 00:00:41</td>\n",
       "      <td>Bezpieczna/Jugosławiańska</td>\n",
       "      <td>Kurkowa / Dubois</td>\n",
       "      <td>15</td>\n",
       "    </tr>\n",
       "    <tr>\n",
       "      <th>2</th>\n",
       "      <td>112512778</td>\n",
       "      <td>650040</td>\n",
       "      <td>2021-03-03 23:45:30</td>\n",
       "      <td>2021-03-04 00:02:33</td>\n",
       "      <td>al. Kochanowskiego / Kopernika</td>\n",
       "      <td>Rondo Reagana</td>\n",
       "      <td>18</td>\n",
       "    </tr>\n",
       "    <tr>\n",
       "      <th>3</th>\n",
       "      <td>112512869</td>\n",
       "      <td>57441</td>\n",
       "      <td>2021-03-03 23:53:59</td>\n",
       "      <td>2021-03-04 00:05:08</td>\n",
       "      <td>Plac Świętego Macieja / Trzebnicka</td>\n",
       "      <td>Nowowiejska / Górnickiego</td>\n",
       "      <td>12</td>\n",
       "    </tr>\n",
       "    <tr>\n",
       "      <th>4</th>\n",
       "      <td>112512830</td>\n",
       "      <td>651044</td>\n",
       "      <td>2021-03-03 23:50:10</td>\n",
       "      <td>2021-03-04 00:07:12</td>\n",
       "      <td>Powstańców Śląskich/Orla</td>\n",
       "      <td>Szewska / Kazimierza Wielkiego</td>\n",
       "      <td>18</td>\n",
       "    </tr>\n",
       "  </tbody>\n",
       "</table>\n",
       "</div>"
      ]
     },
     "execution_count": 5,
     "metadata": {},
     "output_type": "execute_result"
    }
   ],
   "execution_count": 5
  },
  {
   "metadata": {
    "ExecuteTime": {
     "end_time": "2024-11-20T19:45:58.732472Z",
     "start_time": "2024-11-20T19:45:58.719909Z"
    }
   },
   "cell_type": "code",
   "source": "df.sample(10)",
   "outputs": [
    {
     "data": {
      "text/plain": [
       "      UID wynajmu  Numer roweru         Data wynajmu          Data zwrotu  \\\n",
       "2303    112538772         57630  2021-03-04 17:31:00  2021-03-04 17:42:51   \n",
       "1938    112534890        650084  2021-03-04 16:18:42  2021-03-04 16:33:14   \n",
       "1368    112529694        650422  2021-03-04 14:32:04  2021-03-04 14:51:04   \n",
       "2066    112536194         57527  2021-03-04 16:43:05  2021-03-04 16:52:39   \n",
       "1831    112533049         57450  2021-03-04 15:42:50  2021-03-04 16:11:55   \n",
       "1292    112529544         57156  2021-03-04 14:28:34  2021-03-04 14:36:20   \n",
       "877     112524991        651205  2021-03-04 12:35:03  2021-03-04 12:37:05   \n",
       "2429    112540552         57641  2021-03-04 18:04:57  2021-03-04 18:20:00   \n",
       "824     112523706         57104  2021-03-04 11:55:50  2021-03-04 12:07:06   \n",
       "394     112517420         57154  2021-03-04 08:15:38  2021-03-04 08:27:38   \n",
       "\n",
       "                                Stacja wynajmu  \\\n",
       "2303                         Młodych Techników   \n",
       "1938  Plac Dominikański (Galeria Dominikańska)   \n",
       "1368                   Świeradowska / Krynicka   \n",
       "2066                     Zaporoska / Gajowicka   \n",
       "1831                Kraszewskiego / Trzebnicka   \n",
       "1292                    Strzegomska / Estońska   \n",
       "877                 Opolska / pętla tramwajowa   \n",
       "2429                        Hubska / Prudnicka   \n",
       "824                     Komandorska / Kamienna   \n",
       "394                          Nyska / Jesionowa   \n",
       "\n",
       "                           Stacja zwrotu  Czas trwania  \n",
       "2303            Legnicka (Park Magnolia)            12  \n",
       "1938  Plac Świętego Macieja / Trzebnicka            15  \n",
       "1368     Szewska / Kazimierza Wielkiego             19  \n",
       "2066            Aleja Hallera / Mielecka            10  \n",
       "1831               Promenady Wrocławskie            30  \n",
       "1292             Graniczna / Strzegomska             8  \n",
       "877           Opolska / pętla tramwajowa             3  \n",
       "2429                       Plac Legionów            16  \n",
       "824                                Rynek            12  \n",
       "394              Ślężna / Aleja Wiśniowa            12  "
      ],
      "text/html": [
       "<div>\n",
       "<style scoped>\n",
       "    .dataframe tbody tr th:only-of-type {\n",
       "        vertical-align: middle;\n",
       "    }\n",
       "\n",
       "    .dataframe tbody tr th {\n",
       "        vertical-align: top;\n",
       "    }\n",
       "\n",
       "    .dataframe thead th {\n",
       "        text-align: right;\n",
       "    }\n",
       "</style>\n",
       "<table border=\"1\" class=\"dataframe\">\n",
       "  <thead>\n",
       "    <tr style=\"text-align: right;\">\n",
       "      <th></th>\n",
       "      <th>UID wynajmu</th>\n",
       "      <th>Numer roweru</th>\n",
       "      <th>Data wynajmu</th>\n",
       "      <th>Data zwrotu</th>\n",
       "      <th>Stacja wynajmu</th>\n",
       "      <th>Stacja zwrotu</th>\n",
       "      <th>Czas trwania</th>\n",
       "    </tr>\n",
       "  </thead>\n",
       "  <tbody>\n",
       "    <tr>\n",
       "      <th>2303</th>\n",
       "      <td>112538772</td>\n",
       "      <td>57630</td>\n",
       "      <td>2021-03-04 17:31:00</td>\n",
       "      <td>2021-03-04 17:42:51</td>\n",
       "      <td>Młodych Techników</td>\n",
       "      <td>Legnicka (Park Magnolia)</td>\n",
       "      <td>12</td>\n",
       "    </tr>\n",
       "    <tr>\n",
       "      <th>1938</th>\n",
       "      <td>112534890</td>\n",
       "      <td>650084</td>\n",
       "      <td>2021-03-04 16:18:42</td>\n",
       "      <td>2021-03-04 16:33:14</td>\n",
       "      <td>Plac Dominikański (Galeria Dominikańska)</td>\n",
       "      <td>Plac Świętego Macieja / Trzebnicka</td>\n",
       "      <td>15</td>\n",
       "    </tr>\n",
       "    <tr>\n",
       "      <th>1368</th>\n",
       "      <td>112529694</td>\n",
       "      <td>650422</td>\n",
       "      <td>2021-03-04 14:32:04</td>\n",
       "      <td>2021-03-04 14:51:04</td>\n",
       "      <td>Świeradowska / Krynicka</td>\n",
       "      <td>Szewska / Kazimierza Wielkiego</td>\n",
       "      <td>19</td>\n",
       "    </tr>\n",
       "    <tr>\n",
       "      <th>2066</th>\n",
       "      <td>112536194</td>\n",
       "      <td>57527</td>\n",
       "      <td>2021-03-04 16:43:05</td>\n",
       "      <td>2021-03-04 16:52:39</td>\n",
       "      <td>Zaporoska / Gajowicka</td>\n",
       "      <td>Aleja Hallera / Mielecka</td>\n",
       "      <td>10</td>\n",
       "    </tr>\n",
       "    <tr>\n",
       "      <th>1831</th>\n",
       "      <td>112533049</td>\n",
       "      <td>57450</td>\n",
       "      <td>2021-03-04 15:42:50</td>\n",
       "      <td>2021-03-04 16:11:55</td>\n",
       "      <td>Kraszewskiego / Trzebnicka</td>\n",
       "      <td>Promenady Wrocławskie</td>\n",
       "      <td>30</td>\n",
       "    </tr>\n",
       "    <tr>\n",
       "      <th>1292</th>\n",
       "      <td>112529544</td>\n",
       "      <td>57156</td>\n",
       "      <td>2021-03-04 14:28:34</td>\n",
       "      <td>2021-03-04 14:36:20</td>\n",
       "      <td>Strzegomska / Estońska</td>\n",
       "      <td>Graniczna / Strzegomska</td>\n",
       "      <td>8</td>\n",
       "    </tr>\n",
       "    <tr>\n",
       "      <th>877</th>\n",
       "      <td>112524991</td>\n",
       "      <td>651205</td>\n",
       "      <td>2021-03-04 12:35:03</td>\n",
       "      <td>2021-03-04 12:37:05</td>\n",
       "      <td>Opolska / pętla tramwajowa</td>\n",
       "      <td>Opolska / pętla tramwajowa</td>\n",
       "      <td>3</td>\n",
       "    </tr>\n",
       "    <tr>\n",
       "      <th>2429</th>\n",
       "      <td>112540552</td>\n",
       "      <td>57641</td>\n",
       "      <td>2021-03-04 18:04:57</td>\n",
       "      <td>2021-03-04 18:20:00</td>\n",
       "      <td>Hubska / Prudnicka</td>\n",
       "      <td>Plac Legionów</td>\n",
       "      <td>16</td>\n",
       "    </tr>\n",
       "    <tr>\n",
       "      <th>824</th>\n",
       "      <td>112523706</td>\n",
       "      <td>57104</td>\n",
       "      <td>2021-03-04 11:55:50</td>\n",
       "      <td>2021-03-04 12:07:06</td>\n",
       "      <td>Komandorska / Kamienna</td>\n",
       "      <td>Rynek</td>\n",
       "      <td>12</td>\n",
       "    </tr>\n",
       "    <tr>\n",
       "      <th>394</th>\n",
       "      <td>112517420</td>\n",
       "      <td>57154</td>\n",
       "      <td>2021-03-04 08:15:38</td>\n",
       "      <td>2021-03-04 08:27:38</td>\n",
       "      <td>Nyska / Jesionowa</td>\n",
       "      <td>Ślężna / Aleja Wiśniowa</td>\n",
       "      <td>12</td>\n",
       "    </tr>\n",
       "  </tbody>\n",
       "</table>\n",
       "</div>"
      ]
     },
     "execution_count": 7,
     "metadata": {},
     "output_type": "execute_result"
    }
   ],
   "execution_count": 7
  },
  {
   "metadata": {
    "ExecuteTime": {
     "end_time": "2024-11-20T19:45:46.399221Z",
     "start_time": "2024-11-20T19:45:46.387592Z"
    }
   },
   "cell_type": "code",
   "source": "df.info()",
   "outputs": [
    {
     "name": "stdout",
     "output_type": "stream",
     "text": [
      "<class 'pandas.core.frame.DataFrame'>\n",
      "RangeIndex: 3067 entries, 0 to 3066\n",
      "Data columns (total 7 columns):\n",
      " #   Column          Non-Null Count  Dtype \n",
      "---  ------          --------------  ----- \n",
      " 0   UID wynajmu     3067 non-null   int64 \n",
      " 1   Numer roweru    3067 non-null   int64 \n",
      " 2   Data wynajmu    3067 non-null   object\n",
      " 3   Data zwrotu     3067 non-null   object\n",
      " 4   Stacja wynajmu  3067 non-null   object\n",
      " 5   Stacja zwrotu   3067 non-null   object\n",
      " 6   Czas trwania    3067 non-null   int64 \n",
      "dtypes: int64(3), object(4)\n",
      "memory usage: 167.9+ KB\n"
     ]
    }
   ],
   "execution_count": 6
  },
  {
   "metadata": {},
   "cell_type": "markdown",
   "source": "#### powyżej widać, że w danych jest coś nie tak - daty są object a powinny mieć format daty; da się to zrobić przy wczytywaniu danych, jedna w tym przykłądzie zrobię to poniżej 'ręcznie' ;)\n"
  },
  {
   "metadata": {
    "ExecuteTime": {
     "end_time": "2024-11-20T19:55:20.593050Z",
     "start_time": "2024-11-20T19:55:20.570222Z"
    }
   },
   "cell_type": "code",
   "source": [
    "# zmiana formatu danych object na datowy:\n",
    "df[\"Data wynajmu\"] = pd.to_datetime(df[\"Data wynajmu\"])"
   ],
   "outputs": [],
   "execution_count": 13
  },
  {
   "metadata": {
    "ExecuteTime": {
     "end_time": "2024-11-20T20:07:09.740243Z",
     "start_time": "2024-11-20T20:07:09.719985Z"
    }
   },
   "cell_type": "code",
   "source": "df[\"Data zwrotu\"] = pd.to_datetime(df[\"Data zwrotu\"])",
   "outputs": [],
   "execution_count": 15
  },
  {
   "metadata": {
    "ExecuteTime": {
     "end_time": "2024-11-20T20:07:11.066957Z",
     "start_time": "2024-11-20T20:07:11.055150Z"
    }
   },
   "cell_type": "code",
   "source": "df.info()",
   "outputs": [
    {
     "name": "stdout",
     "output_type": "stream",
     "text": [
      "<class 'pandas.core.frame.DataFrame'>\n",
      "RangeIndex: 3067 entries, 0 to 3066\n",
      "Data columns (total 7 columns):\n",
      " #   Column          Non-Null Count  Dtype         \n",
      "---  ------          --------------  -----         \n",
      " 0   UID wynajmu     3067 non-null   int64         \n",
      " 1   Numer roweru    3067 non-null   int64         \n",
      " 2   Data wynajmu    3067 non-null   datetime64[ns]\n",
      " 3   Data zwrotu     3067 non-null   datetime64[ns]\n",
      " 4   Stacja wynajmu  3067 non-null   object        \n",
      " 5   Stacja zwrotu   3067 non-null   object        \n",
      " 6   Czas trwania    3067 non-null   int64         \n",
      "dtypes: datetime64[ns](2), int64(3), object(2)\n",
      "memory usage: 167.9+ KB\n"
     ]
    }
   ],
   "execution_count": 16
  },
  {
   "metadata": {
    "ExecuteTime": {
     "end_time": "2024-11-20T20:07:48.469273Z",
     "start_time": "2024-11-20T20:07:48.448681Z"
    }
   },
   "cell_type": "code",
   "source": "df.head",
   "outputs": [
    {
     "data": {
      "text/plain": [
       "<bound method NDFrame.head of       UID wynajmu  Numer roweru        Data wynajmu         Data zwrotu  \\\n",
       "0       112512738         57243 2021-03-03 23:41:47 2021-03-04 00:00:34   \n",
       "1       112512783         57434 2021-03-03 23:46:14 2021-03-04 00:00:41   \n",
       "2       112512778        650040 2021-03-03 23:45:30 2021-03-04 00:02:33   \n",
       "3       112512869         57441 2021-03-03 23:53:59 2021-03-04 00:05:08   \n",
       "4       112512830        651044 2021-03-03 23:50:10 2021-03-04 00:07:12   \n",
       "...           ...           ...                 ...                 ...   \n",
       "3062    112548936         57511 2021-03-04 23:47:37 2021-03-04 23:52:25   \n",
       "3063    112548810         57137 2021-03-04 23:33:15 2021-03-04 23:52:42   \n",
       "3064    112548934        651243 2021-03-04 23:47:25 2021-03-04 23:56:43   \n",
       "3065    112548972        650956 2021-03-04 23:51:43 2021-03-04 23:58:58   \n",
       "3066    112548907         57625 2021-03-04 23:44:16 2021-03-04 23:59:50   \n",
       "\n",
       "                                Stacja wynajmu  \\\n",
       "0                    Plac Grunwaldzki / Polaka   \n",
       "1                    Bezpieczna/Jugosławiańska   \n",
       "2               al. Kochanowskiego / Kopernika   \n",
       "3           Plac Świętego Macieja / Trzebnicka   \n",
       "4                     Powstańców Śląskich/Orla   \n",
       "...                                        ...   \n",
       "3062                     Legnicka / Zachodnia    \n",
       "3063            Grota-Roweckiego/Iwaszkiewicza   \n",
       "3064  Plac Dominikański (Galeria Dominikańska)   \n",
       "3065       Powstańcow Śląskich / Aleja Hallera   \n",
       "3066                              .RELOKACYJNA   \n",
       "\n",
       "                        Stacja zwrotu  Czas trwania  \n",
       "0                         Poza stacją            19  \n",
       "1                    Kurkowa / Dubois            15  \n",
       "2                       Rondo Reagana            18  \n",
       "3           Nowowiejska / Górnickiego            12  \n",
       "4     Szewska / Kazimierza Wielkiego             18  \n",
       "...                               ...           ...  \n",
       "3062                      Poza stacją             5  \n",
       "3063    Wałbrzyska - pętla tramwajowa            20  \n",
       "3064       Nowowiejska / Wyszyńskiego            10  \n",
       "3065            Zaporoska / Gajowicka             8  \n",
       "3066             Janiszewskiego (PWr)            16  \n",
       "\n",
       "[3067 rows x 7 columns]>"
      ]
     },
     "execution_count": 17,
     "metadata": {},
     "output_type": "execute_result"
    }
   ],
   "execution_count": 17
  },
  {
   "metadata": {
    "ExecuteTime": {
     "end_time": "2024-11-20T20:08:00.048510Z",
     "start_time": "2024-11-20T20:08:00.034983Z"
    }
   },
   "cell_type": "code",
   "source": "df.head()",
   "outputs": [
    {
     "data": {
      "text/plain": [
       "   UID wynajmu  Numer roweru        Data wynajmu         Data zwrotu  \\\n",
       "0    112512738         57243 2021-03-03 23:41:47 2021-03-04 00:00:34   \n",
       "1    112512783         57434 2021-03-03 23:46:14 2021-03-04 00:00:41   \n",
       "2    112512778        650040 2021-03-03 23:45:30 2021-03-04 00:02:33   \n",
       "3    112512869         57441 2021-03-03 23:53:59 2021-03-04 00:05:08   \n",
       "4    112512830        651044 2021-03-03 23:50:10 2021-03-04 00:07:12   \n",
       "\n",
       "                       Stacja wynajmu                    Stacja zwrotu  \\\n",
       "0           Plac Grunwaldzki / Polaka                      Poza stacją   \n",
       "1           Bezpieczna/Jugosławiańska                 Kurkowa / Dubois   \n",
       "2      al. Kochanowskiego / Kopernika                    Rondo Reagana   \n",
       "3  Plac Świętego Macieja / Trzebnicka        Nowowiejska / Górnickiego   \n",
       "4            Powstańców Śląskich/Orla  Szewska / Kazimierza Wielkiego    \n",
       "\n",
       "   Czas trwania  \n",
       "0            19  \n",
       "1            15  \n",
       "2            18  \n",
       "3            12  \n",
       "4            18  "
      ],
      "text/html": [
       "<div>\n",
       "<style scoped>\n",
       "    .dataframe tbody tr th:only-of-type {\n",
       "        vertical-align: middle;\n",
       "    }\n",
       "\n",
       "    .dataframe tbody tr th {\n",
       "        vertical-align: top;\n",
       "    }\n",
       "\n",
       "    .dataframe thead th {\n",
       "        text-align: right;\n",
       "    }\n",
       "</style>\n",
       "<table border=\"1\" class=\"dataframe\">\n",
       "  <thead>\n",
       "    <tr style=\"text-align: right;\">\n",
       "      <th></th>\n",
       "      <th>UID wynajmu</th>\n",
       "      <th>Numer roweru</th>\n",
       "      <th>Data wynajmu</th>\n",
       "      <th>Data zwrotu</th>\n",
       "      <th>Stacja wynajmu</th>\n",
       "      <th>Stacja zwrotu</th>\n",
       "      <th>Czas trwania</th>\n",
       "    </tr>\n",
       "  </thead>\n",
       "  <tbody>\n",
       "    <tr>\n",
       "      <th>0</th>\n",
       "      <td>112512738</td>\n",
       "      <td>57243</td>\n",
       "      <td>2021-03-03 23:41:47</td>\n",
       "      <td>2021-03-04 00:00:34</td>\n",
       "      <td>Plac Grunwaldzki / Polaka</td>\n",
       "      <td>Poza stacją</td>\n",
       "      <td>19</td>\n",
       "    </tr>\n",
       "    <tr>\n",
       "      <th>1</th>\n",
       "      <td>112512783</td>\n",
       "      <td>57434</td>\n",
       "      <td>2021-03-03 23:46:14</td>\n",
       "      <td>2021-03-04 00:00:41</td>\n",
       "      <td>Bezpieczna/Jugosławiańska</td>\n",
       "      <td>Kurkowa / Dubois</td>\n",
       "      <td>15</td>\n",
       "    </tr>\n",
       "    <tr>\n",
       "      <th>2</th>\n",
       "      <td>112512778</td>\n",
       "      <td>650040</td>\n",
       "      <td>2021-03-03 23:45:30</td>\n",
       "      <td>2021-03-04 00:02:33</td>\n",
       "      <td>al. Kochanowskiego / Kopernika</td>\n",
       "      <td>Rondo Reagana</td>\n",
       "      <td>18</td>\n",
       "    </tr>\n",
       "    <tr>\n",
       "      <th>3</th>\n",
       "      <td>112512869</td>\n",
       "      <td>57441</td>\n",
       "      <td>2021-03-03 23:53:59</td>\n",
       "      <td>2021-03-04 00:05:08</td>\n",
       "      <td>Plac Świętego Macieja / Trzebnicka</td>\n",
       "      <td>Nowowiejska / Górnickiego</td>\n",
       "      <td>12</td>\n",
       "    </tr>\n",
       "    <tr>\n",
       "      <th>4</th>\n",
       "      <td>112512830</td>\n",
       "      <td>651044</td>\n",
       "      <td>2021-03-03 23:50:10</td>\n",
       "      <td>2021-03-04 00:07:12</td>\n",
       "      <td>Powstańców Śląskich/Orla</td>\n",
       "      <td>Szewska / Kazimierza Wielkiego</td>\n",
       "      <td>18</td>\n",
       "    </tr>\n",
       "  </tbody>\n",
       "</table>\n",
       "</div>"
      ]
     },
     "execution_count": 18,
     "metadata": {},
     "output_type": "execute_result"
    }
   ],
   "execution_count": 18
  },
  {
   "metadata": {
    "ExecuteTime": {
     "end_time": "2024-11-20T19:47:49.001706Z",
     "start_time": "2024-11-20T19:47:48.995669Z"
    }
   },
   "cell_type": "code",
   "source": "df.columns",
   "outputs": [
    {
     "data": {
      "text/plain": [
       "Index(['UID wynajmu', 'Numer roweru', 'Data wynajmu', 'Data zwrotu',\n",
       "       'Stacja wynajmu', 'Stacja zwrotu', 'Czas trwania'],\n",
       "      dtype='object')"
      ]
     },
     "execution_count": 10,
     "metadata": {},
     "output_type": "execute_result"
    }
   ],
   "execution_count": 10
  },
  {
   "metadata": {
    "ExecuteTime": {
     "end_time": "2024-11-20T19:48:43.602490Z",
     "start_time": "2024-11-20T19:48:43.502664Z"
    }
   },
   "cell_type": "code",
   "source": "fig, ax = plt.subplots(figsize=(12, 8))",
   "outputs": [
    {
     "data": {
      "text/plain": [
       "<Figure size 1200x800 with 1 Axes>"
      ],
      "image/png": "[encoded data removed]"
     },
     "metadata": {},
     "output_type": "display_data"
    }
   ],
   "execution_count": 12
  },
  {
   "metadata": {},
   "cell_type": "code",
   "outputs": [],
   "execution_count": null,
   "source": ""
  }
 ],
 "metadata": {
  "kernelspec": {
   "display_name": "Python 3",
   "language": "python",
   "name": "python3"
  },
  "language_info": {
   "codemirror_mode": {
    "name": "ipython",
    "version": 3
   },
   "file_extension": ".py",
   "mimetype": "text/x-python",
   "name": "python",
   "nbconvert_exporter": "python",
   "pygments_lexer": "ipython3",
   "version": "3.8.6"
  }
 },
 "nbformat": 4,
 "nbformat_minor": 4
}
