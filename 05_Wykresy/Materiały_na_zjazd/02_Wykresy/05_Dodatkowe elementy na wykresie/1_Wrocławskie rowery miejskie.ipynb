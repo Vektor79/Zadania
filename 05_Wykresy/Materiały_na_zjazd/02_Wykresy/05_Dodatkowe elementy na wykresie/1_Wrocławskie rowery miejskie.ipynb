{
 "cells": [
  {
   "cell_type": "markdown",
   "metadata": {},
   "source": [
    "W pliku **Historia_przejazdow.csv** znajdziesz dane na temat wypożyczeń Wrocławskich Rowerów Miejskich - aktualne dane możesz znaleźć [tutaj](https://www.wroclaw.pl/open-data/dataset/wrmprzejazdy_data). Jeżeli masz problemy z polskimi literami, to plik jest kodowany za pomocą kodowania 'Windows-1250'.\n",
    "\n",
    "Przeczytaj dane z pliku, a następnie wybierz tylko te, w których stacje wynajmu i zwrotu są takie same, a wypożyczenia krótsze niż 100 minut. Pokaż na wykresie ile było wypożyczeń o danym czasie trwania (pierwszy słupek: wypożyczenia o czasie trwania jednej minuty, drugi - dwóch minut, itd.).\n",
    "\n",
    "Wypożyczenia które zaczynają się i kończą na tej samej stacji oraz trwają nie dłużej niż 3 minuty to prawdopodobnie wypożyczenia uszkodzonych rowerów, które użytkownik oddaje zaraz po tym jak zda sobie sprawę z awarii. Narysuj czerwoną linię, która oddzieli wypożyczenia krótsze i dłuższe od 3 minut. \n",
    "\n",
    "Dodaj też do niej adnotację tłumaczącą czym jest ta linia."
   ]
  },
  {
   "cell_type": "code",
   "metadata": {
    "ExecuteTime": {
     "end_time": "2024-11-20T20:21:21.147042Z",
     "start_time": "2024-11-20T20:21:21.141834Z"
    }
   },
   "source": [
    "import os\n",
    "import matplotlib as mpl\n",
    "import matplotlib.pyplot as plt\n",
    "import pandas as pd"
   ],
   "outputs": [],
   "execution_count": 26
  },
  {
   "metadata": {
    "ExecuteTime": {
     "end_time": "2024-11-20T20:22:38.481229Z",
     "start_time": "2024-11-20T20:22:38.463012Z"
    }
   },
   "cell_type": "code",
   "source": "df = pd.read_csv(os.path.join(\"..\", \"01_Dane do wykresów\", \"Historia_przejazdow.csv\"), encoding=\"Windows-1250\")",
   "outputs": [],
   "execution_count": 40
  },
  {
   "metadata": {
    "ExecuteTime": {
     "end_time": "2024-11-20T20:22:39.426168Z",
     "start_time": "2024-11-20T20:22:39.415507Z"
    }
   },
   "cell_type": "code",
   "source": "df.head()",
   "outputs": [
    {
     "data": {
      "text/plain": [
       "   UID wynajmu  Numer roweru         Data wynajmu          Data zwrotu  \\\n",
       "0    112512738         57243  2021-03-03 23:41:47  2021-03-04 00:00:34   \n",
       "1    112512783         57434  2021-03-03 23:46:14  2021-03-04 00:00:41   \n",
       "2    112512778        650040  2021-03-03 23:45:30  2021-03-04 00:02:33   \n",
       "3    112512869         57441  2021-03-03 23:53:59  2021-03-04 00:05:08   \n",
       "4    112512830        651044  2021-03-03 23:50:10  2021-03-04 00:07:12   \n",
       "\n",
       "                       Stacja wynajmu                    Stacja zwrotu  \\\n",
       "0           Plac Grunwaldzki / Polaka                      Poza stacją   \n",
       "1           Bezpieczna/Jugosławiańska                 Kurkowa / Dubois   \n",
       "2      al. Kochanowskiego / Kopernika                    Rondo Reagana   \n",
       "3  Plac Świętego Macieja / Trzebnicka        Nowowiejska / Górnickiego   \n",
       "4            Powstańców Śląskich/Orla  Szewska / Kazimierza Wielkiego    \n",
       "\n",
       "   Czas trwania  \n",
       "0            19  \n",
       "1            15  \n",
       "2            18  \n",
       "3            12  \n",
       "4            18  "
      ],
      "text/html": [
       "<div>\n",
       "<style scoped>\n",
       "    .dataframe tbody tr th:only-of-type {\n",
       "        vertical-align: middle;\n",
       "    }\n",
       "\n",
       "    .dataframe tbody tr th {\n",
       "        vertical-align: top;\n",
       "    }\n",
       "\n",
       "    .dataframe thead th {\n",
       "        text-align: right;\n",
       "    }\n",
       "</style>\n",
       "<table border=\"1\" class=\"dataframe\">\n",
       "  <thead>\n",
       "    <tr style=\"text-align: right;\">\n",
       "      <th></th>\n",
       "      <th>UID wynajmu</th>\n",
       "      <th>Numer roweru</th>\n",
       "      <th>Data wynajmu</th>\n",
       "      <th>Data zwrotu</th>\n",
       "      <th>Stacja wynajmu</th>\n",
       "      <th>Stacja zwrotu</th>\n",
       "      <th>Czas trwania</th>\n",
       "    </tr>\n",
       "  </thead>\n",
       "  <tbody>\n",
       "    <tr>\n",
       "      <th>0</th>\n",
       "      <td>112512738</td>\n",
       "      <td>57243</td>\n",
       "      <td>2021-03-03 23:41:47</td>\n",
       "      <td>2021-03-04 00:00:34</td>\n",
       "      <td>Plac Grunwaldzki / Polaka</td>\n",
       "      <td>Poza stacją</td>\n",
       "      <td>19</td>\n",
       "    </tr>\n",
       "    <tr>\n",
       "      <th>1</th>\n",
       "      <td>112512783</td>\n",
       "      <td>57434</td>\n",
       "      <td>2021-03-03 23:46:14</td>\n",
       "      <td>2021-03-04 00:00:41</td>\n",
       "      <td>Bezpieczna/Jugosławiańska</td>\n",
       "      <td>Kurkowa / Dubois</td>\n",
       "      <td>15</td>\n",
       "    </tr>\n",
       "    <tr>\n",
       "      <th>2</th>\n",
       "      <td>112512778</td>\n",
       "      <td>650040</td>\n",
       "      <td>2021-03-03 23:45:30</td>\n",
       "      <td>2021-03-04 00:02:33</td>\n",
       "      <td>al. Kochanowskiego / Kopernika</td>\n",
       "      <td>Rondo Reagana</td>\n",
       "      <td>18</td>\n",
       "    </tr>\n",
       "    <tr>\n",
       "      <th>3</th>\n",
       "      <td>112512869</td>\n",
       "      <td>57441</td>\n",
       "      <td>2021-03-03 23:53:59</td>\n",
       "      <td>2021-03-04 00:05:08</td>\n",
       "      <td>Plac Świętego Macieja / Trzebnicka</td>\n",
       "      <td>Nowowiejska / Górnickiego</td>\n",
       "      <td>12</td>\n",
       "    </tr>\n",
       "    <tr>\n",
       "      <th>4</th>\n",
       "      <td>112512830</td>\n",
       "      <td>651044</td>\n",
       "      <td>2021-03-03 23:50:10</td>\n",
       "      <td>2021-03-04 00:07:12</td>\n",
       "      <td>Powstańców Śląskich/Orla</td>\n",
       "      <td>Szewska / Kazimierza Wielkiego</td>\n",
       "      <td>18</td>\n",
       "    </tr>\n",
       "  </tbody>\n",
       "</table>\n",
       "</div>"
      ]
     },
     "execution_count": 41,
     "metadata": {},
     "output_type": "execute_result"
    }
   ],
   "execution_count": 41
  },
  {
   "metadata": {
    "ExecuteTime": {
     "end_time": "2024-11-20T20:22:40.444013Z",
     "start_time": "2024-11-20T20:22:40.434697Z"
    }
   },
   "cell_type": "code",
   "source": "df.sample(10)",
   "outputs": [
    {
     "data": {
      "text/plain": [
       "      UID wynajmu  Numer roweru         Data wynajmu          Data zwrotu  \\\n",
       "2028    112535881        651128  2021-03-04 16:37:08  2021-03-04 16:45:55   \n",
       "2388    112539889        650178  2021-03-04 17:52:29  2021-03-04 18:08:02   \n",
       "1168    112528504         57980  2021-03-04 14:05:55  2021-03-04 14:07:56   \n",
       "765     112522976        650105  2021-03-04 11:30:44  2021-03-04 11:38:08   \n",
       "2868    112547044        650466  2021-03-04 21:09:02  2021-03-04 21:14:56   \n",
       "3015    112548535        650429  2021-03-04 23:03:52  2021-03-04 23:06:18   \n",
       "1038    112527237        651364  2021-03-04 13:36:07  2021-03-04 13:37:42   \n",
       "771     112522669        650090  2021-03-04 11:20:13  2021-03-04 11:39:32   \n",
       "34      112513315        650857  2021-03-04 01:03:44  2021-03-04 01:09:49   \n",
       "2581    112541504         57065  2021-03-04 18:24:10  2021-03-04 19:04:17   \n",
       "\n",
       "                          Stacja wynajmu  \\\n",
       "2028               Grochowa / Jemiołowa,   \n",
       "2388               Śrubowa / Strzegomska   \n",
       "1168  Borowska (Uniw. Szpital Kliniczny)   \n",
       "765                        Rondo Reagana   \n",
       "2868            Dworzec Główny, południe   \n",
       "3015                Piaskowa / św. Ducha   \n",
       "1038             Graniczna / Strzegomska   \n",
       "771                      Koszarowa / UWr   \n",
       "34                  Drobnera / Plac Bema   \n",
       "2581                Drobnera / Plac Bema   \n",
       "\n",
       "                                 Stacja zwrotu  Czas trwania  \n",
       "2028                    Szczęśliwa (Sky Tower)             9  \n",
       "2388  Świdnicka / Piłsudskiego (Hotel Scandic)            16  \n",
       "1168        Borowska (Uniw. Szpital Kliniczny)             3  \n",
       "765                                Poza stacją             8  \n",
       "2868                        Hubska / Prudnicka             6  \n",
       "3015                      Drobnera / Plac Bema             3  \n",
       "1038                   Graniczna / Strzegomska             2  \n",
       "771                              Rondo Reagana            20  \n",
       "34                      Jagiełły / Dmowskiego              7  \n",
       "2581                      Drobnera / Plac Bema            41  "
      ],
      "text/html": [
       "<div>\n",
       "<style scoped>\n",
       "    .dataframe tbody tr th:only-of-type {\n",
       "        vertical-align: middle;\n",
       "    }\n",
       "\n",
       "    .dataframe tbody tr th {\n",
       "        vertical-align: top;\n",
       "    }\n",
       "\n",
       "    .dataframe thead th {\n",
       "        text-align: right;\n",
       "    }\n",
       "</style>\n",
       "<table border=\"1\" class=\"dataframe\">\n",
       "  <thead>\n",
       "    <tr style=\"text-align: right;\">\n",
       "      <th></th>\n",
       "      <th>UID wynajmu</th>\n",
       "      <th>Numer roweru</th>\n",
       "      <th>Data wynajmu</th>\n",
       "      <th>Data zwrotu</th>\n",
       "      <th>Stacja wynajmu</th>\n",
       "      <th>Stacja zwrotu</th>\n",
       "      <th>Czas trwania</th>\n",
       "    </tr>\n",
       "  </thead>\n",
       "  <tbody>\n",
       "    <tr>\n",
       "      <th>2028</th>\n",
       "      <td>112535881</td>\n",
       "      <td>651128</td>\n",
       "      <td>2021-03-04 16:37:08</td>\n",
       "      <td>2021-03-04 16:45:55</td>\n",
       "      <td>Grochowa / Jemiołowa,</td>\n",
       "      <td>Szczęśliwa (Sky Tower)</td>\n",
       "      <td>9</td>\n",
       "    </tr>\n",
       "    <tr>\n",
       "      <th>2388</th>\n",
       "      <td>112539889</td>\n",
       "      <td>650178</td>\n",
       "      <td>2021-03-04 17:52:29</td>\n",
       "      <td>2021-03-04 18:08:02</td>\n",
       "      <td>Śrubowa / Strzegomska</td>\n",
       "      <td>Świdnicka / Piłsudskiego (Hotel Scandic)</td>\n",
       "      <td>16</td>\n",
       "    </tr>\n",
       "    <tr>\n",
       "      <th>1168</th>\n",
       "      <td>112528504</td>\n",
       "      <td>57980</td>\n",
       "      <td>2021-03-04 14:05:55</td>\n",
       "      <td>2021-03-04 14:07:56</td>\n",
       "      <td>Borowska (Uniw. Szpital Kliniczny)</td>\n",
       "      <td>Borowska (Uniw. Szpital Kliniczny)</td>\n",
       "      <td>3</td>\n",
       "    </tr>\n",
       "    <tr>\n",
       "      <th>765</th>\n",
       "      <td>112522976</td>\n",
       "      <td>650105</td>\n",
       "      <td>2021-03-04 11:30:44</td>\n",
       "      <td>2021-03-04 11:38:08</td>\n",
       "      <td>Rondo Reagana</td>\n",
       "      <td>Poza stacją</td>\n",
       "      <td>8</td>\n",
       "    </tr>\n",
       "    <tr>\n",
       "      <th>2868</th>\n",
       "      <td>112547044</td>\n",
       "      <td>650466</td>\n",
       "      <td>2021-03-04 21:09:02</td>\n",
       "      <td>2021-03-04 21:14:56</td>\n",
       "      <td>Dworzec Główny, południe</td>\n",
       "      <td>Hubska / Prudnicka</td>\n",
       "      <td>6</td>\n",
       "    </tr>\n",
       "    <tr>\n",
       "      <th>3015</th>\n",
       "      <td>112548535</td>\n",
       "      <td>650429</td>\n",
       "      <td>2021-03-04 23:03:52</td>\n",
       "      <td>2021-03-04 23:06:18</td>\n",
       "      <td>Piaskowa / św. Ducha</td>\n",
       "      <td>Drobnera / Plac Bema</td>\n",
       "      <td>3</td>\n",
       "    </tr>\n",
       "    <tr>\n",
       "      <th>1038</th>\n",
       "      <td>112527237</td>\n",
       "      <td>651364</td>\n",
       "      <td>2021-03-04 13:36:07</td>\n",
       "      <td>2021-03-04 13:37:42</td>\n",
       "      <td>Graniczna / Strzegomska</td>\n",
       "      <td>Graniczna / Strzegomska</td>\n",
       "      <td>2</td>\n",
       "    </tr>\n",
       "    <tr>\n",
       "      <th>771</th>\n",
       "      <td>112522669</td>\n",
       "      <td>650090</td>\n",
       "      <td>2021-03-04 11:20:13</td>\n",
       "      <td>2021-03-04 11:39:32</td>\n",
       "      <td>Koszarowa / UWr</td>\n",
       "      <td>Rondo Reagana</td>\n",
       "      <td>20</td>\n",
       "    </tr>\n",
       "    <tr>\n",
       "      <th>34</th>\n",
       "      <td>112513315</td>\n",
       "      <td>650857</td>\n",
       "      <td>2021-03-04 01:03:44</td>\n",
       "      <td>2021-03-04 01:09:49</td>\n",
       "      <td>Drobnera / Plac Bema</td>\n",
       "      <td>Jagiełły / Dmowskiego</td>\n",
       "      <td>7</td>\n",
       "    </tr>\n",
       "    <tr>\n",
       "      <th>2581</th>\n",
       "      <td>112541504</td>\n",
       "      <td>57065</td>\n",
       "      <td>2021-03-04 18:24:10</td>\n",
       "      <td>2021-03-04 19:04:17</td>\n",
       "      <td>Drobnera / Plac Bema</td>\n",
       "      <td>Drobnera / Plac Bema</td>\n",
       "      <td>41</td>\n",
       "    </tr>\n",
       "  </tbody>\n",
       "</table>\n",
       "</div>"
      ]
     },
     "execution_count": 42,
     "metadata": {},
     "output_type": "execute_result"
    }
   ],
   "execution_count": 42
  },
  {
   "metadata": {
    "ExecuteTime": {
     "end_time": "2024-11-20T20:22:41.190505Z",
     "start_time": "2024-11-20T20:22:41.181961Z"
    }
   },
   "cell_type": "code",
   "source": "df.info()",
   "outputs": [
    {
     "name": "stdout",
     "output_type": "stream",
     "text": [
      "<class 'pandas.core.frame.DataFrame'>\n",
      "RangeIndex: 3067 entries, 0 to 3066\n",
      "Data columns (total 7 columns):\n",
      " #   Column          Non-Null Count  Dtype \n",
      "---  ------          --------------  ----- \n",
      " 0   UID wynajmu     3067 non-null   int64 \n",
      " 1   Numer roweru    3067 non-null   int64 \n",
      " 2   Data wynajmu    3067 non-null   object\n",
      " 3   Data zwrotu     3067 non-null   object\n",
      " 4   Stacja wynajmu  3067 non-null   object\n",
      " 5   Stacja zwrotu   3067 non-null   object\n",
      " 6   Czas trwania    3067 non-null   int64 \n",
      "dtypes: int64(3), object(4)\n",
      "memory usage: 167.9+ KB\n"
     ]
    }
   ],
   "execution_count": 43
  },
  {
   "metadata": {},
   "cell_type": "markdown",
   "source": "#### powyżej widać, że w danych jest coś nie tak - daty są object a powinny mieć format daty; da się to zrobić przy wczytywaniu danych, jedna w tym przykłądzie zrobię to poniżej 'ręcznie' ;)\n"
  },
  {
   "metadata": {
    "ExecuteTime": {
     "end_time": "2024-11-20T20:22:43.605643Z",
     "start_time": "2024-11-20T20:22:43.587770Z"
    }
   },
   "cell_type": "code",
   "source": [
    "# zmiana formatu danych object na datowy:\n",
    "df[\"Data wynajmu\"] = pd.to_datetime(df[\"Data wynajmu\"])"
   ],
   "outputs": [],
   "execution_count": 44
  },
  {
   "metadata": {
    "ExecuteTime": {
     "end_time": "2024-11-20T20:22:44.306391Z",
     "start_time": "2024-11-20T20:22:44.296679Z"
    }
   },
   "cell_type": "code",
   "source": "df[\"Data zwrotu\"] = pd.to_datetime(df[\"Data zwrotu\"])",
   "outputs": [],
   "execution_count": 45
  },
  {
   "metadata": {
    "ExecuteTime": {
     "end_time": "2024-11-20T20:22:45.116016Z",
     "start_time": "2024-11-20T20:22:45.107696Z"
    }
   },
   "cell_type": "code",
   "source": "df.info()",
   "outputs": [
    {
     "name": "stdout",
     "output_type": "stream",
     "text": [
      "<class 'pandas.core.frame.DataFrame'>\n",
      "RangeIndex: 3067 entries, 0 to 3066\n",
      "Data columns (total 7 columns):\n",
      " #   Column          Non-Null Count  Dtype         \n",
      "---  ------          --------------  -----         \n",
      " 0   UID wynajmu     3067 non-null   int64         \n",
      " 1   Numer roweru    3067 non-null   int64         \n",
      " 2   Data wynajmu    3067 non-null   datetime64[ns]\n",
      " 3   Data zwrotu     3067 non-null   datetime64[ns]\n",
      " 4   Stacja wynajmu  3067 non-null   object        \n",
      " 5   Stacja zwrotu   3067 non-null   object        \n",
      " 6   Czas trwania    3067 non-null   int64         \n",
      "dtypes: datetime64[ns](2), int64(3), object(2)\n",
      "memory usage: 167.9+ KB\n"
     ]
    }
   ],
   "execution_count": 46
  },
  {
   "metadata": {
    "ExecuteTime": {
     "end_time": "2024-11-20T20:22:45.921751Z",
     "start_time": "2024-11-20T20:22:45.914062Z"
    }
   },
   "cell_type": "code",
   "source": "df.head",
   "outputs": [
    {
     "data": {
      "text/plain": [
       "<bound method NDFrame.head of       UID wynajmu  Numer roweru        Data wynajmu         Data zwrotu  \\\n",
       "0       112512738         57243 2021-03-03 23:41:47 2021-03-04 00:00:34   \n",
       "1       112512783         57434 2021-03-03 23:46:14 2021-03-04 00:00:41   \n",
       "2       112512778        650040 2021-03-03 23:45:30 2021-03-04 00:02:33   \n",
       "3       112512869         57441 2021-03-03 23:53:59 2021-03-04 00:05:08   \n",
       "4       112512830        651044 2021-03-03 23:50:10 2021-03-04 00:07:12   \n",
       "...           ...           ...                 ...                 ...   \n",
       "3062    112548936         57511 2021-03-04 23:47:37 2021-03-04 23:52:25   \n",
       "3063    112548810         57137 2021-03-04 23:33:15 2021-03-04 23:52:42   \n",
       "3064    112548934        651243 2021-03-04 23:47:25 2021-03-04 23:56:43   \n",
       "3065    112548972        650956 2021-03-04 23:51:43 2021-03-04 23:58:58   \n",
       "3066    112548907         57625 2021-03-04 23:44:16 2021-03-04 23:59:50   \n",
       "\n",
       "                                Stacja wynajmu  \\\n",
       "0                    Plac Grunwaldzki / Polaka   \n",
       "1                    Bezpieczna/Jugosławiańska   \n",
       "2               al. Kochanowskiego / Kopernika   \n",
       "3           Plac Świętego Macieja / Trzebnicka   \n",
       "4                     Powstańców Śląskich/Orla   \n",
       "...                                        ...   \n",
       "3062                     Legnicka / Zachodnia    \n",
       "3063            Grota-Roweckiego/Iwaszkiewicza   \n",
       "3064  Plac Dominikański (Galeria Dominikańska)   \n",
       "3065       Powstańcow Śląskich / Aleja Hallera   \n",
       "3066                              .RELOKACYJNA   \n",
       "\n",
       "                        Stacja zwrotu  Czas trwania  \n",
       "0                         Poza stacją            19  \n",
       "1                    Kurkowa / Dubois            15  \n",
       "2                       Rondo Reagana            18  \n",
       "3           Nowowiejska / Górnickiego            12  \n",
       "4     Szewska / Kazimierza Wielkiego             18  \n",
       "...                               ...           ...  \n",
       "3062                      Poza stacją             5  \n",
       "3063    Wałbrzyska - pętla tramwajowa            20  \n",
       "3064       Nowowiejska / Wyszyńskiego            10  \n",
       "3065            Zaporoska / Gajowicka             8  \n",
       "3066             Janiszewskiego (PWr)            16  \n",
       "\n",
       "[3067 rows x 7 columns]>"
      ]
     },
     "execution_count": 47,
     "metadata": {},
     "output_type": "execute_result"
    }
   ],
   "execution_count": 47
  },
  {
   "metadata": {
    "ExecuteTime": {
     "end_time": "2024-11-20T20:22:47.035179Z",
     "start_time": "2024-11-20T20:22:47.023467Z"
    }
   },
   "cell_type": "code",
   "source": "df.head()",
   "outputs": [
    {
     "data": {
      "text/plain": [
       "   UID wynajmu  Numer roweru        Data wynajmu         Data zwrotu  \\\n",
       "0    112512738         57243 2021-03-03 23:41:47 2021-03-04 00:00:34   \n",
       "1    112512783         57434 2021-03-03 23:46:14 2021-03-04 00:00:41   \n",
       "2    112512778        650040 2021-03-03 23:45:30 2021-03-04 00:02:33   \n",
       "3    112512869         57441 2021-03-03 23:53:59 2021-03-04 00:05:08   \n",
       "4    112512830        651044 2021-03-03 23:50:10 2021-03-04 00:07:12   \n",
       "\n",
       "                       Stacja wynajmu                    Stacja zwrotu  \\\n",
       "0           Plac Grunwaldzki / Polaka                      Poza stacją   \n",
       "1           Bezpieczna/Jugosławiańska                 Kurkowa / Dubois   \n",
       "2      al. Kochanowskiego / Kopernika                    Rondo Reagana   \n",
       "3  Plac Świętego Macieja / Trzebnicka        Nowowiejska / Górnickiego   \n",
       "4            Powstańców Śląskich/Orla  Szewska / Kazimierza Wielkiego    \n",
       "\n",
       "   Czas trwania  \n",
       "0            19  \n",
       "1            15  \n",
       "2            18  \n",
       "3            12  \n",
       "4            18  "
      ],
      "text/html": [
       "<div>\n",
       "<style scoped>\n",
       "    .dataframe tbody tr th:only-of-type {\n",
       "        vertical-align: middle;\n",
       "    }\n",
       "\n",
       "    .dataframe tbody tr th {\n",
       "        vertical-align: top;\n",
       "    }\n",
       "\n",
       "    .dataframe thead th {\n",
       "        text-align: right;\n",
       "    }\n",
       "</style>\n",
       "<table border=\"1\" class=\"dataframe\">\n",
       "  <thead>\n",
       "    <tr style=\"text-align: right;\">\n",
       "      <th></th>\n",
       "      <th>UID wynajmu</th>\n",
       "      <th>Numer roweru</th>\n",
       "      <th>Data wynajmu</th>\n",
       "      <th>Data zwrotu</th>\n",
       "      <th>Stacja wynajmu</th>\n",
       "      <th>Stacja zwrotu</th>\n",
       "      <th>Czas trwania</th>\n",
       "    </tr>\n",
       "  </thead>\n",
       "  <tbody>\n",
       "    <tr>\n",
       "      <th>0</th>\n",
       "      <td>112512738</td>\n",
       "      <td>57243</td>\n",
       "      <td>2021-03-03 23:41:47</td>\n",
       "      <td>2021-03-04 00:00:34</td>\n",
       "      <td>Plac Grunwaldzki / Polaka</td>\n",
       "      <td>Poza stacją</td>\n",
       "      <td>19</td>\n",
       "    </tr>\n",
       "    <tr>\n",
       "      <th>1</th>\n",
       "      <td>112512783</td>\n",
       "      <td>57434</td>\n",
       "      <td>2021-03-03 23:46:14</td>\n",
       "      <td>2021-03-04 00:00:41</td>\n",
       "      <td>Bezpieczna/Jugosławiańska</td>\n",
       "      <td>Kurkowa / Dubois</td>\n",
       "      <td>15</td>\n",
       "    </tr>\n",
       "    <tr>\n",
       "      <th>2</th>\n",
       "      <td>112512778</td>\n",
       "      <td>650040</td>\n",
       "      <td>2021-03-03 23:45:30</td>\n",
       "      <td>2021-03-04 00:02:33</td>\n",
       "      <td>al. Kochanowskiego / Kopernika</td>\n",
       "      <td>Rondo Reagana</td>\n",
       "      <td>18</td>\n",
       "    </tr>\n",
       "    <tr>\n",
       "      <th>3</th>\n",
       "      <td>112512869</td>\n",
       "      <td>57441</td>\n",
       "      <td>2021-03-03 23:53:59</td>\n",
       "      <td>2021-03-04 00:05:08</td>\n",
       "      <td>Plac Świętego Macieja / Trzebnicka</td>\n",
       "      <td>Nowowiejska / Górnickiego</td>\n",
       "      <td>12</td>\n",
       "    </tr>\n",
       "    <tr>\n",
       "      <th>4</th>\n",
       "      <td>112512830</td>\n",
       "      <td>651044</td>\n",
       "      <td>2021-03-03 23:50:10</td>\n",
       "      <td>2021-03-04 00:07:12</td>\n",
       "      <td>Powstańców Śląskich/Orla</td>\n",
       "      <td>Szewska / Kazimierza Wielkiego</td>\n",
       "      <td>18</td>\n",
       "    </tr>\n",
       "  </tbody>\n",
       "</table>\n",
       "</div>"
      ]
     },
     "execution_count": 48,
     "metadata": {},
     "output_type": "execute_result"
    }
   ],
   "execution_count": 48
  },
  {
   "metadata": {
    "ExecuteTime": {
     "end_time": "2024-11-20T20:22:48.994869Z",
     "start_time": "2024-11-20T20:22:48.988963Z"
    }
   },
   "cell_type": "code",
   "source": "df.columns",
   "outputs": [
    {
     "data": {
      "text/plain": [
       "Index(['UID wynajmu', 'Numer roweru', 'Data wynajmu', 'Data zwrotu',\n",
       "       'Stacja wynajmu', 'Stacja zwrotu', 'Czas trwania'],\n",
       "      dtype='object')"
      ]
     },
     "execution_count": 49,
     "metadata": {},
     "output_type": "execute_result"
    }
   ],
   "execution_count": 49
  },
  {
   "metadata": {
    "ExecuteTime": {
     "end_time": "2024-11-20T20:23:24.087743Z",
     "start_time": "2024-11-20T20:23:24.082563Z"
    }
   },
   "cell_type": "code",
   "source": "df_custom = df.loc[df[\"Stacja wynajmu\"] == df[\"Stacja zwrotu\"]]",
   "outputs": [],
   "execution_count": 53
  },
  {
   "metadata": {
    "ExecuteTime": {
     "end_time": "2024-11-20T20:23:24.983360Z",
     "start_time": "2024-11-20T20:23:24.974614Z"
    }
   },
   "cell_type": "code",
   "source": "df_custom.shape",
   "outputs": [
    {
     "data": {
      "text/plain": [
       "(436, 7)"
      ]
     },
     "execution_count": 54,
     "metadata": {},
     "output_type": "execute_result"
    }
   ],
   "execution_count": 54
  },
  {
   "metadata": {
    "ExecuteTime": {
     "end_time": "2024-11-20T20:37:11.578958Z",
     "start_time": "2024-11-20T20:37:11.568123Z"
    }
   },
   "cell_type": "code",
   "source": [
    "# iloc pobiera dane po indeksie:\n",
    "#[0] to jest pierwszy wiersz\n",
    "df_custom.iloc[0]"
   ],
   "outputs": [
    {
     "data": {
      "text/plain": [
       "UID wynajmu                        112512995\n",
       "Numer roweru                           57280\n",
       "Data wynajmu             2021-03-04 00:08:56\n",
       "Data zwrotu              2021-03-04 00:10:20\n",
       "Stacja wynajmu    Nowowiejska / Wyszyńskiego\n",
       "Stacja zwrotu     Nowowiejska / Wyszyńskiego\n",
       "Czas trwania                               2\n",
       "Name: 7, dtype: object"
      ]
     },
     "execution_count": 59,
     "metadata": {},
     "output_type": "execute_result"
    }
   ],
   "execution_count": 59
  },
  {
   "metadata": {
    "ExecuteTime": {
     "end_time": "2024-11-20T20:39:03.638447Z",
     "start_time": "2024-11-20T20:39:03.625346Z"
    }
   },
   "cell_type": "code",
   "source": [
    "# weryfikuję tylko na jednym rekordzie co dostanę jako wynik:\n",
    "df_custom.iloc[0][\"Data zwrotu\"] - df_custom.iloc[0][\"Data wynajmu\"]"
   ],
   "outputs": [
    {
     "data": {
      "text/plain": [
       "Timedelta('0 days 00:01:24')"
      ]
     },
     "execution_count": 61,
     "metadata": {},
     "output_type": "execute_result"
    }
   ],
   "execution_count": 61
  },
  {
   "metadata": {
    "ExecuteTime": {
     "end_time": "2024-11-20T21:10:10.743259Z",
     "start_time": "2024-11-20T21:10:10.733995Z"
    }
   },
   "cell_type": "code",
   "source": [
    "# teraz chcę wyłuskać z timedelta tylko minuty, bez dni:\n",
    "(df_custom.iloc[0][\"Data zwrotu\"] - df_custom.iloc[0][\"Data wynajmu\"]).seconds // 60\n",
    "\n",
    "# dzielenie normalne to jeden slash / (dzielenie do float'a), natomiast podwójny slash // to dzielenie do int'a (bez reszty) - bo w zadaniu słupki mają być pełnominutowe :)"
   ],
   "outputs": [
    {
     "data": {
      "text/plain": [
       "1"
      ]
     },
     "execution_count": 64,
     "metadata": {},
     "output_type": "execute_result"
    }
   ],
   "execution_count": 64
  },
  {
   "metadata": {
    "ExecuteTime": {
     "end_time": "2024-11-20T21:31:52.831427Z",
     "start_time": "2024-11-20T21:31:52.819568Z"
    }
   },
   "cell_type": "code",
   "source": [
    "# 100 minut - używam dt.seconds\n",
    "df_custom = df_custom.loc[(df_custom[\"Data zwrotu\"] - df_custom[\"Data wynajmu\"]).dt.seconds // 60 < 100]"
   ],
   "outputs": [],
   "execution_count": 67
  },
  {
   "metadata": {
    "ExecuteTime": {
     "end_time": "2024-11-20T21:32:42.184865Z",
     "start_time": "2024-11-20T21:32:42.179733Z"
    }
   },
   "cell_type": "code",
   "source": "df_custom.shape",
   "outputs": [
    {
     "data": {
      "text/plain": [
       "(427, 7)"
      ]
     },
     "execution_count": 69,
     "metadata": {},
     "output_type": "execute_result"
    }
   ],
   "execution_count": 69
  },
  {
   "metadata": {
    "ExecuteTime": {
     "end_time": "2024-11-20T21:34:35.173785Z",
     "start_time": "2024-11-20T21:34:35.162627Z"
    }
   },
   "cell_type": "code",
   "source": [
    "# spr. czy w df_custom są wpisy dla powyżej 100 min (bo nie powinno ich tam być :) )\n",
    "df_custom[df_custom[\"Czas trwania\"] > 100]"
   ],
   "outputs": [
    {
     "data": {
      "text/plain": [
       "Empty DataFrame\n",
       "Columns: [UID wynajmu, Numer roweru, Data wynajmu, Data zwrotu, Stacja wynajmu, Stacja zwrotu, Czas trwania]\n",
       "Index: []"
      ],
      "text/html": [
       "<div>\n",
       "<style scoped>\n",
       "    .dataframe tbody tr th:only-of-type {\n",
       "        vertical-align: middle;\n",
       "    }\n",
       "\n",
       "    .dataframe tbody tr th {\n",
       "        vertical-align: top;\n",
       "    }\n",
       "\n",
       "    .dataframe thead th {\n",
       "        text-align: right;\n",
       "    }\n",
       "</style>\n",
       "<table border=\"1\" class=\"dataframe\">\n",
       "  <thead>\n",
       "    <tr style=\"text-align: right;\">\n",
       "      <th></th>\n",
       "      <th>UID wynajmu</th>\n",
       "      <th>Numer roweru</th>\n",
       "      <th>Data wynajmu</th>\n",
       "      <th>Data zwrotu</th>\n",
       "      <th>Stacja wynajmu</th>\n",
       "      <th>Stacja zwrotu</th>\n",
       "      <th>Czas trwania</th>\n",
       "    </tr>\n",
       "  </thead>\n",
       "  <tbody>\n",
       "  </tbody>\n",
       "</table>\n",
       "</div>"
      ]
     },
     "execution_count": 70,
     "metadata": {},
     "output_type": "execute_result"
    }
   ],
   "execution_count": 70
  },
  {
   "metadata": {
    "ExecuteTime": {
     "end_time": "2024-11-20T21:59:05.166282Z",
     "start_time": "2024-11-20T21:59:04.959612Z"
    }
   },
   "cell_type": "code",
   "source": [
    "# bins - koszyczki, 100 bo jeden słupek ma być jedną minutą\n",
    "fig, ax = plt.subplots(figsize=(12, 8))\n",
    "\n",
    "ax.hist(df_custom[\"Czas trwania\"], bins=100, edgecolor=\"black\")\n",
    "\n",
    "# pionowa czyli wertical, x to 3 - bo od 3 minut, linewidth to szerokość tej linii\n",
    "ax.axvline(3, color=\"red\", linestyle=\"--\", linewidth=1)\n",
    "\n",
    "\n",
    "\n",
    "\n",
    "\n",
    "plt.tight_layout()\n",
    "plt.show()"
   ],
   "outputs": [
    {
     "data": {
      "text/plain": [
       "<Figure size 1200x800 with 1 Axes>"
      ],
      "image/png": "[encoded data removed]"
     },
     "metadata": {},
     "output_type": "display_data"
    }
   ],
   "execution_count": 78
  },
  {
   "metadata": {},
   "cell_type": "code",
   "outputs": [],
   "execution_count": null,
   "source": ""
  }
 ],
 "metadata": {
  "kernelspec": {
   "display_name": "Python 3",
   "language": "python",
   "name": "python3"
  },
  "language_info": {
   "codemirror_mode": {
    "name": "ipython",
    "version": 3
   },
   "file_extension": ".py",
   "mimetype": "text/x-python",
   "name": "python",
   "nbconvert_exporter": "python",
   "pygments_lexer": "ipython3",
   "version": "3.8.6"
  }
 },
 "nbformat": 4,
 "nbformat_minor": 4
}
