{
 "cells": [
  {
   "cell_type": "markdown",
   "metadata": {},
   "source": [
    "W pliku **wbo_lista_glosow_2019.csv** znajdziesz dane o głosach oddanych w ramach Wrocławskiego Budżetu Obywatelskiego, pobrane ze strony [Wrocław Otwarte Dane](https://www.wroclaw.pl/open-data/dataset/wroclawski-budzet-obywatelski-glosowanie).\n",
    "\n",
    "Odczytaj te dane i przefiltruj je w taki sposób żeby otrzymać następujące serie:\n",
    "1. Zawierającą kobiety w wieku poniżej 100 lat,\n",
    "2. Zawierającą mężczyzn w wieku poniżej 100 lat,\n",
    "\n",
    "Następinie narysuj wykres skumulowany pokazujący ile osób w danym wieku głosowało w budrzecie (z podziałem na płeć).\n",
    "\n",
    ">Podpowiedź: Żeby poprawnie wygenerować wykres trzeba zagwarantować że obie serie są tej samej długości. W tym celu użyj metody `reindex` z opcją `fill_value`:\n",
    "> `s_reindexed = s.reindex(range(0, 100), fill_value=0)`\n",
    "\n",
    "\n",
    "Po stworzeniu wykresu wygeneruj tabelkę którą wyświetli te dane pod wykresem. Tabelka z zawartością komórek, oraz tableka z opisem rzędów, powinny zostać wygenerowane za pomocą pętli:\n",
    "```\n",
    "cells = []\n",
    "cellLabels = []\n",
    "for i in range(0,100):\n",
    "    cells.append([f'Liczba kobiet głosujących w wieku f{i}', f'Liczba kobiet głosujących w wieku f{i}'])\n",
    "    cellLabels.append(f'{i} lat')\n",
    "```\n",
    "Oczywiście zamiast napisów powinny być odpowiednie wartości.\n",
    "\n",
    "Popatrz na opcje w [dokumentacji](https://matplotlib.org/stable/api/table_api.html#matplotlib.table.Table.codes) - jakich parametrów można użyć żeby tabelka była czytelniejsza?"
   ]
  },
  {
   "cell_type": "code",
   "execution_count": null,
   "metadata": {},
   "outputs": [],
   "source": []
  }
 ],
 "metadata": {
  "kernelspec": {
   "display_name": "Python 3",
   "language": "python",
   "name": "python3"
  },
  "language_info": {
   "codemirror_mode": {
    "name": "ipython",
    "version": 3
   },
   "file_extension": ".py",
   "mimetype": "text/x-python",
   "name": "python",
   "nbconvert_exporter": "python",
   "pygments_lexer": "ipython3",
   "version": "3.8.6"
  }
 },
 "nbformat": 4,
 "nbformat_minor": 4
}
