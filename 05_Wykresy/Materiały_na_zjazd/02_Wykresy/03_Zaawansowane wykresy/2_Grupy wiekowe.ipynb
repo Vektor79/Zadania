{
 "cells": [
  {
   "cell_type": "markdown",
   "metadata": {},
   "source": [
    "Odczytaj z pliku **Ludność w  Polsce - prognozy.xlsx**, z arkusza **pięcioletnie grupy wieku** dane z roku 2021. Wyświetl je na wykresie słupkowym skumulowanym.\n",
    "\n",
    "Dodaj legendę, która wyjaśni która część słupków to dane o kobietach, a która o mężczyznach.\n",
    "\n",
    "Pod każdym słupkiem dodaj etykietę, która powie jakiej grupy wiekowej dany słupek dotyczy."
   ]
  },
  {
   "cell_type": "code",
   "metadata": {
    "ExecuteTime": {
     "end_time": "2024-11-14T18:13:16.509220Z",
     "start_time": "2024-11-14T18:13:16.505462Z"
    }
   },
   "source": [
    "import os\n",
    "from cProfile import label\n",
    "\n",
    "import pandas as pd\n",
    "import matplotlib.pyplot as plt\n",
    "import numpy as np\n",
    "from matplotlib import ticker\n",
    "    # ticker oznacza te \"dzióbki\" na skali wykresu - tutaj dot. pionowych kresek na skali\n"
   ],
   "outputs": [],
   "execution_count": 26
  },
  {
   "metadata": {
    "ExecuteTime": {
     "end_time": "2024-11-14T17:40:35.966851Z",
     "start_time": "2024-11-14T17:40:35.893905Z"
    }
   },
   "cell_type": "code",
   "source": "df = pd.read_excel(os.path.join(\"..\", \"01_Dane do wykresów\", \"Ludność w Polsce - prognozy.xlsx\"), sheet_name=\"pięcioletnie grupy wieku\")",
   "outputs": [],
   "execution_count": 10
  },
  {
   "metadata": {
    "ExecuteTime": {
     "end_time": "2024-11-14T17:40:36.535572Z",
     "start_time": "2024-11-14T17:40:36.525015Z"
    }
   },
   "cell_type": "code",
   "source": "df.head()",
   "outputs": [
    {
     "data": {
      "text/plain": [
       "    Rok   Wiek   Ogółem  Mężczyźni  Kobiety\n",
       "0  2014    0-4  1926441     990515   935926\n",
       "1  2014    5-9  1998406    1024154   974252\n",
       "2  2014  10-14  1789943     918424   871519\n",
       "3  2014  15-19  2024374    1036453   987921\n",
       "4  2014  20-24  2507493    1278725  1228768"
      ],
      "text/html": [
       "<div>\n",
       "<style scoped>\n",
       "    .dataframe tbody tr th:only-of-type {\n",
       "        vertical-align: middle;\n",
       "    }\n",
       "\n",
       "    .dataframe tbody tr th {\n",
       "        vertical-align: top;\n",
       "    }\n",
       "\n",
       "    .dataframe thead th {\n",
       "        text-align: right;\n",
       "    }\n",
       "</style>\n",
       "<table border=\"1\" class=\"dataframe\">\n",
       "  <thead>\n",
       "    <tr style=\"text-align: right;\">\n",
       "      <th></th>\n",
       "      <th>Rok</th>\n",
       "      <th>Wiek</th>\n",
       "      <th>Ogółem</th>\n",
       "      <th>Mężczyźni</th>\n",
       "      <th>Kobiety</th>\n",
       "    </tr>\n",
       "  </thead>\n",
       "  <tbody>\n",
       "    <tr>\n",
       "      <th>0</th>\n",
       "      <td>2014</td>\n",
       "      <td>0-4</td>\n",
       "      <td>1926441</td>\n",
       "      <td>990515</td>\n",
       "      <td>935926</td>\n",
       "    </tr>\n",
       "    <tr>\n",
       "      <th>1</th>\n",
       "      <td>2014</td>\n",
       "      <td>5-9</td>\n",
       "      <td>1998406</td>\n",
       "      <td>1024154</td>\n",
       "      <td>974252</td>\n",
       "    </tr>\n",
       "    <tr>\n",
       "      <th>2</th>\n",
       "      <td>2014</td>\n",
       "      <td>10-14</td>\n",
       "      <td>1789943</td>\n",
       "      <td>918424</td>\n",
       "      <td>871519</td>\n",
       "    </tr>\n",
       "    <tr>\n",
       "      <th>3</th>\n",
       "      <td>2014</td>\n",
       "      <td>15-19</td>\n",
       "      <td>2024374</td>\n",
       "      <td>1036453</td>\n",
       "      <td>987921</td>\n",
       "    </tr>\n",
       "    <tr>\n",
       "      <th>4</th>\n",
       "      <td>2014</td>\n",
       "      <td>20-24</td>\n",
       "      <td>2507493</td>\n",
       "      <td>1278725</td>\n",
       "      <td>1228768</td>\n",
       "    </tr>\n",
       "  </tbody>\n",
       "</table>\n",
       "</div>"
      ]
     },
     "execution_count": 11,
     "metadata": {},
     "output_type": "execute_result"
    }
   ],
   "execution_count": 11
  },
  {
   "metadata": {
    "ExecuteTime": {
     "end_time": "2024-11-14T17:43:59.321663Z",
     "start_time": "2024-11-14T17:43:59.307645Z"
    }
   },
   "cell_type": "code",
   "source": "df.sample(10)    # obserwacje które bierze z rozkładu z różnych percentyli, dzięki temu wiemy co jest w danych",
   "outputs": [
    {
     "data": {
      "text/plain": [
       "      Rok   Wiek   Ogółem  Mężczyźni  Kobiety\n",
       "167  2021   100+     6907       1199     5708\n",
       "93   2018  45-49  2464686    1237779  1226907\n",
       "509  2038  25-29  1994279    1026721   967558\n",
       "771  2050  75-79  2039470     928140  1111330\n",
       "205  2023  80-84   812199     280659   531540\n",
       "47   2016  25-29  2733562    1396320  1337242\n",
       "732  2048  90-94   716050     209841   506209\n",
       "445  2035  20-24  1887880     968618   919262\n",
       "196  2023  35-39  2946956    1503813  1443143\n",
       "40   2015  95-99    27621       5928    21693"
      ],
      "text/html": [
       "<div>\n",
       "<style scoped>\n",
       "    .dataframe tbody tr th:only-of-type {\n",
       "        vertical-align: middle;\n",
       "    }\n",
       "\n",
       "    .dataframe tbody tr th {\n",
       "        vertical-align: top;\n",
       "    }\n",
       "\n",
       "    .dataframe thead th {\n",
       "        text-align: right;\n",
       "    }\n",
       "</style>\n",
       "<table border=\"1\" class=\"dataframe\">\n",
       "  <thead>\n",
       "    <tr style=\"text-align: right;\">\n",
       "      <th></th>\n",
       "      <th>Rok</th>\n",
       "      <th>Wiek</th>\n",
       "      <th>Ogółem</th>\n",
       "      <th>Mężczyźni</th>\n",
       "      <th>Kobiety</th>\n",
       "    </tr>\n",
       "  </thead>\n",
       "  <tbody>\n",
       "    <tr>\n",
       "      <th>167</th>\n",
       "      <td>2021</td>\n",
       "      <td>100+</td>\n",
       "      <td>6907</td>\n",
       "      <td>1199</td>\n",
       "      <td>5708</td>\n",
       "    </tr>\n",
       "    <tr>\n",
       "      <th>93</th>\n",
       "      <td>2018</td>\n",
       "      <td>45-49</td>\n",
       "      <td>2464686</td>\n",
       "      <td>1237779</td>\n",
       "      <td>1226907</td>\n",
       "    </tr>\n",
       "    <tr>\n",
       "      <th>509</th>\n",
       "      <td>2038</td>\n",
       "      <td>25-29</td>\n",
       "      <td>1994279</td>\n",
       "      <td>1026721</td>\n",
       "      <td>967558</td>\n",
       "    </tr>\n",
       "    <tr>\n",
       "      <th>771</th>\n",
       "      <td>2050</td>\n",
       "      <td>75-79</td>\n",
       "      <td>2039470</td>\n",
       "      <td>928140</td>\n",
       "      <td>1111330</td>\n",
       "    </tr>\n",
       "    <tr>\n",
       "      <th>205</th>\n",
       "      <td>2023</td>\n",
       "      <td>80-84</td>\n",
       "      <td>812199</td>\n",
       "      <td>280659</td>\n",
       "      <td>531540</td>\n",
       "    </tr>\n",
       "    <tr>\n",
       "      <th>47</th>\n",
       "      <td>2016</td>\n",
       "      <td>25-29</td>\n",
       "      <td>2733562</td>\n",
       "      <td>1396320</td>\n",
       "      <td>1337242</td>\n",
       "    </tr>\n",
       "    <tr>\n",
       "      <th>732</th>\n",
       "      <td>2048</td>\n",
       "      <td>90-94</td>\n",
       "      <td>716050</td>\n",
       "      <td>209841</td>\n",
       "      <td>506209</td>\n",
       "    </tr>\n",
       "    <tr>\n",
       "      <th>445</th>\n",
       "      <td>2035</td>\n",
       "      <td>20-24</td>\n",
       "      <td>1887880</td>\n",
       "      <td>968618</td>\n",
       "      <td>919262</td>\n",
       "    </tr>\n",
       "    <tr>\n",
       "      <th>196</th>\n",
       "      <td>2023</td>\n",
       "      <td>35-39</td>\n",
       "      <td>2946956</td>\n",
       "      <td>1503813</td>\n",
       "      <td>1443143</td>\n",
       "    </tr>\n",
       "    <tr>\n",
       "      <th>40</th>\n",
       "      <td>2015</td>\n",
       "      <td>95-99</td>\n",
       "      <td>27621</td>\n",
       "      <td>5928</td>\n",
       "      <td>21693</td>\n",
       "    </tr>\n",
       "  </tbody>\n",
       "</table>\n",
       "</div>"
      ]
     },
     "execution_count": 14,
     "metadata": {},
     "output_type": "execute_result"
    }
   ],
   "execution_count": 14
  },
  {
   "metadata": {
    "ExecuteTime": {
     "end_time": "2024-11-14T17:45:37.392995Z",
     "start_time": "2024-11-14T17:45:37.383331Z"
    }
   },
   "cell_type": "code",
   "source": "df.info()",
   "outputs": [
    {
     "name": "stdout",
     "output_type": "stream",
     "text": [
      "<class 'pandas.core.frame.DataFrame'>\n",
      "RangeIndex: 777 entries, 0 to 776\n",
      "Data columns (total 5 columns):\n",
      " #   Column     Non-Null Count  Dtype \n",
      "---  ------     --------------  ----- \n",
      " 0   Rok        777 non-null    int64 \n",
      " 1   Wiek       777 non-null    object\n",
      " 2   Ogółem     777 non-null    int64 \n",
      " 3   Mężczyźni  777 non-null    int64 \n",
      " 4   Kobiety    777 non-null    int64 \n",
      "dtypes: int64(4), object(1)\n",
      "memory usage: 30.5+ KB\n"
     ]
    }
   ],
   "execution_count": 15
  },
  {
   "metadata": {
    "ExecuteTime": {
     "end_time": "2024-11-14T18:22:40.124769Z",
     "start_time": "2024-11-14T18:22:38.400883Z"
    }
   },
   "cell_type": "code",
   "source": [
    "fig, ax = plt.subplots(figsize=(12, 8))\n",
    "\n",
    "ax.bar(df[\"Wiek\"], height=df[\"Mężczyźni\"], color=\"blue\", label=\"Mężczyźni\")\n",
    "ax.bar(df[\"Wiek\"], height=df[\"Kobiety\"], color=\"red\", bottom=df[\"Mężczyźni\"], label=\"Kobiety\")\n",
    "#    botttom powoduje, że słupek \"Kobiety\" zacznie się w miejscu, gdzie skończył się słupek \"Mężczyźni\", bo inaczej nałożą się na siebie\n",
    "#    label - etykieta legendy\n",
    "\n",
    "ax.set_xlabel(\"Grupy wiekowe\")\n",
    "ax.set_ylabel(\"Liczba ludności (mln)\")\n",
    "ax.set_title(\"Liczba ludności w Polsce w 2021 roku (kumulatywnie)\")\n",
    "\n",
    "\n",
    "ax.legend()    # dodaje legendę na wykresie\n",
    "ax.yaxis.set_major_formatter(ticker.FuncFormatter(lambda x, pos: f'{x / 1000000} mln'))    # zamiast /1000000 można też użyć /1e6 bo to to samo :)\n",
    "    # formatter - funkcja mapuje orginalny tick na nowy tick, zwykle jest to funkcja jednorazowego użytku, więc stosuje się tu funkcję lambda\n",
    "plt.xticks(rotation=45) \n",
    "\n",
    "\n",
    "plt.tight_layout()\n",
    "plt.show()"
   ],
   "outputs": [
    {
     "data": {
      "text/plain": [
       "<Figure size 1200x800 with 1 Axes>"
      ],
      "image/png": "[encoded data removed]"
     },
     "metadata": {},
     "output_type": "display_data"
    }
   ],
   "execution_count": 32
  }
 ],
 "metadata": {
  "kernelspec": {
   "display_name": "Python 3",
   "language": "python",
   "name": "python3"
  },
  "language_info": {
   "codemirror_mode": {
    "name": "ipython",
    "version": 3
   },
   "file_extension": ".py",
   "mimetype": "text/x-python",
   "name": "python",
   "nbconvert_exporter": "python",
   "pygments_lexer": "ipython3",
   "version": "3.9.2"
  }
 },
 "nbformat": 4,
 "nbformat_minor": 4
}
