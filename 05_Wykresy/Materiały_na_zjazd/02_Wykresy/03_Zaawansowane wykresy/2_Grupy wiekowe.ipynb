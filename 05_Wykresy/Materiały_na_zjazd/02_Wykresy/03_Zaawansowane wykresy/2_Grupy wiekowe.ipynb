{
 "cells": [
  {
   "cell_type": "markdown",
   "metadata": {},
   "source": [
    "Odczytaj z pliku **Ludność w  Polsce - prognozy.xlsx**, z arkusza **pięcioletnie grupy wieku** dane z roku 2021. Wyświetl je na wykresie słupkowym skumulowanym.\n",
    "\n",
    "Dodaj legendę, która wyjaśni która część słupków to dane o kobietach, a która o mężczyznach.\n",
    "\n",
    "Pod każdym słupkiem dodaj etykietę, która powie jakiej grupy wiekowej dany słupek dotyczy."
   ]
  },
  {
   "cell_type": "code",
   "execution_count": null,
   "metadata": {},
   "outputs": [],
   "source": []
  }
 ],
 "metadata": {
  "kernelspec": {
   "display_name": "Python 3",
   "language": "python",
   "name": "python3"
  },
  "language_info": {
   "codemirror_mode": {
    "name": "ipython",
    "version": 3
   },
   "file_extension": ".py",
   "mimetype": "text/x-python",
   "name": "python",
   "nbconvert_exporter": "python",
   "pygments_lexer": "ipython3",
   "version": "3.9.2"
  }
 },
 "nbformat": 4,
 "nbformat_minor": 4
}
