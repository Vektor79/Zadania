{
 "cells": [
  {
   "cell_type": "markdown",
   "metadata": {},
   "source": [
    "Odczytaj z pliku **Ludność w  Polsce - prognozy.xlsx**, z arkusza **pięcioletnie grupy wieku** dane z roku 2021. Wyświetl je na wykresie słupkowym skumulowanym.\n",
    "\n",
    "Dodaj legendę, która wyjaśni która część słupków to dane o kobietach, a która o mężczyznach.\n",
    "\n",
    "Pod każdym słupkiem dodaj etykietę, która powie jakiej grupy wiekowej dany słupek dotyczy."
   ]
  },
  {
   "cell_type": "code",
   "metadata": {
    "ExecuteTime": {
     "end_time": "2024-11-14T16:54:21.882769Z",
     "start_time": "2024-11-14T16:54:21.000478Z"
    }
   },
   "source": [
    "import os\n",
    "import pandas as pd\n",
    "import matplotlib.pyplot as plt"
   ],
   "outputs": [],
   "execution_count": 1
  },
  {
   "metadata": {
    "ExecuteTime": {
     "end_time": "2024-11-14T16:58:16.828362Z",
     "start_time": "2024-11-14T16:58:16.752535Z"
    }
   },
   "cell_type": "code",
   "source": "df = pd.read_excel(os.path.join(\"..\", \"01_Dane do wykresów\", \"Ludność w Polsce - prognozy.xlsx\"), sheet_name=\"pięcioletnie grupy wieku\")",
   "outputs": [],
   "execution_count": 5
  },
  {
   "metadata": {
    "ExecuteTime": {
     "end_time": "2024-11-14T16:58:42.895730Z",
     "start_time": "2024-11-14T16:58:42.876245Z"
    }
   },
   "cell_type": "code",
   "source": "df.head()",
   "outputs": [
    {
     "data": {
      "text/plain": [
       "    Rok   Wiek   Ogółem  Mężczyźni  Kobiety\n",
       "0  2014    0-4  1926441     990515   935926\n",
       "1  2014    5-9  1998406    1024154   974252\n",
       "2  2014  10-14  1789943     918424   871519\n",
       "3  2014  15-19  2024374    1036453   987921\n",
       "4  2014  20-24  2507493    1278725  1228768"
      ],
      "text/html": [
       "<div>\n",
       "<style scoped>\n",
       "    .dataframe tbody tr th:only-of-type {\n",
       "        vertical-align: middle;\n",
       "    }\n",
       "\n",
       "    .dataframe tbody tr th {\n",
       "        vertical-align: top;\n",
       "    }\n",
       "\n",
       "    .dataframe thead th {\n",
       "        text-align: right;\n",
       "    }\n",
       "</style>\n",
       "<table border=\"1\" class=\"dataframe\">\n",
       "  <thead>\n",
       "    <tr style=\"text-align: right;\">\n",
       "      <th></th>\n",
       "      <th>Rok</th>\n",
       "      <th>Wiek</th>\n",
       "      <th>Ogółem</th>\n",
       "      <th>Mężczyźni</th>\n",
       "      <th>Kobiety</th>\n",
       "    </tr>\n",
       "  </thead>\n",
       "  <tbody>\n",
       "    <tr>\n",
       "      <th>0</th>\n",
       "      <td>2014</td>\n",
       "      <td>0-4</td>\n",
       "      <td>1926441</td>\n",
       "      <td>990515</td>\n",
       "      <td>935926</td>\n",
       "    </tr>\n",
       "    <tr>\n",
       "      <th>1</th>\n",
       "      <td>2014</td>\n",
       "      <td>5-9</td>\n",
       "      <td>1998406</td>\n",
       "      <td>1024154</td>\n",
       "      <td>974252</td>\n",
       "    </tr>\n",
       "    <tr>\n",
       "      <th>2</th>\n",
       "      <td>2014</td>\n",
       "      <td>10-14</td>\n",
       "      <td>1789943</td>\n",
       "      <td>918424</td>\n",
       "      <td>871519</td>\n",
       "    </tr>\n",
       "    <tr>\n",
       "      <th>3</th>\n",
       "      <td>2014</td>\n",
       "      <td>15-19</td>\n",
       "      <td>2024374</td>\n",
       "      <td>1036453</td>\n",
       "      <td>987921</td>\n",
       "    </tr>\n",
       "    <tr>\n",
       "      <th>4</th>\n",
       "      <td>2014</td>\n",
       "      <td>20-24</td>\n",
       "      <td>2507493</td>\n",
       "      <td>1278725</td>\n",
       "      <td>1228768</td>\n",
       "    </tr>\n",
       "  </tbody>\n",
       "</table>\n",
       "</div>"
      ]
     },
     "execution_count": 7,
     "metadata": {},
     "output_type": "execute_result"
    }
   ],
   "execution_count": 7
  },
  {
   "metadata": {
    "ExecuteTime": {
     "end_time": "2024-11-14T16:58:58.209185Z",
     "start_time": "2024-11-14T16:58:58.196707Z"
    }
   },
   "cell_type": "code",
   "source": "df.info()",
   "outputs": [
    {
     "name": "stdout",
     "output_type": "stream",
     "text": [
      "<class 'pandas.core.frame.DataFrame'>\n",
      "RangeIndex: 777 entries, 0 to 776\n",
      "Data columns (total 5 columns):\n",
      " #   Column     Non-Null Count  Dtype \n",
      "---  ------     --------------  ----- \n",
      " 0   Rok        777 non-null    int64 \n",
      " 1   Wiek       777 non-null    object\n",
      " 2   Ogółem     777 non-null    int64 \n",
      " 3   Mężczyźni  777 non-null    int64 \n",
      " 4   Kobiety    777 non-null    int64 \n",
      "dtypes: int64(4), object(1)\n",
      "memory usage: 30.5+ KB\n"
     ]
    }
   ],
   "execution_count": 8
  },
  {
   "metadata": {},
   "cell_type": "code",
   "outputs": [],
   "execution_count": null,
   "source": ""
  }
 ],
 "metadata": {
  "kernelspec": {
   "display_name": "Python 3",
   "language": "python",
   "name": "python3"
  },
  "language_info": {
   "codemirror_mode": {
    "name": "ipython",
    "version": 3
   },
   "file_extension": ".py",
   "mimetype": "text/x-python",
   "name": "python",
   "nbconvert_exporter": "python",
   "pygments_lexer": "ipython3",
   "version": "3.9.2"
  }
 },
 "nbformat": 4,
 "nbformat_minor": 4
}
