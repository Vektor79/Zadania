{
 "cells": [
  {
   "cell_type": "markdown",
   "id": "nearby-trauma",
   "metadata": {},
   "source": [
    "W pliku **wbo_lista_glosow_2019.csv** znajdziesz dane o głosach oddanych w ramach Wrocławskiego Budżetu Obywatelskiego, pobrane ze strony [Wrocław Otwarte Dane](https://www.wroclaw.pl/open-data/dataset/wroclawski-budzet-obywatelski-glosowanie).\n",
    "\n",
    "Odczytaj te dane i wyświetl histogram wieku głosujących - wyświetl słupki obejmujące 5-letnie zakresy: głosujący w wieku od 18 do 23 lat, od 24 do 28 lat, itd (do 100 lat - zakładamy że jest to maksymalny wiek głosujących)."
   ]
  },
  {
   "metadata": {
    "ExecuteTime": {
     "end_time": "2024-11-17T22:03:30.425250Z",
     "start_time": "2024-11-17T22:03:28.484363Z"
    }
   },
   "cell_type": "code",
   "source": [
    "import os\n",
    "import pandas as pd\n",
    "import matplotlib.pyplot as plt\n",
    "from matplotlib import ticker"
   ],
   "id": "404be7882bdf5333",
   "outputs": [],
   "execution_count": 2
  },
  {
   "metadata": {
    "ExecuteTime": {
     "end_time": "2024-11-17T22:07:06.343928Z",
     "start_time": "2024-11-17T22:07:06.120912Z"
    }
   },
   "cell_type": "code",
   "source": "df = pd.read_csv(os.path.join(\"..\", \"01_Dane do wykresów\", \"wbo_lista_glosow_2019.csv\"), sep=\";\")",
   "id": "b82eef0c7a987bd4",
   "outputs": [],
   "execution_count": 4
  },
  {
   "metadata": {
    "ExecuteTime": {
     "end_time": "2024-11-17T22:07:44.162107Z",
     "start_time": "2024-11-17T22:07:44.133001Z"
    }
   },
   "cell_type": "code",
   "source": "df.head()",
   "id": "4330dace5bd5473f",
   "outputs": [
    {
     "data": {
      "text/plain": [
       "   Lp                 Data  Wiek Plec Kod_Pocztowy Zrodlo  Osiedlowy  \\\n",
       "0   1  9:01:21, 20-09-2019    33    K       54-117      I        256   \n",
       "1   2  9:01:32, 20-09-2019    38    K       54-131      I        323   \n",
       "2   3  9:02:28, 20-09-2019    32    K       54-107      I        256   \n",
       "3   4  9:02:44, 20-09-2019    36    M       53-339      I          4   \n",
       "4   5  9:02:51, 20-09-2019    31    M       50-231      I        108   \n",
       "\n",
       "   Ponadosiedlowy  \n",
       "0             132  \n",
       "1             255  \n",
       "2             132  \n",
       "3               5  \n",
       "4             120  "
      ],
      "text/html": [
       "<div>\n",
       "<style scoped>\n",
       "    .dataframe tbody tr th:only-of-type {\n",
       "        vertical-align: middle;\n",
       "    }\n",
       "\n",
       "    .dataframe tbody tr th {\n",
       "        vertical-align: top;\n",
       "    }\n",
       "\n",
       "    .dataframe thead th {\n",
       "        text-align: right;\n",
       "    }\n",
       "</style>\n",
       "<table border=\"1\" class=\"dataframe\">\n",
       "  <thead>\n",
       "    <tr style=\"text-align: right;\">\n",
       "      <th></th>\n",
       "      <th>Lp</th>\n",
       "      <th>Data</th>\n",
       "      <th>Wiek</th>\n",
       "      <th>Plec</th>\n",
       "      <th>Kod_Pocztowy</th>\n",
       "      <th>Zrodlo</th>\n",
       "      <th>Osiedlowy</th>\n",
       "      <th>Ponadosiedlowy</th>\n",
       "    </tr>\n",
       "  </thead>\n",
       "  <tbody>\n",
       "    <tr>\n",
       "      <th>0</th>\n",
       "      <td>1</td>\n",
       "      <td>9:01:21, 20-09-2019</td>\n",
       "      <td>33</td>\n",
       "      <td>K</td>\n",
       "      <td>54-117</td>\n",
       "      <td>I</td>\n",
       "      <td>256</td>\n",
       "      <td>132</td>\n",
       "    </tr>\n",
       "    <tr>\n",
       "      <th>1</th>\n",
       "      <td>2</td>\n",
       "      <td>9:01:32, 20-09-2019</td>\n",
       "      <td>38</td>\n",
       "      <td>K</td>\n",
       "      <td>54-131</td>\n",
       "      <td>I</td>\n",
       "      <td>323</td>\n",
       "      <td>255</td>\n",
       "    </tr>\n",
       "    <tr>\n",
       "      <th>2</th>\n",
       "      <td>3</td>\n",
       "      <td>9:02:28, 20-09-2019</td>\n",
       "      <td>32</td>\n",
       "      <td>K</td>\n",
       "      <td>54-107</td>\n",
       "      <td>I</td>\n",
       "      <td>256</td>\n",
       "      <td>132</td>\n",
       "    </tr>\n",
       "    <tr>\n",
       "      <th>3</th>\n",
       "      <td>4</td>\n",
       "      <td>9:02:44, 20-09-2019</td>\n",
       "      <td>36</td>\n",
       "      <td>M</td>\n",
       "      <td>53-339</td>\n",
       "      <td>I</td>\n",
       "      <td>4</td>\n",
       "      <td>5</td>\n",
       "    </tr>\n",
       "    <tr>\n",
       "      <th>4</th>\n",
       "      <td>5</td>\n",
       "      <td>9:02:51, 20-09-2019</td>\n",
       "      <td>31</td>\n",
       "      <td>M</td>\n",
       "      <td>50-231</td>\n",
       "      <td>I</td>\n",
       "      <td>108</td>\n",
       "      <td>120</td>\n",
       "    </tr>\n",
       "  </tbody>\n",
       "</table>\n",
       "</div>"
      ]
     },
     "execution_count": 5,
     "metadata": {},
     "output_type": "execute_result"
    }
   ],
   "execution_count": 5
  },
  {
   "metadata": {
    "ExecuteTime": {
     "end_time": "2024-11-17T22:08:05.080578Z",
     "start_time": "2024-11-17T22:08:05.026704Z"
    }
   },
   "cell_type": "code",
   "source": "df.sample(10)",
   "id": "a6411094ec7cb697",
   "outputs": [
    {
     "data": {
      "text/plain": [
       "          Lp                  Data  Wiek Plec Kod_Pocztowy Zrodlo  Osiedlowy  \\\n",
       "6060    6061  18:46:08, 20-09-2019    29    K       50-231      I        399   \n",
       "45944  45945   8:20:23, 03-10-2019    77    K       54-440      I        323   \n",
       "76550  76551  20:23:41, 07-10-2019    19    K       51-200      I        370   \n",
       "8435    8436   9:51:46, 21-09-2019    41    K       51-677      I        371   \n",
       "74993  74994  19:20:27, 07-10-2019    58    K       50-437      I        402   \n",
       "43462  43463  11:35:47, 02-10-2019    24    K       50-430      I        402   \n",
       "62410  62411  19:49:04, 06-10-2019    80    M       54-436      I        225   \n",
       "68541  68542  10:05:46, 07-10-2019    40    K       52-437      I        366   \n",
       "37065  37066  10:25:29, 30-09-2019    60    M       51-520      I        175   \n",
       "60700  60701  17:46:15, 06-10-2019    33    M       54-106      I        256   \n",
       "\n",
       "       Ponadosiedlowy  \n",
       "6060               82  \n",
       "45944             261  \n",
       "76550             378  \n",
       "8435               60  \n",
       "74993               5  \n",
       "43462               3  \n",
       "62410             194  \n",
       "68541             234  \n",
       "37065             415  \n",
       "60700             132  "
      ],
      "text/html": [
       "<div>\n",
       "<style scoped>\n",
       "    .dataframe tbody tr th:only-of-type {\n",
       "        vertical-align: middle;\n",
       "    }\n",
       "\n",
       "    .dataframe tbody tr th {\n",
       "        vertical-align: top;\n",
       "    }\n",
       "\n",
       "    .dataframe thead th {\n",
       "        text-align: right;\n",
       "    }\n",
       "</style>\n",
       "<table border=\"1\" class=\"dataframe\">\n",
       "  <thead>\n",
       "    <tr style=\"text-align: right;\">\n",
       "      <th></th>\n",
       "      <th>Lp</th>\n",
       "      <th>Data</th>\n",
       "      <th>Wiek</th>\n",
       "      <th>Plec</th>\n",
       "      <th>Kod_Pocztowy</th>\n",
       "      <th>Zrodlo</th>\n",
       "      <th>Osiedlowy</th>\n",
       "      <th>Ponadosiedlowy</th>\n",
       "    </tr>\n",
       "  </thead>\n",
       "  <tbody>\n",
       "    <tr>\n",
       "      <th>6060</th>\n",
       "      <td>6061</td>\n",
       "      <td>18:46:08, 20-09-2019</td>\n",
       "      <td>29</td>\n",
       "      <td>K</td>\n",
       "      <td>50-231</td>\n",
       "      <td>I</td>\n",
       "      <td>399</td>\n",
       "      <td>82</td>\n",
       "    </tr>\n",
       "    <tr>\n",
       "      <th>45944</th>\n",
       "      <td>45945</td>\n",
       "      <td>8:20:23, 03-10-2019</td>\n",
       "      <td>77</td>\n",
       "      <td>K</td>\n",
       "      <td>54-440</td>\n",
       "      <td>I</td>\n",
       "      <td>323</td>\n",
       "      <td>261</td>\n",
       "    </tr>\n",
       "    <tr>\n",
       "      <th>76550</th>\n",
       "      <td>76551</td>\n",
       "      <td>20:23:41, 07-10-2019</td>\n",
       "      <td>19</td>\n",
       "      <td>K</td>\n",
       "      <td>51-200</td>\n",
       "      <td>I</td>\n",
       "      <td>370</td>\n",
       "      <td>378</td>\n",
       "    </tr>\n",
       "    <tr>\n",
       "      <th>8435</th>\n",
       "      <td>8436</td>\n",
       "      <td>9:51:46, 21-09-2019</td>\n",
       "      <td>41</td>\n",
       "      <td>K</td>\n",
       "      <td>51-677</td>\n",
       "      <td>I</td>\n",
       "      <td>371</td>\n",
       "      <td>60</td>\n",
       "    </tr>\n",
       "    <tr>\n",
       "      <th>74993</th>\n",
       "      <td>74994</td>\n",
       "      <td>19:20:27, 07-10-2019</td>\n",
       "      <td>58</td>\n",
       "      <td>K</td>\n",
       "      <td>50-437</td>\n",
       "      <td>I</td>\n",
       "      <td>402</td>\n",
       "      <td>5</td>\n",
       "    </tr>\n",
       "    <tr>\n",
       "      <th>43462</th>\n",
       "      <td>43463</td>\n",
       "      <td>11:35:47, 02-10-2019</td>\n",
       "      <td>24</td>\n",
       "      <td>K</td>\n",
       "      <td>50-430</td>\n",
       "      <td>I</td>\n",
       "      <td>402</td>\n",
       "      <td>3</td>\n",
       "    </tr>\n",
       "    <tr>\n",
       "      <th>62410</th>\n",
       "      <td>62411</td>\n",
       "      <td>19:49:04, 06-10-2019</td>\n",
       "      <td>80</td>\n",
       "      <td>M</td>\n",
       "      <td>54-436</td>\n",
       "      <td>I</td>\n",
       "      <td>225</td>\n",
       "      <td>194</td>\n",
       "    </tr>\n",
       "    <tr>\n",
       "      <th>68541</th>\n",
       "      <td>68542</td>\n",
       "      <td>10:05:46, 07-10-2019</td>\n",
       "      <td>40</td>\n",
       "      <td>K</td>\n",
       "      <td>52-437</td>\n",
       "      <td>I</td>\n",
       "      <td>366</td>\n",
       "      <td>234</td>\n",
       "    </tr>\n",
       "    <tr>\n",
       "      <th>37065</th>\n",
       "      <td>37066</td>\n",
       "      <td>10:25:29, 30-09-2019</td>\n",
       "      <td>60</td>\n",
       "      <td>M</td>\n",
       "      <td>51-520</td>\n",
       "      <td>I</td>\n",
       "      <td>175</td>\n",
       "      <td>415</td>\n",
       "    </tr>\n",
       "    <tr>\n",
       "      <th>60700</th>\n",
       "      <td>60701</td>\n",
       "      <td>17:46:15, 06-10-2019</td>\n",
       "      <td>33</td>\n",
       "      <td>M</td>\n",
       "      <td>54-106</td>\n",
       "      <td>I</td>\n",
       "      <td>256</td>\n",
       "      <td>132</td>\n",
       "    </tr>\n",
       "  </tbody>\n",
       "</table>\n",
       "</div>"
      ]
     },
     "execution_count": 6,
     "metadata": {},
     "output_type": "execute_result"
    }
   ],
   "execution_count": 6
  },
  {
   "metadata": {
    "ExecuteTime": {
     "end_time": "2024-11-17T22:08:21.006625Z",
     "start_time": "2024-11-17T22:08:20.944304Z"
    }
   },
   "cell_type": "code",
   "source": "df.info()",
   "id": "2ad9a9196831757c",
   "outputs": [
    {
     "name": "stdout",
     "output_type": "stream",
     "text": [
      "<class 'pandas.core.frame.DataFrame'>\n",
      "RangeIndex: 83011 entries, 0 to 83010\n",
      "Data columns (total 8 columns):\n",
      " #   Column          Non-Null Count  Dtype \n",
      "---  ------          --------------  ----- \n",
      " 0   Lp              83011 non-null  int64 \n",
      " 1   Data            83011 non-null  object\n",
      " 2   Wiek            83011 non-null  int64 \n",
      " 3   Plec            83011 non-null  object\n",
      " 4   Kod_Pocztowy    83009 non-null  object\n",
      " 5   Zrodlo          83011 non-null  object\n",
      " 6   Osiedlowy       83011 non-null  int64 \n",
      " 7   Ponadosiedlowy  83011 non-null  int64 \n",
      "dtypes: int64(4), object(4)\n",
      "memory usage: 5.1+ MB\n"
     ]
    }
   ],
   "execution_count": 7
  },
  {
   "metadata": {
    "ExecuteTime": {
     "end_time": "2024-11-17T22:15:57.137506Z",
     "start_time": "2024-11-17T22:15:56.997506Z"
    }
   },
   "cell_type": "code",
   "source": [
    "fig, ax = plt.subplots()\n",
    "\n",
    "\n",
    "\n",
    "\n",
    "\n",
    "\n",
    "\n",
    "\n",
    "\n",
    "plt.xticks(rotation=45)\n",
    "\n",
    "plt.tight_layout()\n",
    "plt.show()"
   ],
   "id": "d09708c76dd0377",
   "outputs": [
    {
     "data": {
      "text/plain": [
       "<Figure size 640x480 with 1 Axes>"
      ],
      "image/png": "[encoded data removed]"
     },
     "metadata": {},
     "output_type": "display_data"
    }
   ],
   "execution_count": 11
  },
  {
   "metadata": {},
   "cell_type": "code",
   "outputs": [],
   "execution_count": null,
   "source": "",
   "id": "35c3b76d3d1ebbfe"
  }
 ],
 "metadata": {
  "kernelspec": {
   "display_name": "Python 3",
   "language": "python",
   "name": "python3"
  },
  "language_info": {
   "codemirror_mode": {
    "name": "ipython",
    "version": 3
   },
   "file_extension": ".py",
   "mimetype": "text/x-python",
   "name": "python",
   "nbconvert_exporter": "python",
   "pygments_lexer": "ipython3",
   "version": "3.8.5"
  }
 },
 "nbformat": 4,
 "nbformat_minor": 5
}
