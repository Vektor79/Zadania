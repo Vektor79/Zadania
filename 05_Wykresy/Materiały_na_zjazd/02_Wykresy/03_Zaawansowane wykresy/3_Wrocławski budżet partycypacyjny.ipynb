{
 "cells": [
  {
   "cell_type": "markdown",
   "id": "nearby-trauma",
   "metadata": {},
   "source": [
    "W pliku **wbo_lista_glosow_2019.csv** znajdziesz dane o głosach oddanych w ramach Wrocławskiego Budżetu Obywatelskiego, pobrane ze strony [Wrocław Otwarte Dane](https://www.wroclaw.pl/open-data/dataset/wroclawski-budzet-obywatelski-glosowanie).\n",
    "\n",
    "Odczytaj te dane i wyświetl histogram wieku głosujących - wyświetl słupki obejmujące 5-letnie zakresy: głosujący w wieku od 18 do 23 lat, od 24 do 28 lat, itd (do 100 lat - zakładamy że jest to maksymalny wiek głosujących)."
   ]
  }
 ],
 "metadata": {
  "kernelspec": {
   "display_name": "Python 3",
   "language": "python",
   "name": "python3"
  },
  "language_info": {
   "codemirror_mode": {
    "name": "ipython",
    "version": 3
   },
   "file_extension": ".py",
   "mimetype": "text/x-python",
   "name": "python",
   "nbconvert_exporter": "python",
   "pygments_lexer": "ipython3",
   "version": "3.8.5"
  }
 },
 "nbformat": 4,
 "nbformat_minor": 5
}
