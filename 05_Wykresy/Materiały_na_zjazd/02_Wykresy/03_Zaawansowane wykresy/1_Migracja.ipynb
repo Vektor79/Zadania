{
 "cells": [
  {
   "cell_type": "markdown",
   "metadata": {},
   "source": [
    "Odczytaj z pliku **Ludność w  Polsce - prognozy.xlsx**, z arkusza **ruch naturalny i wędrówkowy** wartości kolumny 'Migracje zagraniczne na pobyt stały – Saldo'. Wyświetl je na wykresie słupkowym.\n",
    "\n",
    "Pod każdym słupkiem dodaj etykietę z rokiem."
   ]
  },
  {
   "metadata": {
    "ExecuteTime": {
     "end_time": "2024-11-14T16:45:22.169744Z",
     "start_time": "2024-11-14T16:45:22.164218Z"
    }
   },
   "cell_type": "code",
   "source": [
    "import os\n",
    "import pandas as pd\n",
    "import matplotlib.pyplot as plt"
   ],
   "outputs": [],
   "execution_count": 26
  },
  {
   "metadata": {
    "ExecuteTime": {
     "end_time": "2024-11-14T16:45:22.215369Z",
     "start_time": "2024-11-14T16:45:22.180286Z"
    }
   },
   "cell_type": "code",
   "source": "df = pd.read_excel(os.path.join(\"..\", \"01_Dane do wykresów\", \"Ludność w Polsce - prognozy.xlsx\"), sheet_name=\"ruch naturalny i wędrówkowy\")",
   "outputs": [],
   "execution_count": 27
  },
  {
   "metadata": {
    "ExecuteTime": {
     "end_time": "2024-11-14T16:45:22.234427Z",
     "start_time": "2024-11-14T16:45:22.224068Z"
    }
   },
   "cell_type": "code",
   "source": "df.head()",
   "outputs": [
    {
     "data": {
      "text/plain": [
       "    Rok  Ludność na 31 XII  Ruch naturalny – Urodzenia  \\\n",
       "0  2014           38005614                      375160   \n",
       "1  2015           38001529                      376407   \n",
       "2  2016           38001253                      375756   \n",
       "3  2017           37989781                      373569   \n",
       "4  2018           37973268                      370033   \n",
       "\n",
       "   Ruch naturalny – Zgony  Migracje zagraniczne na pobyt stały – Imigracja  \\\n",
       "0                  376467                                            46129   \n",
       "1                  375377                                            47542   \n",
       "2                  379681                                            56045   \n",
       "3                  383488                                            50552   \n",
       "4                  386849                                            52063   \n",
       "\n",
       "   Migracje zagraniczne na pobyt stały – Emigracja  \\\n",
       "0                                            54960   \n",
       "1                                            52657   \n",
       "2                                            52396   \n",
       "3                                            52105   \n",
       "4                                            51760   \n",
       "\n",
       "   Migracje zagraniczne na pobyt stały – Saldo  \n",
       "0                                        -8831  \n",
       "1                                        -5115  \n",
       "2                                         3649  \n",
       "3                                        -1553  \n",
       "4                                          303  "
      ],
      "text/html": [
       "<div>\n",
       "<style scoped>\n",
       "    .dataframe tbody tr th:only-of-type {\n",
       "        vertical-align: middle;\n",
       "    }\n",
       "\n",
       "    .dataframe tbody tr th {\n",
       "        vertical-align: top;\n",
       "    }\n",
       "\n",
       "    .dataframe thead th {\n",
       "        text-align: right;\n",
       "    }\n",
       "</style>\n",
       "<table border=\"1\" class=\"dataframe\">\n",
       "  <thead>\n",
       "    <tr style=\"text-align: right;\">\n",
       "      <th></th>\n",
       "      <th>Rok</th>\n",
       "      <th>Ludność na 31 XII</th>\n",
       "      <th>Ruch naturalny – Urodzenia</th>\n",
       "      <th>Ruch naturalny – Zgony</th>\n",
       "      <th>Migracje zagraniczne na pobyt stały – Imigracja</th>\n",
       "      <th>Migracje zagraniczne na pobyt stały – Emigracja</th>\n",
       "      <th>Migracje zagraniczne na pobyt stały – Saldo</th>\n",
       "    </tr>\n",
       "  </thead>\n",
       "  <tbody>\n",
       "    <tr>\n",
       "      <th>0</th>\n",
       "      <td>2014</td>\n",
       "      <td>38005614</td>\n",
       "      <td>375160</td>\n",
       "      <td>376467</td>\n",
       "      <td>46129</td>\n",
       "      <td>54960</td>\n",
       "      <td>-8831</td>\n",
       "    </tr>\n",
       "    <tr>\n",
       "      <th>1</th>\n",
       "      <td>2015</td>\n",
       "      <td>38001529</td>\n",
       "      <td>376407</td>\n",
       "      <td>375377</td>\n",
       "      <td>47542</td>\n",
       "      <td>52657</td>\n",
       "      <td>-5115</td>\n",
       "    </tr>\n",
       "    <tr>\n",
       "      <th>2</th>\n",
       "      <td>2016</td>\n",
       "      <td>38001253</td>\n",
       "      <td>375756</td>\n",
       "      <td>379681</td>\n",
       "      <td>56045</td>\n",
       "      <td>52396</td>\n",
       "      <td>3649</td>\n",
       "    </tr>\n",
       "    <tr>\n",
       "      <th>3</th>\n",
       "      <td>2017</td>\n",
       "      <td>37989781</td>\n",
       "      <td>373569</td>\n",
       "      <td>383488</td>\n",
       "      <td>50552</td>\n",
       "      <td>52105</td>\n",
       "      <td>-1553</td>\n",
       "    </tr>\n",
       "    <tr>\n",
       "      <th>4</th>\n",
       "      <td>2018</td>\n",
       "      <td>37973268</td>\n",
       "      <td>370033</td>\n",
       "      <td>386849</td>\n",
       "      <td>52063</td>\n",
       "      <td>51760</td>\n",
       "      <td>303</td>\n",
       "    </tr>\n",
       "  </tbody>\n",
       "</table>\n",
       "</div>"
      ]
     },
     "execution_count": 28,
     "metadata": {},
     "output_type": "execute_result"
    }
   ],
   "execution_count": 28
  },
  {
   "metadata": {
    "ExecuteTime": {
     "end_time": "2024-11-14T16:45:22.402439Z",
     "start_time": "2024-11-14T16:45:22.390661Z"
    }
   },
   "cell_type": "code",
   "source": "df.info()",
   "outputs": [
    {
     "name": "stdout",
     "output_type": "stream",
     "text": [
      "<class 'pandas.core.frame.DataFrame'>\n",
      "RangeIndex: 37 entries, 0 to 36\n",
      "Data columns (total 7 columns):\n",
      " #   Column                                           Non-Null Count  Dtype\n",
      "---  ------                                           --------------  -----\n",
      " 0   Rok                                              37 non-null     int64\n",
      " 1   Ludność na 31 XII                                37 non-null     int64\n",
      " 2   Ruch naturalny – Urodzenia                       37 non-null     int64\n",
      " 3   Ruch naturalny – Zgony                           37 non-null     int64\n",
      " 4   Migracje zagraniczne na pobyt stały – Imigracja  37 non-null     int64\n",
      " 5   Migracje zagraniczne na pobyt stały – Emigracja  37 non-null     int64\n",
      " 6   Migracje zagraniczne na pobyt stały – Saldo      37 non-null     int64\n",
      "dtypes: int64(7)\n",
      "memory usage: 2.2 KB\n"
     ]
    }
   ],
   "execution_count": 29
  },
  {
   "cell_type": "code",
   "metadata": {
    "ExecuteTime": {
     "end_time": "2024-11-14T16:46:38.845837Z",
     "start_time": "2024-11-14T16:46:38.611539Z"
    }
   },
   "source": [
    "fig, ax = plt.subplots(figsize=(12, 8))\n",
    "# df[[\"Rok\", \"Migracje zagraniczne na pobyt stały – Saldo\"]].plot.bar(ax=ax)\n",
    "\n",
    "ax.bar(x=df[\"Rok\"], height=df[\"Migracje zagraniczne na pobyt stały – Saldo\"])\n",
    "\n",
    "plt.xticks(df[\"Rok\"], rotation=45)    # przechylenie nazw miesięcy na osi x o 45 stopni\n",
    "\n",
    "plt.tight_layout()    # po wygenerowaniu wykresu sprawdza czy elementy nie zachodzą na siebie\n",
    "plt.show()    # zamyka canvas"
   ],
   "outputs": [
    {
     "data": {
      "text/plain": [
       "<Figure size 1200x800 with 1 Axes>"
      ],
      "image/png": "[encoded data removed]"
     },
     "metadata": {},
     "output_type": "display_data"
    }
   ],
   "execution_count": 32
  },
  {
   "metadata": {
    "ExecuteTime": {
     "end_time": "2024-11-14T16:45:22.666749Z",
     "start_time": "2024-11-14T16:45:22.663057Z"
    }
   },
   "cell_type": "code",
   "source": "",
   "outputs": [],
   "execution_count": null
  }
 ],
 "metadata": {
  "kernelspec": {
   "display_name": "Python 3",
   "language": "python",
   "name": "python3"
  },
  "language_info": {
   "codemirror_mode": {
    "name": "ipython",
    "version": 3
   },
   "file_extension": ".py",
   "mimetype": "text/x-python",
   "name": "python",
   "nbconvert_exporter": "python",
   "pygments_lexer": "ipython3",
   "version": "3.9.2"
  }
 },
 "nbformat": 4,
 "nbformat_minor": 4
}
