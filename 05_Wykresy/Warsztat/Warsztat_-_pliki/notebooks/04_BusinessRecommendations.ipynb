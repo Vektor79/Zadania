{
 "cells": [
  {
   "cell_type": "markdown",
   "metadata": {},
   "source": [
    "# Wstęp\n",
    "\n",
    "Przechodzimy do ostatniej części warsztatu, która polega na sformułowaniu rekomendacji biznesowych. Nasze zadania to:\n",
    "- Wyznaczenie globalnego kursu bukmacherskiego,\n",
    "- Podział zbioru danych na kategorie: A, B, C, D, gdzie A to grupa najlepsza, a D to grupa najsłabsza,\n",
    "- Wyznaczenie ryzyka kursu w zależności od przyjętych parametrów dla każdej kategorii.\n",
    "\n",
    "Jako ostatnie zadanie, w formie dyskusji, musimy uwzględnić fakt, że jesteśmy początkującą firmą bukmacherską. Przy formułowaniu naszych rekomendacji musimy określić ryzyka, które mogą wpływać na naszą działalność. To zadanie wykonamy wspólnie w formie burzy mózgów. "
   ]
  },
  {
   "cell_type": "markdown",
   "metadata": {},
   "source": [
    "# Konfiguracja notatnika"
   ]
  },
  {
   "cell_type": "markdown",
   "metadata": {},
   "source": [
    "## Import wymaganych bibliotek"
   ]
  },
  {
   "cell_type": "code",
   "execution_count": null,
   "metadata": {},
   "outputs": [],
   "source": []
  },
  {
   "cell_type": "markdown",
   "metadata": {},
   "source": [
    "## Zaczytanie danych do obszaru roboczego\n",
    "\n",
    "> Pamiętaj o odpowiednim określeniu separatora kolumn"
   ]
  },
  {
   "cell_type": "code",
   "execution_count": null,
   "metadata": {},
   "outputs": [],
   "source": []
  },
  {
   "cell_type": "markdown",
   "metadata": {},
   "source": [
    "### Sprawdzenie poprawniości wczytania danych"
   ]
  },
  {
   "cell_type": "code",
   "execution_count": null,
   "metadata": {},
   "outputs": [],
   "source": []
  },
  {
   "cell_type": "markdown",
   "metadata": {},
   "source": [
    "# Wyznaczanie kursu bukmacherskiego\n",
    "\n",
    "Zapoznajmy się z treścią strony: [klik](https://trustbet.pl/kursy-bukmacherskie/), gdzie znajdują się informacje na temat metod wyznaczania kursów bukmacherskich. Na początek wyznaczymy globalny kurs, który będzie punktem wyjścia do naszej analizy (tzw. _baseline scenario_). W tym miejscu pomijamy marżę i zakładamy, że obliczamy kurs dziesiętny.\n",
    "\n",
    "Oto lista kroków, którą należy wykonać, aby otrzymać szukaną wartość:\n",
    "- uzupełnimy definicję funkcji `get_betting_odds`, która jako parametr przyjmie `prawdopodobieństwo` danego zdarzenia. Będzięmy z niej korzystać wielokrotnie, dlatego warto już w tym miejscu przygotować sobie jej impementację\n",
    "- następnie musimy odpowednio zagregować zbiór i wyznaczyć **globalne** prawdopodobieństwo zwycięstwa drużyny."
   ]
  },
  {
   "cell_type": "markdown",
   "metadata": {},
   "source": [
    "## Implementacje funkcji `get_betting_odds`"
   ]
  },
  {
   "cell_type": "code",
   "execution_count": null,
   "metadata": {},
   "outputs": [],
   "source": [
    "def get_betting_odds(probability):\n",
    "    pass"
   ]
  },
  {
   "cell_type": "markdown",
   "metadata": {},
   "source": [
    "### Kilka testów sprawdzające poprawność implementacji"
   ]
  },
  {
   "cell_type": "code",
   "execution_count": null,
   "metadata": {},
   "outputs": [],
   "source": [
    "def test_get_betting_odds():\n",
    "    assert get_betting_odds(1) == 1, \"Expected 1\"\n",
    "    assert get_betting_odds(0.5) == 2, \"Expected 2\"\n",
    "    assert get_betting_odds(0.25) == 4, \"Expected 4\"\n",
    "    assert get_betting_odds(0.1) == 10, \"Expected 10\"\n",
    "    try:\n",
    "        get_betting_odds(0)\n",
    "    except ZeroDivisionError:\n",
    "        pass\n",
    "    else:\n",
    "        assert False, \"Expected ZeroDivisionError\"\n",
    "\n",
    "    print(\"All tests passed!\")\n",
    "\n",
    "test_get_betting_odds()"
   ]
  },
  {
   "cell_type": "markdown",
   "metadata": {},
   "source": [
    "### Wyznaczenie globalnego kursu\n",
    "\n",
    "Tutaj wyznacz prawdopodobieństwo zwycięstwa dowolnej drużyny"
   ]
  },
  {
   "cell_type": "code",
   "execution_count": null,
   "metadata": {},
   "outputs": [],
   "source": []
  },
  {
   "cell_type": "markdown",
   "metadata": {},
   "source": [
    "Tutaj wyznacz globalny kurs używając funkcji `get_betting_ods`. Wynik zaokrągl do dwóch miejsc po przecinku."
   ]
  },
  {
   "cell_type": "code",
   "execution_count": null,
   "metadata": {},
   "outputs": [],
   "source": []
  },
  {
   "cell_type": "markdown",
   "metadata": {},
   "source": [
    "# Kategoryzacja zespołów\n",
    "\n",
    "Przedyskutujmy, w jaki sposób można dokonać klasyfikacji zespołów na _ligi_. Chcemy wyznaczyć 4 ligi:\n",
    "- A - liga składająca się z najlepszych zespołów,\n",
    "- B - liga składająca się z dobrych zespołów,\n",
    "- C - liga składająca się ze średnich zespołów,\n",
    "- D - liga składająca się z najsłabszych zespołów.\n",
    "\n",
    "Wyżej wymienione określenia są dość subiektywne, dlatego na potrzeby ćwiczeniowe przyjmiemy następujące założenia:\n",
    "- A - najlepsze 5% zespołów,\n",
    "- B - zespoły performujące lepiej od 70% zbioru, ale gorzej od ligi A,\n",
    "- C - zespoły performujące lepiej niż 20% zbioru, ale gorzej od ligi B,\n",
    "- D - pozostałe zespoły.\n",
    "\n",
    "W celu wykonania tego zadania zaimplementujemy dodatkowo funkcję `assign_team_to_league`.\n",
    "\n",
    "> Uwaga: To zadanie wygląda niepozornie, ale jest trudne. Pamiętaj, że w trakcie zajęć masz do dyspozycji wykładowcę, a później mentora."
   ]
  },
  {
   "cell_type": "markdown",
   "metadata": {},
   "source": [
    "## Wyznaczenie punktów odcięcia dla poszczególnych lig"
   ]
  },
  {
   "cell_type": "code",
   "execution_count": null,
   "metadata": {},
   "outputs": [],
   "source": [
    "def assign_team_to_league(x):\n",
    "    pass"
   ]
  },
  {
   "cell_type": "code",
   "execution_count": null,
   "metadata": {},
   "outputs": [],
   "source": []
  },
  {
   "cell_type": "markdown",
   "metadata": {},
   "source": [
    "## Wyznaczenie kursów per liga\n",
    "\n",
    "W tym miejscu ustalamy kursy bukmacherskie dla każdej ligi, co pozwoli nam na sformułowanie ostatecznych wniosków i ustalenie podstawowych kursów dla poszczególnych zespołów. \n",
    "\n",
    "> Pamiętaj: Po wygeneriowaniu wyników, warto sprawdzić, czy są racjonalne."
   ]
  },
  {
   "cell_type": "code",
   "execution_count": null,
   "metadata": {},
   "outputs": [],
   "source": []
  },
  {
   "cell_type": "markdown",
   "metadata": {},
   "source": [
    "# Dyskusja\n",
    "\n",
    "Otrzymaliśmy pewne wartości kursów notowania per liga. Ale jakie to ma teraz przełożenie na rzeczywisty biznes? W całym zadaniu chodziło przecież właśnie o wyznaczenie pewnych wartości, od których zakład może zacząć pracę. Poprawne ich wyznaczenie jest krytyczne, aby klienci chcieli zawierać u nas zakłady, a z drugiej strony nieodpowiednie ich wyznaczenie może prowadzić do strat finansowych już w pierwszych dniach działalności.\n",
    "\n",
    "Z tego powodu, przed przełożeniem wyników oraz rekomendacji na cele biznesowe, analiza jest poddawana dyskusji. Dlatego, w tym momencie wcielimy się w rolę recenzującą naszą pracę i chcielibyśmy poddać kroki weryfikacji. W tym celu wspólnie przedyskutujemy oraz poddamy krytyce naszą pracę, odpowiedzmy sobie wspólnie na poniższe pytania:\n",
    "- jakie elementy analizy zostały uproszczone? Co zostało pominięte w analizie?\n",
    "- czy w tak oszacowanych kursach pojawiają się nieścisłości? Jakie?\n",
    "- w jaki sposób możemy poprawić oszacowania kursów?\n",
    "- jak można by wzbogacić nasz wyjściowy zbiór, aby oszacowania były dokładniejsze i obarczone mniejszym ryzykiem?\n",
    "- w jaki sposób możemy zasymulować wyniki naszej analizy, aby zweryfikować, czy nie prowadzą one do strat finansowych?\n",
    "\n",
    "To jest panel dyskusyjny, tutaj każdy pomysł jest na wagę złota.\n"
   ]
  }
 ],
 "metadata": {
  "kernelspec": {
   "display_name": ".venv",
   "language": "python",
   "name": "python3"
  },
  "language_info": {
   "codemirror_mode": {
    "name": "ipython",
    "version": 3
   },
   "file_extension": ".py",
   "mimetype": "text/x-python",
   "name": "python",
   "nbconvert_exporter": "python",
   "pygments_lexer": "ipython3",
   "version": "3.12.2"
  }
 },
 "nbformat": 4,
 "nbformat_minor": 2
}
