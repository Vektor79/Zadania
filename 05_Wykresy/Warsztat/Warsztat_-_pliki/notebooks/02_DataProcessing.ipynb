{
 "cells": [
  {
   "cell_type": "markdown",
   "metadata": {},
   "source": [
    "# Wstęp\n",
    "\n",
    "Celem tego zadania jest ekstrakcja i zapis informacji o zespołach hokejowych do formatu JSON, bazując na danych pochodzących z plików umieszczonych w katalogu `/data/raw`, które zostały wygenerowane w poprzednim etapie. Informacje, które należy wyscrapować i zapisać, obejmują:  \n",
    "  \n",
    "- Nazwa zespołu (`Team Name`),  \n",
    "- Rok (`Year`),  \n",
    "- Liczba zwycięstw (`Wins`),  \n",
    "- Liczba porażek (`Losses`),  \n",
    "- Liczba porażek po dogrywce (`OT Losses` - Overtime Losses),  \n",
    "- Procent zwycięstw (`Win %`),  \n",
    "- Liczba strzelonych goli (`Goals For (GF)`),  \n",
    "- Liczba straconych goli (`Goals Against (GA)`),  \n",
    "- Bilans goli (`+ / -`).  \n",
    "  \n",
    "Każdy zebrany rekord należy zorganizować w słownik o strukturze przedstawionej poniżej, a następnie dodać go do listy wynikowej:  \n",
    "  \n",
    "```python  \n",
    "{  \n",
    "    'Team Name': 'Boston Bruins',  \n",
    "    'Year': '1990',  \n",
    "    'Wins': '44',  \n",
    "    'Losses': '24',  \n",
    "    'OT Losses': '',  \n",
    "    'Win %': '0.55',  \n",
    "    'Goals For (GF)': '299',  \n",
    "    'Goals Against (GA)': '264',  \n",
    "    '+ / -': '35'  \n",
    "}  \n",
    "```\n",
    "\n",
    "Pojedyncze elementy wkładaj do listy wynikowej.\n",
    "\n",
    "Wynikowe dane mają być zapisane w pliku o nazwie hockey_teams.json, który umieszczony zostanie w folderze `data/interim/`. Ten plik posłuży jako źródło danych do dalszej analizy w kolejnej części warsztatu.\n",
    "\n",
    "> W tym momencie konwersja HTML na JSON może wydawać się zawiła i niepotrzebna, jednak ma na celu utrwalenie wiedzy dotyczącej tej struktury danych ze względu na swoją uniwersalność i powszechność nie tylko w świecie analizy danych ale ogólnie IT\n"
   ]
  },
  {
   "cell_type": "markdown",
   "metadata": {},
   "source": [
    "# Konfiguracja notatnika\n",
    "\n",
    "## Import wymaganych bibliotek"
   ]
  },
  {
   "cell_type": "code",
   "execution_count": null,
   "metadata": {},
   "outputs": [],
   "source": []
  },
  {
   "cell_type": "markdown",
   "metadata": {},
   "source": [
    "# Scrapowanie\n",
    "\n",
    "Aby wyscrapować wymagane informacje z zapisanych plików, wykonaj następujące kroki:  \n",
    "  \n",
    "1. Znajdź wszystkie pliki HTML w folderze `data/raw` za pomocą modułu `glob`.  \n",
    "2. Dla każdego pliku HTML, użyj `BeautifulSoup` do scrapowania strony i ekstrakcji potrzebnych danych.  \n",
    "3. Zapisz uzyskane dane jako częściowo przetworzone w pliku `hockey_teams.json` w folderze `/data/interim/`.  \n",
    "  \n",
    "Te kroki pozwolą na efektywne przetwarzanie danych z plików HTML i przygotowanie ich do dalszej analizy."
   ]
  },
  {
   "cell_type": "markdown",
   "metadata": {},
   "source": [
    "## Lista plików HTML\n",
    "\n",
    "Używając modułu `glob` znajdź wszystkie pliki `html` w folderze `data/raw`"
   ]
  },
  {
   "cell_type": "code",
   "execution_count": null,
   "metadata": {},
   "outputs": [],
   "source": []
  },
  {
   "cell_type": "markdown",
   "metadata": {},
   "source": [
    "## Scrapowanie\n",
    "\n",
    "Przeprowadź ekstrakcję danych z plików `html`, zwracając uwagę na zachowanie oczekiwanej struktury pojedynczego rekordu:  \n",
    "\n",
    "```python\n",
    "{\n",
    "    'Team Name': 'Boston Bruins',\n",
    "    'Year': '1990',\n",
    "    'Wins': '44',\n",
    "    'Losses': '24',\n",
    "    'OT Losses': '',\n",
    "    'Win %': '0.55',\n",
    "    'Goals For (GF)': '299',\n",
    "    'Goals Against (GA)': '264',\n",
    "    '+ / -': '35'\n",
    "}\n",
    "```"
   ]
  },
  {
   "cell_type": "code",
   "execution_count": null,
   "metadata": {},
   "outputs": [],
   "source": []
  },
  {
   "cell_type": "markdown",
   "metadata": {},
   "source": [
    "# Podsumowanie\n",
    "\n",
    "Po wyodrębnieniu istotnych informacji, ostatnim etapem przygotowania do analizy jest zapisanie danych na dysk.\n",
    "\n",
    "### Zapis pliku\n",
    "Tutaj zapisz dane do `data/iterim/` a nazwę pliku przyjmij `hockey_teams.json`\n",
    "\n",
    "> Uwaga: Pamiętaj o wcześniejszym zaimportowaniu odpowiedniej biblioteki do obsługi formatu JSON. "
   ]
  },
  {
   "cell_type": "code",
   "execution_count": null,
   "metadata": {},
   "outputs": [],
   "source": []
  }
 ],
 "metadata": {
  "kernelspec": {
   "display_name": ".venv",
   "language": "python",
   "name": "python3"
  },
  "language_info": {
   "codemirror_mode": {
    "name": "ipython",
    "version": 3
   },
   "file_extension": ".py",
   "mimetype": "text/x-python",
   "name": "python",
   "nbconvert_exporter": "python",
   "pygments_lexer": "ipython3",
   "version": "3.12.2"
  }
 },
 "nbformat": 4,
 "nbformat_minor": 2
}
