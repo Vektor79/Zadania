{
 "cells": [
  {
   "cell_type": "markdown",
   "metadata": {},
   "source": [
    "# Wstęp - Analiza eksploracyjna\n",
    "\n",
    "W tym notatniku zajmiemy się analizą danych, które wcześniej przygotowaliśmy w ścieżce: `data/interim/hockey_teams.json`. Plik ten, będąc częściowo przetworzonym, jest łatwo dostępny do importu i przygotowany do ściślej analizy analitycznej.  \n",
    "  \n",
    "Ta część warsztatu skupi się na wykorzystaniu `pandas` oraz `matplotlib`, które były omawiane w trakcie kursu. Głównym celem jest zaznajomienie się ze zbiorem danych, nad którym pracujemy. Dzięki serii ćwiczeń:  \n",
    "- zapoznamy się ze strukturą danych,  \n",
    "- przeprowadzimy elementarną eksplorację danych (EDA).  \n",
    "  \n",
    "## Opis kolumn  \n",
    "  \n",
    "Poniżej znajduje się krótki opis poszczególnych kolumn z naszego zbioru danych:  \n",
    "  \n",
    "- **Team Name**: Nazwa drużyny biorącej udział w meczu.  \n",
    "- **Year**: Rok, w którym odbywa się sezon.  \n",
    "- **Wins**: Liczba meczów wygranych przez drużynę w danym\n",
    "- **Losses** - Liczba meczów przegranych przez drużynę w danym sezonie.\n",
    "- **OT Losses** - Liczba meczów przegranych przez drużynę po dogrywce w danym sezonie.\n",
    "- **Win %** - Procent wygranych meczów przez drużynę w danym sezonie.\n",
    "- **Goals For (GF)** - Liczba goli strzelonych przez drużynę w danym sezonie.\n",
    "- **Goals Against (GA)** - Liczba goli straconych przez drużynę w danym sezonie.\n",
    "- **\\+ / -** - Różnica między liczbą goli strzelonych a straconych przez drużynę w danym sezonie.\n",
    "\n",
    "> Uwaga: Na tym etapie celowo dokonano pewnych istotnych uproszczeń w analizie i nie zostaną one podane wprost, celem poddania dyskusji na końcu warsztatu."
   ]
  },
  {
   "cell_type": "markdown",
   "metadata": {},
   "source": [
    "# Przygotowanie\n",
    "\n",
    "## Import bibliotek\n",
    "Tutaj załaduj biblioteki, które będą potrzebne w dalszych krokach"
   ]
  },
  {
   "cell_type": "code",
   "execution_count": null,
   "metadata": {},
   "outputs": [],
   "source": []
  },
  {
   "cell_type": "markdown",
   "metadata": {},
   "source": [
    "# Załadowanie zbioru danych\n",
    "\n",
    "Zalecamy wczytanie surowych danych do zmiennej z dopiskiem `_raw`. Pozwoli to na uniknięcie konieczności ponownego wczytywania danych od początku w przypadku błędu, co może być procesem czasochłonnym.  \n",
    "  \n",
    "> **Wskazówka:** Plik `json` można łatwo załadować za pomocą `pandas`, wykorzystując funkcję `read_json` - [klik](https://pandas.pydata.org/docs/reference/api/pandas.read_json.html)  "
   ]
  },
  {
   "cell_type": "markdown",
   "metadata": {},
   "source": [
    "tutaj załaduj dane z pliku `hockey_teams`"
   ]
  },
  {
   "cell_type": "code",
   "execution_count": null,
   "metadata": {},
   "outputs": [],
   "source": []
  },
  {
   "cell_type": "markdown",
   "metadata": {},
   "source": [
    "tutaj sprawdź, czy dane załadowały się poprawnie"
   ]
  },
  {
   "cell_type": "code",
   "execution_count": null,
   "metadata": {},
   "outputs": [],
   "source": []
  },
  {
   "cell_type": "markdown",
   "metadata": {},
   "source": [
    "# Wstępna transformacja danych"
   ]
  },
  {
   "cell_type": "markdown",
   "metadata": {},
   "source": [
    "## Ujednoliczenie nazw kolumn\n",
    "\n",
    "Aktualnie nasz zbiór danych zawiera oryginalne nazwy kolumn, które z technicznego punktu widzenia, nie powinny zawierać spacji ani innych znaków specjalnych.  \n",
    "  \n",
    "W tej sekcji ujednolicimy i uprościmy nazewnictwo, aby ułatwić obróbkę danych w kolejnych etapach. Zastosujemy następujące mapowanie nazw kolumn:  \n",
    "  \n",
    "- **Team Name** -> `team`  \n",
    "- **Year** -> `season`  \n",
    "- **Wins** -> `victories`  \n",
    "- **Losses** -> `defeats`  \n",
    "- **OT Losses** -> `overtime_defeats`  \n",
    "- **Win %** -> `victory_percentage`  \n",
    "- **Goals For (GF)** -> `scored_goals`  \n",
    "- **Goals Against (GA)** -> `received_goals`  \n",
    "- **\\+ / -** -> `goal_difference`  \n",
    "  \n",
    "> W tym miejscu zalecamy stworzenie nowej ramki danych, bez dopisku `_raw`. Przykładowo, jeśli dane zostały załadowane do zmiennej `df_raw`, teraz chcemy pracować na zmiennej `df`, gdzie dokonamy modyfikacji nazw kolumn.  "
   ]
  },
  {
   "cell_type": "code",
   "execution_count": null,
   "metadata": {},
   "outputs": [],
   "source": []
  },
  {
   "cell_type": "markdown",
   "metadata": {},
   "source": [
    "## Usunięcie pustych wartości\n",
    "\n",
    "Jak można zauważyć, kolumna `overtime_defeats` zawiera wiele wartości pustych, a oczekiwany typ danych to `int`. Przed przystąpieniem do dalszej analizy, należy odpowiednio przygotować tę kolumnę.  \n",
    "  \n",
    "W tym celu wykonamy następujące kroki:  \n",
    "- Sprawdzimy, jaki znak jest używany jako indykator pustego pola.  \n",
    "- Puste pola wypełnimy wartością 0.  \n",
    "- Następnie przekonwertujemy typ danych tej kolumny na `int`.  \n",
    "  \n",
    "Dzięki tym krokom, kolumna `overtime_defeats` będzie gotowa do dalszej analizy.  "
   ]
  },
  {
   "cell_type": "markdown",
   "metadata": {},
   "source": [
    "### Znalezienie indykatora pustego znaku"
   ]
  },
  {
   "cell_type": "code",
   "execution_count": null,
   "metadata": {},
   "outputs": [],
   "source": []
  },
  {
   "cell_type": "markdown",
   "metadata": {},
   "source": [
    "### Nadpisanie pustych wartości przy użyciu 0"
   ]
  },
  {
   "cell_type": "code",
   "execution_count": null,
   "metadata": {},
   "outputs": [],
   "source": []
  },
  {
   "cell_type": "markdown",
   "metadata": {},
   "source": [
    "### Konwersja typu kolumny"
   ]
  },
  {
   "cell_type": "code",
   "execution_count": null,
   "metadata": {},
   "outputs": [],
   "source": []
  },
  {
   "cell_type": "markdown",
   "metadata": {},
   "source": [
    "# Wstęp do analizy zbioru\n",
    "\n",
    "W tej części skupimy się na odpowiedziach na podstawowe pytania dotyczące naszego zbioru danych w kontekście rozgrywek hokejowych. Celem jest zapoznanie się ze zbiorem danych i wyrobienie intuicji na jego temat.  \n",
    "  \n",
    "Oto lista ćwiczeń, które wykonamy, aby znaleźć odpowiedzi na kluczowe pytania:  \n",
    "  \n",
    "- Ile zespołów brało udział w rozgrywkach ligowych na przestrzeni lat?  \n",
    "- Jaka jest całkowita liczba dostępnych sezonów?  \n",
    "- Jaka jest rozpiętość danych czasowych?  \n",
    "- Czy w kolumnach numerycznych występują podejrzane lub odstające wartości?  \n",
    "  \n",
    "Te ćwiczenia pozwolą nam lepiej zrozumieć strukturę i charakter naszych danych.  "
   ]
  },
  {
   "cell_type": "markdown",
   "metadata": {},
   "source": [
    "### Liczba zespołów, które brały udział w rozgrywkach ligowych\n",
    "\n",
    "Tutaj wyznacz ogólną liczbę zespołów, które są dostępne w naszym zbiorze danych"
   ]
  },
  {
   "cell_type": "code",
   "execution_count": null,
   "metadata": {},
   "outputs": [],
   "source": []
  },
  {
   "cell_type": "markdown",
   "metadata": {},
   "source": [
    "### Liczba sezonów ogółem\n",
    "\n",
    "Tutaj wyznacz liczbę sezonów ogółem."
   ]
  },
  {
   "cell_type": "code",
   "execution_count": null,
   "metadata": {},
   "outputs": [],
   "source": []
  },
  {
   "cell_type": "markdown",
   "metadata": {},
   "source": [
    "### Rozpiętość danych czasowych\n",
    "\n",
    "W tym miejscu zbadamy dostępność danych dla poszczególnych sezonów. Analizę przeprowadzimy w dwóch etapach:  \n",
    "- Najpierw ustalimy zakres czasowy danych, identyfikując rok początkowy (`start_year`) oraz rok końcowy (`end_year`). Pozwoli to na ustalenie, dla których sezonów posiadamy informacje.  \n",
    "- Następnie zwrócimy uwagę na ewentualne luki w danych czasowych, aby upewnić się, że posiadamy kompletny zestaw informacji dla każdego sezonu.  "
   ]
  },
  {
   "cell_type": "markdown",
   "metadata": {},
   "source": [
    "W tym miejscu wyznaczymy rok początkowy oraz końcowy danych:"
   ]
  },
  {
   "cell_type": "code",
   "execution_count": null,
   "metadata": {},
   "outputs": [],
   "source": []
  },
  {
   "cell_type": "markdown",
   "metadata": {},
   "source": [
    "Tutaj sprawdzimy, czy dla każdego roku z wyznaczonego przedziału występują dane:"
   ]
  },
  {
   "cell_type": "code",
   "execution_count": null,
   "metadata": {},
   "outputs": [],
   "source": []
  },
  {
   "cell_type": "markdown",
   "metadata": {},
   "source": [
    "### Analiza kolumn numerycznych\n",
    "\n",
    "Tutaj sprawdzimy podstawowe statystyki opisowe dla kolumn numerycznych.\n",
    "\n",
    "W tym celu dokonaj opisu oraz analizy wyników dla kolumn:\n",
    "\n",
    "- victories\n",
    "- defeats\n",
    "- overtime_defeats\n",
    "- victory_percentage\n",
    "- scored_goals\n",
    "- received_goals\n",
    "- goal_difference\n",
    "\n",
    "Interesują nas następujące statystyki:\n",
    "- średnia,\n",
    "- liczebność,\n",
    "- odchylenie standardowe,\n",
    "- percentyle = `[0, 0.05, 0.1, 0.25, 0.5, 0.75, 0.9, 0.95, 1]`"
   ]
  },
  {
   "cell_type": "code",
   "execution_count": null,
   "metadata": {},
   "outputs": [],
   "source": []
  },
  {
   "cell_type": "markdown",
   "metadata": {},
   "source": [
    "# `team`\n",
    "\n",
    "W tej części wykonamy serię analiz poszczególnych zespołów występujących w ligach. Dzięki temu poznamy zespoły, które najlepiej wypadały w rozgrywkach na przestrzeni lat.\n"
   ]
  },
  {
   "cell_type": "markdown",
   "metadata": {},
   "source": [
    "\n",
    "## Analiza uczestnictwa zespołów w sezonach ligowych\n",
    "\n",
    "Wykonajmy następujące ćwiczenia:  \n",
    "- Sprawdźmy, ile zespołów wystąpiło we wszystkich sezonach wybranej ligi.  \n",
    "- Wyświetlmy listę tych zespołów.  "
   ]
  },
  {
   "cell_type": "code",
   "execution_count": null,
   "metadata": {},
   "outputs": [],
   "source": []
  },
  {
   "cell_type": "markdown",
   "metadata": {},
   "source": [
    "Lista drużyn, które wystąpiły we wszystkich sezonach rozgrywek hockeya:"
   ]
  },
  {
   "cell_type": "code",
   "execution_count": null,
   "metadata": {},
   "outputs": [],
   "source": []
  },
  {
   "cell_type": "markdown",
   "metadata": {},
   "source": [
    "Liczba drużyn, które wystąpiły we wszystkich sezonach: "
   ]
  },
  {
   "cell_type": "code",
   "execution_count": null,
   "metadata": {},
   "outputs": [],
   "source": []
  },
  {
   "cell_type": "markdown",
   "metadata": {},
   "source": [
    "## Najlepiej performujące zespół w historii ligii\n",
    "\n",
    "Wyznaczmy listę pięciu najlepszych zespołów z najwyższym średnim wskaźnikiem `victory_percentage` przez wszystkie lata, przedstawiając dane z podziałem na poszczególne zespoły i sezony.  "
   ]
  },
  {
   "cell_type": "code",
   "execution_count": null,
   "metadata": {},
   "outputs": [],
   "source": []
  },
  {
   "cell_type": "markdown",
   "metadata": {},
   "source": [
    "## Top zespóły w historii\n",
    "\n",
    "Wyznaczmy top 5 zespołów, które wygrały najwięcej lig w całej historii. Zastanówmy się, czy na podstawie dostępnych danych można wyłonić jeden zespół, który jednoznacznie zasługuje na miano najlepszego w historii.  \n",
    "  \n",
    "Dla uproszczenia przyjmijmy, że za zwycięzcę ligi uznajemy zespół z największą liczbą zwycięstw w danym sezonie.  \n",
    "\n",
    "> Wskazówka: Mogą przydać się informacje zawarte w artykule `Pandas > Podsumowanie zjazdu 4 > Funkcje analityczne`"
   ]
  },
  {
   "cell_type": "code",
   "execution_count": null,
   "metadata": {},
   "outputs": [],
   "source": []
  },
  {
   "cell_type": "markdown",
   "metadata": {},
   "source": [
    "Dodatkowo, określimy, ile zespołów nigdy **nie wygrało żadnego sezonu**.  \n",
    "  \n",
    "> **Uwaga:** To zadanie może wydawać się bardziej skomplikowane, niż na pierwszy rzut oka. Pamiętaj, że podczas zajęć możesz liczyć na pomoc wykładowcy, a poza nimi - na wsparcie mentora. "
   ]
  },
  {
   "cell_type": "code",
   "execution_count": null,
   "metadata": {},
   "outputs": [],
   "source": []
  },
  {
   "cell_type": "markdown",
   "metadata": {},
   "source": [
    "# `overtime_defeats`\n",
    "\n",
    "Zmienna `overtime_defeats` informuje nas, ile razy zespół w ciągu roku przegrał w doliczonym czasie gry.  \n",
    "  \n",
    "W tej części wykonamy następujące ćwiczenia:  \n",
    "- Zidentyfikujemy zespół, który najczęściej przegrywał w doliczonym czasie gry.  \n",
    "- Dokonamy rankingu zespołów na podstawie liczby przegranych w doliczonym czasie gry.  \n",
    "- Obliczymy, jaki procent zespołów przegrał co najmniej raz w doliczonym czasie gry.  \n",
    "- Wyznaczymy sezon z największą liczbą gier rozstrzygniętych w doliczonym czasie gry.  \n",
    "  \n",
    "> Upewnijmy się, że kolumna `overtime_defeats` jest typu numerycznego!  "
   ]
  },
  {
   "cell_type": "markdown",
   "metadata": {},
   "source": [
    "## Zespół przegrywający najczęściej w doliczonym czasie gry\n",
    "\n",
    "> Uwaga: W celu rozwiązania tego zadania może się przydać ten artykuł: `Pandas > Podusmowanie zjazdu > Funckje analityczne`"
   ]
  },
  {
   "cell_type": "code",
   "execution_count": null,
   "metadata": {},
   "outputs": [],
   "source": []
  },
  {
   "cell_type": "markdown",
   "metadata": {},
   "source": [
    "## odsetek zespołów przegrywających w doliczonym czasie gry\n",
    "\n",
    "Wynik tego zadania zaokrąglimy do dwóch miejsc po przecinku"
   ]
  },
  {
   "cell_type": "code",
   "execution_count": null,
   "metadata": {},
   "outputs": [],
   "source": []
  },
  {
   "cell_type": "markdown",
   "metadata": {},
   "source": [
    "# `goals_ratio`\n",
    "\n",
    "Na podstawie zmiennych `scored_goals` oraz `received_goals` stworzymy nową zmienną - `goals_ratio`, definiowaną jako stosunek liczby goli strzelonych do liczby goli straconych.  \n",
    "  \n",
    "Zanim przejdziemy do rozwiązania zadania, rozważmy następujące kwestie:  \n",
    "- Jakie wartości statystyki `goals_ratio` można uznać za wskazujące na dobrą lub słabą wydajność zespołu?  \n",
    "- W jakich sytuacjach możemy stwierdzić, że zespół wypadł lepiej lub gorzej na podstawie wartości `goals_ratio`?  "
   ]
  },
  {
   "cell_type": "markdown",
   "metadata": {},
   "source": [
    "## Stworzenie zmiennej"
   ]
  },
  {
   "cell_type": "code",
   "execution_count": null,
   "metadata": {},
   "outputs": [],
   "source": []
  },
  {
   "cell_type": "markdown",
   "metadata": {},
   "source": [
    "tutaj dokonamy podstawowej analizy zmiennej wyznaczając statystyki takie jak:\n",
    "- średnia\n",
    "- odchylenie standardowe\n",
    "- kwantyle 2, 3, 4\n",
    "\n",
    "zastanówmy się co wynika z takiego podsumowania. Czy na tej postawie można powiedzieć że ta statystyka posiada wartości odstające?"
   ]
  },
  {
   "cell_type": "code",
   "execution_count": null,
   "metadata": {},
   "outputs": [],
   "source": []
  },
  {
   "cell_type": "markdown",
   "metadata": {},
   "source": [
    "## Rozkład zmiennej `goals_ratio`\n",
    "\n",
    "Wygenerujmy rozkład zmiennej `goals_ratio` przy użyciu funkcji `plt.hist` z biblioteki `matplotlib`, wykonując zadanie w dwóch wariantach:  \n",
    "- z liczbą binów wyznaczoną za pomocą reguły Rice'a,  \n",
    "- z liczbą binów wyznaczoną za pomocą reguły pierwiastka kwadratowego.  \n",
    "  \n",
    "Metody i wzory na wyznaczenie liczby przedziałów w histogramie znajdują się pod tym linkiem: [Wyznaczanie liczby przedziałów w histogramie](https://www.statology.org/sturges-rule/).  \n",
    "  \n",
    "**Wskazówka:** Aby wyznaczyć rozkład zmiennej przy użyciu `matplotlib`, można skorzystać z funkcji `hist`, dostępnej tutaj: [Dokumentacja funkcji hist](https://matplotlib.org/stable/api/_as_gen/matplotlib.pyplot.hist.html).  \n",
    "  \n",
    "Co to jest sufit i podłoga liczby - [Podłoga i sufit liczby - Wikipedia](https://en.wikipedia.org/wiki/Floor_and_ceiling_functions)\n",
    "> Ciekawostka: W jaki sposób wyznaczyć sufit z liczby w Python nie korzystająć z dodatkowych bibliotek?"
   ]
  },
  {
   "cell_type": "markdown",
   "metadata": {},
   "source": [
    "### Histogram zmiennej używając reguły Rice'a"
   ]
  },
  {
   "cell_type": "code",
   "execution_count": null,
   "metadata": {},
   "outputs": [],
   "source": []
  },
  {
   "cell_type": "markdown",
   "metadata": {},
   "source": [
    "### Histogram zmiennej używając reguły pierwiastka kwadratowego"
   ]
  },
  {
   "cell_type": "code",
   "execution_count": null,
   "metadata": {},
   "outputs": [],
   "source": []
  },
  {
   "cell_type": "markdown",
   "metadata": {},
   "source": [
    "# `victory_percentage`\n",
    "\n",
    "Podobnie jak w przypadku analizy zmiennej `goals_ratio`, przeprowadzimy analizę eksploracyjną `victory_percentage`, wykonując następujące kroki:  \n",
    "- Wyznaczymy podstawowe statystyki opisowe, takie jak średnia, mediana, odchylenie standardowe, minimum i maksimum.  \n",
    "- Zbadamy rozkład zmiennej, korzystając z histogramu aby lepiej zrozumieć jej charakterystykę.  \n",
    "- Sprawdzimy, czy w analizowanej zmiennej pojawiają się oczywiste podgrupy zespołów, które można by było wyznaczyć na podstawie określonych kryteriów, takich jak zakres wartości zmiennej.  "
   ]
  },
  {
   "cell_type": "markdown",
   "metadata": {},
   "source": [
    "### statystyki opisowe"
   ]
  },
  {
   "cell_type": "code",
   "execution_count": null,
   "metadata": {},
   "outputs": [],
   "source": []
  },
  {
   "cell_type": "markdown",
   "metadata": {},
   "source": [
    "### rozkład\n",
    "\n",
    "Tutaj stworzymy rozkład zmiennej, nie będziemy jednak robić tego w dwóch wersjach, wybierzemy inną, dowolną liczbę przedziałów."
   ]
  },
  {
   "cell_type": "code",
   "execution_count": null,
   "metadata": {},
   "outputs": [],
   "source": []
  },
  {
   "cell_type": "markdown",
   "metadata": {},
   "source": [
    "# `goals_ratio` vs `victory_percentage`\n",
    "\n",
    "Już przeanalizowaliśmy `goals_ratio` oraz `victory_percentage` jako dwie oddzielne zmienne. Teraz naszym zadaniem będzie przeanalizować je razem, aby zidentyfikować potencjalne wzajemne zależności między nimi.  \n",
    "  \n",
    "W tym kroku wykonamy następujące ćwiczenia:  \n",
    "- Przed rozpoczęciem analizy, zastanówmy się, czy te zmienne mogą być od siebie zależne czy niezależne. Jakiego rodzaju relacji można się spodziewać na podstawie ich opisu biznesowego?  \n",
    "- Stwórzymy wykres punktowy (`scatterplot`), aby wizualnie przedstawić zależności między tymi zmiennymi.  \n",
    "- Określimy relację pomiędzy zmiennymi na podstawie wykresu punktowego.  \n",
    "- Przeanalizujemy wykres pod kątem identyfikacji obserwacji odstających, zwracając szczególną uwagę na ich wspólny rozkład. "
   ]
  },
  {
   "cell_type": "markdown",
   "metadata": {},
   "source": [
    "## Scatterplot zmiennych\n",
    "\n",
    "Teraz stworzymy wykres punktowy dla obu analizowanych zmiennych, `goals_ratio` i `victory_percentage`. Po wykonaniu tego kroku, odpowiedzmy na następujące pytania:  \n",
    "- Jaka relacja występuje pomiędzy zmiennymi `goals_ratio` i `victory_percentage`?  \n",
    "- Czy na wykresie można zidentyfikować obserwacje odstające? Jeśli tak, to jakie kryteria zostały użyte do ich identyfikacji? "
   ]
  },
  {
   "cell_type": "code",
   "execution_count": null,
   "metadata": {},
   "outputs": [],
   "source": []
  },
  {
   "cell_type": "markdown",
   "metadata": {},
   "source": [
    "> miejsce na notatki dotyczące analizy wykresu"
   ]
  },
  {
   "cell_type": "markdown",
   "metadata": {},
   "source": [
    "Jeśli zidentyfikowaliśmy obserwacje odstające na wcześniejszym etapie analizy, teraz przejdźmy do zbadania tych konkretnych przypadków. Skupimy się na obserwacjach odstających względem zmiennych `goals_ratio` i `victory_percentage`, aby zrozumieć, jakie cechy je wyróżniają.  \n",
    "  \n",
    "Należy dokonać następujących kroków analizy:  \n",
    "1. Zidentyfikuj konkretne obserwacje odstające, które zostały wcześniej wykryte.  \n",
    "2. Przeanalizuj charakterystyki tych obserwacji, zwracając uwagę na ich wartości dla zmiennych `goals_ratio` i `victory_percentage`.  \n",
    "3. Spróbuj zrozumieć, co mogło być przyczyną ich odstającej natury. Czy są to przypadki anomalii, czy też mogą być wynikiem naturalnych wahań w danych? "
   ]
  },
  {
   "cell_type": "code",
   "execution_count": null,
   "metadata": {},
   "outputs": [],
   "source": []
  },
  {
   "cell_type": "markdown",
   "metadata": {},
   "source": [
    "# Podsumowanie\n",
    "\n",
    "W ramach tego notatnika przeprowadziliśmy podstawową analizę eksploracyjną naszego zbioru danych. Dane zostały oczyszczone, a następnie wzbogacone o nowe zmienne, które poddaliśmy dodatkowej analizie. Ostatnim krokiem tej części jest zapisanie przetworzonych danych do pliku CSV.  \n",
    "  \n",
    "**Zapiszmy naszą ramkę danych do pliku:** `data/processed/hockey_teams.csv`, używając średnika (`;`) jako separatora kolumn. \n",
    "\n",
    "Następnie, w kolejnym etapie naszej pracy, zaproponujemy kursy bukmacherskie na podstawie analizowanych danych historycznych oraz przeprowadzimy dyskusję na temat wyników tej analizy."
   ]
  },
  {
   "cell_type": "markdown",
   "metadata": {},
   "source": [
    "### Zapis ramki do docelowej lokalizacji\n",
    "\n",
    "- nazwa pliku: `data/processed/hockey_teams.csv`,\n",
    "- separator kolumn: `;`,\n",
    "- pamiętajmy o wyłączeniu zapisu indeksów."
   ]
  },
  {
   "cell_type": "code",
   "execution_count": null,
   "metadata": {},
   "outputs": [],
   "source": []
  }
 ],
 "metadata": {
  "kernelspec": {
   "display_name": ".venv",
   "language": "python",
   "name": "python3"
  },
  "language_info": {
   "codemirror_mode": {
    "name": "ipython",
    "version": 3
   },
   "file_extension": ".py",
   "mimetype": "text/x-python",
   "name": "python",
   "nbconvert_exporter": "python",
   "pygments_lexer": "ipython3",
   "version": "3.12.2"
  }
 },
 "nbformat": 4,
 "nbformat_minor": 2
}
