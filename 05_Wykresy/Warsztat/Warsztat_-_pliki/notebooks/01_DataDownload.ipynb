{
 "cells": [
  {
   "cell_type": "markdown",
   "metadata": {},
   "source": [
    "# Wstęp\n",
    "\n",
    "Pierwszym krokiem w naszym zadaniu jest pobranie danych niezbędnych do analizy. Jako że nasza firma jest w początkowej fazie rozwoju i nie posiada własnej bazy danych, zamierzamy wykorzystać publicznie dostępne zasoby.  \n",
    "  \n",
    "Do tego celu została nam polecona strona [Scrape This Site](https://www.scrapethissite.com/pages/forms/). Zanim jednak przystąpimy do pobierania danych, ważne jest, aby dokładnie zapoznać się z sekcją [FAQ](https://www.scrapethissite.com/faq/) na stronie. Należy zwrócić szczególną uwagę na ograniczenia dotyczące liczby zapytań, co jest kluczowe dla naszego rozwiązania.  \n",
    "  \n",
    "Oczekuje się, że po wykonaniu kodu zawartego w tym notatniku, folder `data/raw/` zostanie uzupełniony danymi, które posłużą nam jako źródło w kolejnym etapie projektu.  "
   ]
  },
  {
   "cell_type": "markdown",
   "metadata": {},
   "source": [
    "# Konfiguracja notatnika"
   ]
  },
  {
   "cell_type": "markdown",
   "metadata": {},
   "source": [
    "## Import wymaganych bibliotek"
   ]
  },
  {
   "cell_type": "code",
   "execution_count": null,
   "metadata": {},
   "outputs": [],
   "source": []
  },
  {
   "cell_type": "markdown",
   "metadata": {},
   "source": [
    "## Konfiguracja sterownika oraz Selenium"
   ]
  },
  {
   "cell_type": "code",
   "execution_count": null,
   "metadata": {},
   "outputs": [],
   "source": []
  },
  {
   "cell_type": "markdown",
   "metadata": {},
   "source": [
    "# Pobieranie zawartości strony internetowej\n",
    "\n",
    "Ta część notatnika to kod do pobierania zawartości strony internetowej. Aby prawidłowo wykonać zadanie, należy wziąć pod uwagę następujące kroki:  \n",
    "- Upewnij się, że wszystkie dostępne dane na stronie zostały pobrane, sprawdzając, czy nie ma więcej stron z danymi.  \n",
    "- Zlokalizuj interesujące nas dane na stronie za pomocą narzędzi do inspekcji `html`.  \n",
    "- Nawiguj pomiędzy kolejnymi stronami danych, korzystając z mechanizmów przeglądarki lub analizując strukturę `url`.  \n",
    "  \n",
    "> Pamiętaj o przestrzeganiu ograniczeń z `FAQ` dotyczących liczby zapytań!  \n",
    "  \n",
    "Zapisz pobrane dane do folderu `data/raw/hockey_teams_page_{page_number}.html`. Na tym etapie pobieramy dane bez ich przetwarzania - analizą zajmiemy się później.  \n",
    "  \n",
    "Do pobrania zawartości `html` strony, możesz użyć `browser.page_source`. Upewnij się, że konfiguracja narzędzia do przeglądania stron (np. Selenium) jest gotowa do użycia.  \n",
    "  \n",
    "> (Opcjonalne) Jeśli jest wiele stron do pobrania, użyj funkcji [zfill](https://www.programiz.com/python-programming/methods/string/zfill) aby utrzymać porządek w nazwach plików, dodając wiodące zera do numerów stron.  \n",
    "\n"
   ]
  },
  {
   "cell_type": "code",
   "execution_count": null,
   "metadata": {},
   "outputs": [],
   "source": []
  },
  {
   "cell_type": "markdown",
   "metadata": {},
   "source": [
    "# Podsumowanie\n",
    "\n",
    "Pobranie surowych danych z naszego źródła pozwoliło zmniejszyć ryzyko problemów wynikających z aktualizacji strony podczas procesu pobierania. Metoda ta oferuje również dodatkową korzyść: umożliwia łatwy dostęp do danych w oryginalnej formie, co jest kluczowe, gdy zajdzie potrzeba ich ponownej obróbki.  \n",
    "  \n",
    "W kolejnym kroku skupimy się na wyodrębnieniu niezbędnych informacji ze stron `html`, kluczowych do przeprowadzenia analizy.  "
   ]
  }
 ],
 "metadata": {
  "kernelspec": {
   "display_name": ".venv",
   "language": "python",
   "name": "python3"
  },
  "language_info": {
   "codemirror_mode": {
    "name": "ipython",
    "version": 3
   },
   "file_extension": ".py",
   "mimetype": "text/x-python",
   "name": "python",
   "nbconvert_exporter": "python",
   "pygments_lexer": "ipython3",
   "version": "3.12.2"
  }
 },
 "nbformat": 4,
 "nbformat_minor": 2
}
